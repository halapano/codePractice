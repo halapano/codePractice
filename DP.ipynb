{
 "cells": [
  {
   "cell_type": "markdown",
   "metadata": {},
   "source": [
    "# Dynamic Programming\n",
    "- Dynamic Programming is a method for solving a complex problem by breaking it down into a collection of simpler subproblems, solving each of those subproblems just once, and storing their solutions using a memory-based data structure (array, map,etc). Each of the subproblem solutions is indexed in some way, typically based on the values of its input parameters, so as to facilitate its lookup. So the next time the same subproblem occurs, instead of recomputing its solution, one simply looks up the previously computed solution, thereby saving computation time. This technique of storing solutions to subproblems instead of recomputing them is called memoization.\n",
    "- https://blog.usejournal.com/top-50-dynamic-programming-practice-problems-4208fed71aa3"
   ]
  },
  {
   "cell_type": "markdown",
   "metadata": {},
   "source": [
    "## Easy"
   ]
  },
  {
   "cell_type": "markdown",
   "metadata": {},
   "source": [
    "## Medium"
   ]
  },
  {
   "cell_type": "markdown",
   "metadata": {},
   "source": [
    "### []Decibinary Numbers"
   ]
  },
  {
   "cell_type": "code",
   "execution_count": null,
   "metadata": {},
   "outputs": [],
   "source": [
    "# def db_value(arr):\n",
    "#     dv_arr = []\n",
    "#     for db in arr:\n",
    "#         str_db = str(db)\n",
    "#         dv = 0\n",
    "#         for i,digit in enumerate(reversed(str_db)):\n",
    "#             dv += (int(digit)* (2**i))        \n",
    "#         dv_arr.append(dv)    \n",
    "#     return dv_arr\n",
    "\n",
    "def db_value(db):\n",
    "    str_db = str(db)\n",
    "    dv = 0\n",
    "    for i,digit in enumerate(reversed(str_db)):\n",
    "        dv += (int(digit)* (2**i))        \n",
    "    return dv\n",
    "    \n",
    "def decibinaryNumbers(x):\n",
    "    pass"
   ]
  },
  {
   "cell_type": "code",
   "execution_count": null,
   "metadata": {},
   "outputs": [],
   "source": [
    "x= [1,2,3,4,10]\n",
    "ans = decibinaryNumbers(x)\n",
    "ans"
   ]
  },
  {
   "cell_type": "code",
   "execution_count": null,
   "metadata": {},
   "outputs": [],
   "source": [
    "[db_value(x) for x in range(0,1000,100)]"
   ]
  },
  {
   "cell_type": "markdown",
   "metadata": {},
   "source": [
    "###  Candies\n",
    "\n",
    "- 2019-11-02 10:36:17\n",
    "    - solve by myself,hahaha"
   ]
  },
  {
   "cell_type": "code",
   "execution_count": null,
   "metadata": {},
   "outputs": [],
   "source": [
    "def candies(n, arr):\n",
    "    \n",
    "    candy = [1] * n\n",
    "    \n",
    "    for i in range(1,n):\n",
    "        if arr[i] > arr[i-1]:\n",
    "            candy[i] = candy[i-1] + 1\n",
    "    \n",
    "    for i in reversed(range(0,n-1)):\n",
    "        if arr[i] > arr[i+1] and candy[i] <= candy[i+1]:\n",
    "            candy[i] = candy[i+1] + 1\n",
    "    \n",
    "    return sum(candy)"
   ]
  },
  {
   "cell_type": "code",
   "execution_count": null,
   "metadata": {},
   "outputs": [],
   "source": [
    "#arr = [2,4,3,5,2,6,4,5]\n",
    "arr = [2,4,2,6,1,7,8,9,2,1]\n",
    "n = len(arr)\n",
    "ans = candies(n,arr)\n",
    "ans"
   ]
  },
  {
   "cell_type": "markdown",
   "metadata": {},
   "source": [
    "###  [ ] Abbreviation\n",
    "- 2019-11-02 09:52:16\n",
    "    - revie 1hour can't understand, need practice on easy DP problem"
   ]
  },
  {
   "cell_type": "code",
   "execution_count": null,
   "metadata": {},
   "outputs": [],
   "source": [
    "set(['b','e'])- set(['a','b','c'])"
   ]
  },
  {
   "cell_type": "code",
   "execution_count": null,
   "metadata": {},
   "outputs": [],
   "source": [
    "# 1.capitalize lowercase in a /2. delete lowercase in a/3.can't delete uppercase.\n",
    "\n",
    "def abbreviation(a, b):\n",
    "#     c = []\n",
    "    \n",
    "    ai= bi = 0\n",
    "    la = len(a)\n",
    "    lb = len(b)\n",
    "    while bi < len(b):\n",
    "        while ai < la: \n",
    "            if a[ai].upper() == b[bi]:\n",
    "                ai +=1\n",
    "                if bi = lb -1:\n",
    "                    continue\n",
    "                else:\n",
    "                    bi +=1\n",
    "            elif a[ai].isupper():\n",
    "                return \"NO\"\n",
    "            elif a[ai].islower():\n",
    "                ai +=1\n",
    "        if bi < len(b):\n",
    "            return \"NO\"\n",
    "    \n",
    "    return \"YES\"\n",
    "    \n",
    "    ai = bi = 0\n",
    "    while ai < len(a):\n",
    "        \n"
   ]
  },
  {
   "cell_type": "code",
   "execution_count": null,
   "metadata": {},
   "outputs": [],
   "source": [
    "a = 'adBcd'\n",
    "\n",
    "b = 'ABCF'\n",
    "# 'ADBCD'\n",
    "\n",
    "if __name__ == '__main__':\n",
    "    ans = abbreviation(a,b)\n",
    "    print(ans)\n"
   ]
  },
  {
   "cell_type": "code",
   "execution_count": null,
   "metadata": {},
   "outputs": [],
   "source": [
    "c = 'cbBe'\n",
    "c.islower()"
   ]
  },
  {
   "cell_type": "code",
   "execution_count": null,
   "metadata": {},
   "outputs": [],
   "source": [
    "True or False"
   ]
  },
  {
   "cell_type": "markdown",
   "metadata": {},
   "source": [
    "### Max Array Sum"
   ]
  },
  {
   "cell_type": "code",
   "execution_count": null,
   "metadata": {},
   "outputs": [],
   "source": [
    "# recursion / for loop / a list for store result of each step \n",
    "# consider what's the ans of step1, step2,  \n",
    "def maxSubsetSum(arr):\n",
    "    \n",
    "    if max(arr) <= 0:\n",
    "        return max(arr)\n",
    "    \n",
    "    n = len(arr)\n",
    "    ss = [0] * n\n",
    "    ss[0], ss[1] = arr[0], max(arr[0],arr[1])\n",
    "    \n",
    "    for i in range(2,n):\n",
    "        ss[i] = max(ss[i-1], arr[i] + ss[i-2], arr[i])\n",
    "    \n",
    "    return ss[-1]\n",
    "        "
   ]
  },
  {
   "cell_type": "code",
   "execution_count": null,
   "metadata": {},
   "outputs": [],
   "source": [
    "arr = [-2,1,3,4,5,8]\n",
    "ans = maxSubsetSum(arr)\n",
    "ans"
   ]
  },
  {
   "cell_type": "code",
   "execution_count": null,
   "metadata": {},
   "outputs": [],
   "source": []
  }
 ],
 "metadata": {
  "kernelspec": {
   "display_name": "Python 3",
   "language": "python",
   "name": "python3"
  },
  "language_info": {
   "codemirror_mode": {
    "name": "ipython",
    "version": 3
   },
   "file_extension": ".py",
   "mimetype": "text/x-python",
   "name": "python",
   "nbconvert_exporter": "python",
   "pygments_lexer": "ipython3",
   "version": "3.7.0"
  },
  "toc": {
   "base_numbering": 1,
   "nav_menu": {},
   "number_sections": true,
   "sideBar": true,
   "skip_h1_title": false,
   "title_cell": "Table of Contents",
   "title_sidebar": "Contents",
   "toc_cell": false,
   "toc_position": {},
   "toc_section_display": true,
   "toc_window_display": true
  }
 },
 "nbformat": 4,
 "nbformat_minor": 2
}
