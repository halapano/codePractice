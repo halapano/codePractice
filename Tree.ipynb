{
 "cells": [
  {
   "cell_type": "markdown",
   "metadata": {},
   "source": [
    "# TREE\n",
    "- The depth of a node is the number of edges from the node to the tree's root node\n",
    "- DFS: deep first search, for a tree ,it just use the recursive"
   ]
  },
  {
   "cell_type": "markdown",
   "metadata": {},
   "source": [
    "## BST"
   ]
  },
  {
   "cell_type": "code",
   "execution_count": 10,
   "metadata": {},
   "outputs": [],
   "source": [
    "class Node:\n",
    "    def __init__(self,val):\n",
    "        self.val = val\n",
    "        self.left = None\n",
    "        self.right  = None\n",
    "\n",
    "\n",
    "class BinarySearchTree:\n",
    "    \n",
    "    def __init__(self):\n",
    "        self.root=None\n",
    "        \n",
    "    def create(self,val):\n",
    "        \n",
    "        new_node = Node(val)\n",
    "        \n",
    "        if self.empty():\n",
    "            self.root = new_node\n",
    "        else:\n",
    "            curr_node = self.root\n",
    "            while curr_node != None:\n",
    "                parent_node = curr_node                \n",
    "                if new_node.val < curr_node.val:\n",
    "                    curr_node = curr_node.left\n",
    "                else:\n",
    "                    curr_node = curr_node.right\n",
    "            \n",
    "            if new_node.val < parent_node.val:\n",
    "                parent_node.left = new_node\n",
    "            else:\n",
    "                parent_node.right = new_node\n",
    "    \n",
    "    def delete(self,val):\n",
    "        pass\n",
    "             \n",
    "    \n",
    "    def empty(self):\n",
    "        if self.root is None:\n",
    "            return True\n",
    "        return False\n",
    "    \n",
    "\n",
    "def wfs_print(root):\n",
    "   \n",
    "    if not root: return\n",
    "    \n",
    "    stack = []\n",
    "    ans = []\n",
    "\n",
    "    stack.append(root)\n",
    "    \n",
    "    while stack:\n",
    "        \n",
    "        node = stack.pop(0)\n",
    "        ans.append(node.val)\n",
    "        \n",
    "        if node.left:\n",
    "            stack.append(node.left)\n",
    "        if node.right:\n",
    "            stack.append(node.right)\n",
    "    \n",
    "    return ans\n",
    "    \n",
    "\n",
    "# DFS_inorder_print\n",
    "def preorder_print_tree(root):\n",
    "   \n",
    "    if not root: return\n",
    "    \n",
    "    stack = []\n",
    "    ans = []\n",
    "\n",
    "    stack.append(root)\n",
    "    \n",
    "    while stack:\n",
    "        \n",
    "        node = stack.pop()\n",
    "        ans.append(node.val)\n",
    "        \n",
    "        if node.right:\n",
    "            stack.append(node.right)\n",
    "        if node.left:\n",
    "            stack.append(node.left)\n",
    "    \n",
    "    return ans\n"
   ]
  },
  {
   "cell_type": "code",
   "execution_count": 11,
   "metadata": {},
   "outputs": [
    {
     "name": "stdout",
     "output_type": "stream",
     "text": [
      "[5, 3, 1, 4, 7, 6, 8]\n"
     ]
    }
   ],
   "source": [
    "# test case\n",
    "if __name__ == '__main__':\n",
    "        \n",
    "    \n",
    "    bst = BinarySearchTree()\n",
    "    \n",
    "    arr = [5,3,1,4,7,6,8]\n",
    "    \n",
    "    lenth = len(arr)\n",
    "    \n",
    "    for i in range(lenth):\n",
    "        bst.create(arr[i])\n",
    "    \n",
    "    ans = preorder_print_tree(bst.root)\n",
    "\n",
    "    print(ans)"
   ]
  },
  {
   "cell_type": "markdown",
   "metadata": {},
   "source": [
    "## [ ]BT\n",
    "- crate the tree from a list inclued null value"
   ]
  },
  {
   "cell_type": "markdown",
   "metadata": {},
   "source": [
    "## EASY"
   ]
  },
  {
   "cell_type": "markdown",
   "metadata": {},
   "source": [
    "### 257. Binary Tree Paths\n",
    "\n",
    "- Given a binary tree, return all root-to-leaf paths.\n",
    "\n",
    "Note: A leaf is a node with no children.\n",
    "\n",
    "Example:\n",
    "\n",
    "Input:\n",
    "\n",
    "   1\n",
    " /   \\\n",
    "2     3\n",
    " \\\n",
    "  5\n",
    "\n",
    "Output: [\"1->2->5\", \"1->3\"]\n",
    "\n",
    "Explanation: All root-to-leaf paths are: 1->2->5, 1->3"
   ]
  },
  {
   "cell_type": "code",
   "execution_count": 18,
   "metadata": {},
   "outputs": [],
   "source": [
    "# Definition for a binary tree node.\n",
    "# class TreeNode:\n",
    "#     def __init__(self, x):\n",
    "#         self.val = x\n",
    "#         self.left = None\n",
    "#         self.right = None\n",
    "\n",
    "class Solution:\n",
    "    def binaryTreePaths(self, root):\n",
    "      \n",
    "        def helper(node,currPath):\n",
    "            if not node.left and not node.right:\n",
    "                res.append(currPath+[node.val])\n",
    "            \n",
    "            if node.left:\n",
    "                helper(node.left,currPath+[node.val])\n",
    "            \n",
    "            if node.right:\n",
    "                helper(node.right,currPath+[node.val])\n",
    "            \n",
    "        res = []\n",
    "        if not root:\n",
    "            return res\n",
    "        \n",
    "        helper(root,[])\n",
    "        \n",
    "        return ['->'.join(str(val) for val in path) for path in res]\n",
    "        \n",
    "        "
   ]
  },
  {
   "cell_type": "code",
   "execution_count": 19,
   "metadata": {},
   "outputs": [
    {
     "name": "stdout",
     "output_type": "stream",
     "text": [
      "['5->3->1', '5->3->4', '5->7->6', '5->7->8']\n"
     ]
    }
   ],
   "source": [
    "# test case\n",
    "if __name__ == '__main__':\n",
    "    bst = BinarySearchTree()\n",
    "    \n",
    "    arr = [5,3,1,4,7,6,8]\n",
    "    \n",
    "    lenth = len(arr)\n",
    "    \n",
    "    for i in range(lenth):\n",
    "        bst.create(arr[i])\n",
    "\n",
    "    ans = Solution().binaryTreePaths(bst.root)\n",
    "    #ans = preorder_print_tree(bst.root)\n",
    "\n",
    "    print(ans)"
   ]
  },
  {
   "cell_type": "markdown",
   "metadata": {},
   "source": [
    "### 437. Path Sum III\n",
    "\n",
    "```\n",
    "You are given a binary tree in which each node contains an integer value.\n",
    "\n",
    "Find the number of paths that sum to a given value.\n",
    "\n",
    "The path does not need to start or end at the root or a leaf, but it must go downwards (traveling only from parent nodes to child nodes).\n",
    "\n",
    "The tree has no more than 1,000 nodes and the values are in the range -1,000,000 to 1,000,000.\n",
    "\n",
    "Example:\n",
    "\n",
    "root = [10,5,-3,3,2,null,11,3,-2,null,1], sum = 8\n",
    "\n",
    "      10\n",
    "     /  \\\n",
    "    5   -3\n",
    "   / \\    \\\n",
    "  3   2   11\n",
    " / \\   \\\n",
    "3  -2   1\n",
    "\n",
    "Return 3. The paths that sum to 8 are:\n",
    "\n",
    "1.  5 -> 3\n",
    "2.  5 -> 2 -> 1\n",
    "3. -3 -> 11\n",
    "\n",
    "```"
   ]
  },
  {
   "cell_type": "code",
   "execution_count": null,
   "metadata": {},
   "outputs": [],
   "source": [
    "# Definition for a binary tree node.\n",
    "# class TreeNode:\n",
    "#     def __init__(self, x):\n",
    "#         self.val = x\n",
    "#         self.left = None\n",
    "#         self.right = None\n",
    "class Solution():\n",
    "    def pathSum(self, root, target):\n",
    "        self.result = 0\n",
    "        cache = {0:1}\n",
    "\n",
    "        def dfs(root, currPathSum):\n",
    "            if not root: return  \n",
    "\n",
    "            currPathSum += root.val\n",
    "            oldPathSum = currPathSum - target\n",
    "            \n",
    "            # when meet the node(3), the cache is {0:1,10:1,15:1}.\n",
    "            # ops = 10 is in cache.\n",
    "            # so result += 1\n",
    "            self.result += cache.get(oldPathSum, 0)\n",
    "            cache[currPathSum] = cache.get(currPathSum, 0) + 1\n",
    "\n",
    "\n",
    "            dfs(root.left, currPathSum)\n",
    "            dfs(root.right, currPathSum)\n",
    "\n",
    "            cache[currPathSum] -= 1\n",
    "\n",
    "        dfs(root, 0)\n",
    "        return self.result\n",
    "        "
   ]
  },
  {
   "cell_type": "code",
   "execution_count": 1,
   "metadata": {},
   "outputs": [],
   "source": [
    "# M1, can't rembeber where the answer come from\n",
    "# even can't understand the answer.\n",
    "\n",
    "# Definition for a binary tree node.\n",
    "# class TreeNode:\n",
    "#     def __init__(self, x):\n",
    "#         self.val = x\n",
    "#         self.left = None\n",
    "#         self.right = None\n",
    "\n",
    "class Solution:\n",
    "    \n",
    "    \n",
    "    # suppose start from the first left son node, \n",
    "    # because according the question, the start not restricted to root node\n",
    "    def helper(self,root,target,acc,hashmap):\n",
    "        if not root:\n",
    "            return 0\n",
    "        \n",
    "        count = 0\n",
    "        \n",
    "        if acc == target:\n",
    "            count += 1\n",
    "        if acc-target in hashmap:\n",
    "            count += hashmap[acc-target]\n",
    "        if acc in hashmap:\n",
    "            hashmap[acc] +=1\n",
    "        else:\n",
    "            hashmap[acc] = 1\n",
    "            \n",
    "        result = count + self.helper(root.left,target,acc,hashmap) \\\n",
    "                + self.helper(root.right,target,acc,hashmap)\n",
    "        \n",
    "        hashmap[acc] = hashmap[acc] - 1\n",
    "        \n",
    "        return result\n",
    "        \n",
    "        \n",
    "    \n",
    "    def pathSum(self, root, sum):\n",
    "        hashmap = {}\n",
    "        return helper(root,sum,0,hashmap)\n",
    "        \n",
    "        "
   ]
  },
  {
   "cell_type": "markdown",
   "metadata": {},
   "source": [
    "### 235. Lowest Common Ancestor of a Binary Search Tree\n",
    "\n",
    "```\n",
    "Given a binary search tree (BST), find the lowest common ancestor (LCA) of two given nodes in the BST.\n",
    "\n",
    "According to the definition of LCA on Wikipedia: “The lowest common ancestor is defined between two nodes p and q as the lowest node in T that has both p and q as descendants (where we allow a node to be a descendant of itself).”\n",
    "\n",
    "Given binary search tree:  root = [6,2,8,0,4,7,9,null,null,3,5]\n",
    " \n",
    "\n",
    "Example 1:\n",
    "\n",
    "Input: root = [6,2,8,0,4,7,9,null,null,3,5], p = 2, q = 8\n",
    "Output: 6\n",
    "Explanation: The LCA of nodes 2 and 8 is 6.\n",
    "Example 2:\n",
    "\n",
    "Input: root = [6,2,8,0,4,7,9,null,null,3,5], p = 2, q = 4\n",
    "Output: 2\n",
    "Explanation: The LCA of nodes 2 and 4 is 2, since a node can be a descendant of itself according to the LCA definition.\n",
    "```"
   ]
  },
  {
   "cell_type": "code",
   "execution_count": 68,
   "metadata": {},
   "outputs": [],
   "source": [
    "class Solution(object):\n",
    "    def lowestCommonAncestor(self, root, p, q):\n",
    "        \"\"\"\n",
    "        :type root: TreeNode\n",
    "        :type p: TreeNode\n",
    "        :type q: TreeNode\n",
    "        :rtype: TreeNode\n",
    "        \"\"\"\n",
    "        \n",
    "        if root.label < p and root.label < q:\n",
    "            return self.lowestCommonAncestor(root.right,p,q)\n",
    "        if root.label > p and root.label > q:\n",
    "            return self.lowestCommonAncestor(root.left,p,q)\n",
    "        return root.label\n",
    "        \n",
    "        \n",
    "        \n",
    "        "
   ]
  },
  {
   "cell_type": "code",
   "execution_count": 70,
   "metadata": {},
   "outputs": [
    {
     "name": "stdout",
     "output_type": "stream",
     "text": [
      "6\n"
     ]
    }
   ],
   "source": [
    "if __name__ == '__main__':\n",
    "    t1 = BinarySearchTree()\n",
    "    \n",
    "    t = 6\n",
    "\n",
    "    arr1 = [6,2,8,0,4,7,9,3,5]\n",
    "\n",
    "\n",
    "    for i in range(t):\n",
    "        t1.create(arr1[i])\n",
    "\n",
    "    obj = Solution()\n",
    "    print(obj.lowestCommonAncestor(t1.root,2,8))"
   ]
  },
  {
   "cell_type": "markdown",
   "metadata": {},
   "source": [
    "### 100. Same Tree\n",
    "\n",
    "```\n",
    "Given two binary trees, write a function to check if they are the same or not.\n",
    "\n",
    "Two binary trees are considered the same if they are structurally identical and the nodes have the same value.\n",
    "\n",
    "Example 1:\n",
    "\n",
    "Input:     1         1\n",
    "          / \\       / \\\n",
    "         2   3     2   3\n",
    "\n",
    "        [1,2,3],   [1,2,3]\n",
    "\n",
    "Output: true\n",
    "Example 2:\n",
    "\n",
    "Input:     1         1\n",
    "          /           \\\n",
    "         2             2\n",
    "\n",
    "        [1,2],     [1,null,2]\n",
    "\n",
    "Output: false\n",
    "Example 3:\n",
    "\n",
    "Input:     1         1\n",
    "          / \\       / \\\n",
    "         2   1     1   2\n",
    "\n",
    "        [1,2,1],   [1,1,2]\n",
    "\n",
    "Output: false\n",
    "\n",
    "\n",
    "```"
   ]
  },
  {
   "cell_type": "code",
   "execution_count": 51,
   "metadata": {},
   "outputs": [],
   "source": [
    "# For recursion, the check for arguments is in the start of the function rather than \n",
    "def isSameTree(p,q):\n",
    "    \n",
    "    if (a and not b) or (b and not a):\n",
    "        return False\n",
    "    \n",
    "    if (p is None) and (q is None):\n",
    "        return True\n",
    "    \n",
    "    if p.label == q.label:\n",
    "        return isSameTree(p.left,q.left) and isSameTree(p.right,q.right)\n",
    "    return False"
   ]
  },
  {
   "cell_type": "code",
   "execution_count": 52,
   "metadata": {},
   "outputs": [
    {
     "name": "stdout",
     "output_type": "stream",
     "text": [
      "False\n"
     ]
    }
   ],
   "source": [
    "if __name__ == '__main__':\n",
    "    t1 = BinarySearchTree()\n",
    "    t2 = BinarySearchTree()\n",
    "    \n",
    "    t = 6\n",
    "\n",
    "    arr1 = [3,2,1,5,4,6]\n",
    "    arr2 = [3,2,1,5,4,7]\n",
    "\n",
    "    for i in range(t):\n",
    "        t1.create(arr1[i])\n",
    "        t2.create(arr2[i])\n",
    "\n",
    "    print(isSameTree(t1.root,t2.root))"
   ]
  },
  {
   "cell_type": "code",
   "execution_count": 50,
   "metadata": {},
   "outputs": [
    {
     "data": {
      "text/plain": [
       "True"
      ]
     },
     "execution_count": 50,
     "metadata": {},
     "output_type": "execute_result"
    }
   ],
   "source": [
    "a = True\n",
    "b = False\n",
    "not b and a"
   ]
  },
  {
   "cell_type": "markdown",
   "metadata": {},
   "source": [
    "### Binary Search Tree : Lowest Common Ancestor"
   ]
  },
  {
   "cell_type": "code",
   "execution_count": null,
   "metadata": {},
   "outputs": [],
   "source": [
    "def lca(root, v1, v2):\n",
    "    \n",
    "    if root.info > v1 and root.info > v2:\n",
    "        return lca(root.left,v1,v2)\n",
    "    \n",
    "    if root.info < v1 and root.info < v2:\n",
    "        return lca(root.right,v1,v2)\n",
    "    \n",
    "    return root\n",
    "                \n",
    "    \n",
    "\n",
    "tree = BinarySearchTree()\n",
    "t = 6\n",
    "\n",
    "arr = [4,2,3,1,7,6]\n",
    "\n",
    "for i in range(t):\n",
    "    tree.create(arr[i])\n",
    "\n",
    "v = [1,7]\n",
    "\n",
    "ans = lca(tree.root, v[0], v[1])\n",
    "print (ans.info)\n"
   ]
  },
  {
   "cell_type": "code",
   "execution_count": null,
   "metadata": {},
   "outputs": [],
   "source": []
  },
  {
   "cell_type": "markdown",
   "metadata": {},
   "source": [
    "### Tree: Height of a Binary Tree"
   ]
  },
  {
   "cell_type": "code",
   "execution_count": 41,
   "metadata": {},
   "outputs": [],
   "source": [
    "def is_leaf(node):\n",
    "    return (node.left is None) and (node.right is None)\n",
    "\n",
    "def height(root):\n",
    "    # a bit tricky\n",
    "    if root is None or is_leaf(root):\n",
    "        return 0\n",
    "    \n",
    "    return 1 + max(height(root.left),height(root.right))\n"
   ]
  },
  {
   "cell_type": "code",
   "execution_count": 42,
   "metadata": {},
   "outputs": [
    {
     "name": "stdout",
     "output_type": "stream",
     "text": [
      "2\n"
     ]
    }
   ],
   "source": [
    "if __name__ == '__main__':\n",
    "    tree = BinarySearchTree()\n",
    "    t = 6\n",
    "\n",
    "    arr = [3,2,1,5,4,6]\n",
    "\n",
    "    for i in range(t):\n",
    "        tree.create(arr[i])\n",
    "\n",
    "    print(height(tree.root))"
   ]
  },
  {
   "cell_type": "markdown",
   "metadata": {},
   "source": [
    "## MEDIUM"
   ]
  },
  {
   "cell_type": "markdown",
   "metadata": {},
   "source": [
    "### 98. Validate Binary Search Tree\n",
    "\n",
    "\n",
    "- https://en.wikipedia.org/wiki/Binary_search_tree\n",
    "```\n",
    "\n",
    "Given a binary tree, determine if it is a valid binary search tree (BST).\n",
    "\n",
    "Assume a BST is defined as follows:\n",
    "\n",
    "The left subtree of a node contains only nodes with keys less than the node's key.\n",
    "The right subtree of a node contains only nodes with keys greater than the node's key.\n",
    "Both the left and right subtrees must also be binary search trees.\n",
    " \n",
    "\n",
    "Example 1:\n",
    "\n",
    "    2\n",
    "   / \\\n",
    "  1   3\n",
    "\n",
    "Input: [2,1,3]\n",
    "Output: true\n",
    "Example 2:\n",
    "\n",
    "    5\n",
    "   / \\\n",
    "  1   4\n",
    "     / \\\n",
    "    3   6\n",
    "\n",
    "Input: [5,1,4,null,null,3,6]\n",
    "Output: false\n",
    "Explanation: The root node's value is 5 but its right child's value is 4.\n",
    "```"
   ]
  },
  {
   "cell_type": "code",
   "execution_count": 16,
   "metadata": {},
   "outputs": [],
   "source": [
    "# Definition for a binary tree node.\n",
    "# class TreeNode(object):\n",
    "#     def __init__(self, x):\n",
    "#         self.val = x\n",
    "#         self.left = None\n",
    "#         self.right = None\n",
    "\n",
    "\n",
    "\n",
    "class Solution(object):\n",
    "    def isValidBST(self, root):\n",
    "        \"\"\"\n",
    "        :type root: TreeNode\n",
    "        :rtype: bool\n",
    "        \"\"\"\n",
    "        return self.isBST(root, float('-inf'),float('inf'))\n",
    "\n",
    "        \n",
    "    def isBST(self,root,minKey,maxKey):\n",
    "        if not root:\n",
    "            return True   \n",
    "        if root.label < minKey or root.label > maxKey:\n",
    "            return False\n",
    "        return self.isBST(root.left, minKey, root.label) and self.isBST(root.right, root.label,maxKey)"
   ]
  },
  {
   "cell_type": "code",
   "execution_count": 17,
   "metadata": {},
   "outputs": [
    {
     "name": "stdout",
     "output_type": "stream",
     "text": [
      "True\n"
     ]
    }
   ],
   "source": [
    "# test case\n",
    "if __name__ == '__main__':\n",
    "    t1 = BinarySearchTree()\n",
    "\n",
    "    \n",
    "    t = 6\n",
    "\n",
    "    arr1 = [3,2,1,5,4,6]\n",
    "\n",
    "\n",
    "    for i in range(t):\n",
    "        t1.create(arr1[i])\n",
    "\n",
    "    obj = Solution()\n",
    "    ans = obj.isValidBST(t1.root)\n",
    "\n",
    "    print(ans)"
   ]
  },
  {
   "cell_type": "markdown",
   "metadata": {},
   "source": [
    "### 199. Binary Tree Right Side View\n",
    "\n",
    "```\n",
    "Given a binary tree, imagine yourself standing on the right side of it, return the values of the nodes you can see ordered from top to bottom.\n",
    "\n",
    "Example:\n",
    "\n",
    "Input: [1,2,3,null,5,null,4]\n",
    "Output: [1, 3, 4]\n",
    "Explanation:\n",
    "\n",
    "   1            <---\n",
    " /   \\\n",
    "2     3         <---\n",
    " \\     \\\n",
    "  5     4       <---\n",
    "\n",
    "```"
   ]
  },
  {
   "cell_type": "code",
   "execution_count": 67,
   "metadata": {},
   "outputs": [],
   "source": [
    "class Solution(object):\n",
    "    def rightSideView(self, root):\n",
    "        \"\"\"\n",
    "        :type root: TreeNode\n",
    "        :rtype: List[int]\n",
    "        \"\"\"\n",
    "        res = []\n",
    "        self.recursHelper(root,0,res)\n",
    "        \n",
    "        ans = [x[-1] for x in res]\n",
    "        return ans\n",
    "        \n",
    "    def recursHelper(self,root,level,res):\n",
    "        if not root:\n",
    "            return None\n",
    "        \n",
    "        if len(res) < level + 1:\n",
    "            res.append([])\n",
    "        \n",
    "        res[level].append(root.label)\n",
    "        self.recursHelper(root.left,level+1,res)\n",
    "        self.recursHelper(root.right,level+1,res)\n",
    "        "
   ]
  },
  {
   "cell_type": "code",
   "execution_count": 68,
   "metadata": {},
   "outputs": [
    {
     "name": "stdout",
     "output_type": "stream",
     "text": [
      "[3, 5, 6]\n"
     ]
    }
   ],
   "source": [
    "if __name__ == '__main__':\n",
    "    tree = BinarySearchTree()\n",
    "    t = 6\n",
    "\n",
    "    arr = [3,2,1,5,4,6]\n",
    "\n",
    "    for i in range(t):\n",
    "        tree.create(arr[i])\n",
    "    \n",
    "    obj = Solution()\n",
    "    ans = obj.rightSideView(tree.root)\n",
    "    \n",
    "    print(ans)"
   ]
  },
  {
   "cell_type": "markdown",
   "metadata": {},
   "source": [
    "### Binary Tree Level Order Traversal\n",
    "\n",
    "```\n",
    "Given a binary tree, return the level order traversal of its nodes' values. (ie, from left to right, level by level).\n",
    "\n",
    "For example:\n",
    "Given binary tree [3,9,20,null,null,15,7],\n",
    "    3\n",
    "   / \\\n",
    "  9  20\n",
    "    /  \\\n",
    "   15   7\n",
    "return its level order traversal as:\n",
    "[\n",
    "  [3],\n",
    "  [9,20],\n",
    "  [15,7]\n",
    "]\n",
    "```"
   ]
  },
  {
   "cell_type": "code",
   "execution_count": 57,
   "metadata": {},
   "outputs": [],
   "source": [
    "# M1 Recursion\n",
    "def levelOrder(root):\n",
    "    res = []\n",
    "    recurHelper(root,0,res)\n",
    "    return res\n",
    "\n",
    "def recurHelper(root,level,res):\n",
    "    if not root:\n",
    "        return\n",
    "    \n",
    "    if len(res) < level + 1:\n",
    "        res.append([])\n",
    "    \n",
    "    res[level].append(root.label)\n",
    "    recurHelper(root.left,level+1,res)\n",
    "    recurHelper(root.right,level+1,res)"
   ]
  },
  {
   "cell_type": "code",
   "execution_count": 58,
   "metadata": {},
   "outputs": [
    {
     "name": "stdout",
     "output_type": "stream",
     "text": [
      "[[]]\n",
      "[[3], []]\n",
      "[[3], [2], []]\n",
      "[[3], [2], [1]]\n",
      "[[3], [2, 5], [1]]\n",
      "[[3], [2, 5], [1, 4]]\n",
      "[[3], [2, 5], [1, 4, 6]]\n"
     ]
    }
   ],
   "source": [
    "if __name__ == '__main__':\n",
    "    tree = BinarySearchTree()\n",
    "    t = 6\n",
    "\n",
    "    arr = [3,2,1,5,4,6]\n",
    "\n",
    "    for i in range(t):\n",
    "        tree.create(arr[i])\n",
    "\n",
    "    print(levelOrder(tree.root))"
   ]
  },
  {
   "cell_type": "markdown",
   "metadata": {},
   "source": [
    "### [x]Trees: Is This a Binary Search Tree?\n",
    "- correct in local bur wrong in hr."
   ]
  },
  {
   "cell_type": "code",
   "execution_count": 6,
   "metadata": {},
   "outputs": [],
   "source": [
    "# def is_leaf(root):\n",
    "#     return (root.left is None) and (root.right is None)\n",
    "\n",
    "\n",
    "# return True or False\n",
    "def checkBST(root):\n",
    "    \n",
    "    if root is None:\n",
    "        return True\n",
    "       \n",
    "    if (root.left and (root.left.label >= root.label)) or (root.right and (root.right.label <= root.label)):\n",
    "        return False\n",
    "    else:\n",
    "        return checkBST(root.left) and checkBST(root.right)\n",
    "    "
   ]
  },
  {
   "cell_type": "code",
   "execution_count": 7,
   "metadata": {},
   "outputs": [
    {
     "ename": "AttributeError",
     "evalue": "'Node' object has no attribute 'data'",
     "output_type": "error",
     "traceback": [
      "\u001b[1;31m---------------------------------------------------------------------------\u001b[0m",
      "\u001b[1;31mAttributeError\u001b[0m                            Traceback (most recent call last)",
      "\u001b[1;32m<ipython-input-7-90d9d9567556>\u001b[0m in \u001b[0;36m<module>\u001b[1;34m\u001b[0m\n\u001b[0;32m      7\u001b[0m     \u001b[0mtree\u001b[0m\u001b[1;33m.\u001b[0m\u001b[0mcreate\u001b[0m\u001b[1;33m(\u001b[0m\u001b[0marr\u001b[0m\u001b[1;33m[\u001b[0m\u001b[0mi\u001b[0m\u001b[1;33m]\u001b[0m\u001b[1;33m)\u001b[0m\u001b[1;33m\u001b[0m\u001b[1;33m\u001b[0m\u001b[0m\n\u001b[0;32m      8\u001b[0m \u001b[1;33m\u001b[0m\u001b[0m\n\u001b[1;32m----> 9\u001b[1;33m \u001b[0mcheckBST\u001b[0m\u001b[1;33m(\u001b[0m\u001b[0mtree\u001b[0m\u001b[1;33m.\u001b[0m\u001b[0mroot\u001b[0m\u001b[1;33m)\u001b[0m\u001b[1;33m\u001b[0m\u001b[1;33m\u001b[0m\u001b[0m\n\u001b[0m",
      "\u001b[1;32m<ipython-input-6-cf0f084e9504>\u001b[0m in \u001b[0;36mcheckBST\u001b[1;34m(root)\u001b[0m\n\u001b[0;32m      9\u001b[0m         \u001b[1;32mreturn\u001b[0m \u001b[1;32mTrue\u001b[0m\u001b[1;33m\u001b[0m\u001b[1;33m\u001b[0m\u001b[0m\n\u001b[0;32m     10\u001b[0m \u001b[1;33m\u001b[0m\u001b[0m\n\u001b[1;32m---> 11\u001b[1;33m     \u001b[1;32mif\u001b[0m \u001b[1;33m(\u001b[0m\u001b[0mroot\u001b[0m\u001b[1;33m.\u001b[0m\u001b[0mleft\u001b[0m \u001b[1;32mand\u001b[0m \u001b[1;33m(\u001b[0m\u001b[0mroot\u001b[0m\u001b[1;33m.\u001b[0m\u001b[0mleft\u001b[0m\u001b[1;33m.\u001b[0m\u001b[0mdata\u001b[0m \u001b[1;33m>=\u001b[0m \u001b[0mroot\u001b[0m\u001b[1;33m.\u001b[0m\u001b[0mdata\u001b[0m\u001b[1;33m)\u001b[0m\u001b[1;33m)\u001b[0m \u001b[1;32mor\u001b[0m \u001b[1;33m(\u001b[0m\u001b[0mroot\u001b[0m\u001b[1;33m.\u001b[0m\u001b[0mright\u001b[0m \u001b[1;32mand\u001b[0m \u001b[1;33m(\u001b[0m\u001b[0mroot\u001b[0m\u001b[1;33m.\u001b[0m\u001b[0mright\u001b[0m\u001b[1;33m.\u001b[0m\u001b[0mdata\u001b[0m \u001b[1;33m<=\u001b[0m \u001b[0mroot\u001b[0m\u001b[1;33m.\u001b[0m\u001b[0mdata\u001b[0m\u001b[1;33m)\u001b[0m\u001b[1;33m)\u001b[0m\u001b[1;33m:\u001b[0m\u001b[1;33m\u001b[0m\u001b[1;33m\u001b[0m\u001b[0m\n\u001b[0m\u001b[0;32m     12\u001b[0m         \u001b[1;32mreturn\u001b[0m \u001b[1;32mFalse\u001b[0m\u001b[1;33m\u001b[0m\u001b[1;33m\u001b[0m\u001b[0m\n\u001b[0;32m     13\u001b[0m     \u001b[1;32melse\u001b[0m\u001b[1;33m:\u001b[0m\u001b[1;33m\u001b[0m\u001b[1;33m\u001b[0m\u001b[0m\n",
      "\u001b[1;31mAttributeError\u001b[0m: 'Node' object has no attribute 'data'"
     ]
    }
   ],
   "source": [
    "tree = BinarySearchTree()\n",
    "t = 6\n",
    "\n",
    "arr = [3,2,1,5,4,6]\n",
    "\n",
    "for i in range(t):\n",
    "    tree.create(arr[i])\n",
    "\n",
    "checkBST(tree.root)"
   ]
  },
  {
   "cell_type": "markdown",
   "metadata": {},
   "source": [
    "### 144. Binary Tree Preorder Traversal\n",
    "\n",
    "Given a binary tree, return the preorder traversal of its nodes' values.\n",
    "\n",
    "Example:\n",
    "\n",
    "Input: [1,null,2,3]\n",
    "   1\n",
    "    \\\n",
    "     2\n",
    "    /\n",
    "   3\n",
    "\n",
    "Output: [1,2,3]\n",
    "Follow up: Recursive solution is trivial, could you do it iteratively?\n"
   ]
  },
  {
   "cell_type": "code",
   "execution_count": null,
   "metadata": {},
   "outputs": [],
   "source": [
    "# Definition for a binary tree node.\n",
    "# class TreeNode:\n",
    "#     def __init__(self, x):\n",
    "#         self.val = x\n",
    "#         self.left = None\n",
    "#         self.right = None\n",
    "\n",
    "class Solution:\n",
    "    def preorderTraversal(self, root):\n",
    "        \"\"\"\n",
    "        :type root: TreeNode\n",
    "        :rtype: List[int]\n",
    "        \"\"\"\n",
    "# M3  Iterative\n",
    "        \n",
    "        ans = []\n",
    "        if not root:\n",
    "            return ans\n",
    "        stack = [root]\n",
    "        while stack:\n",
    "            node = stack.pop()\n",
    "            ans.append()\n",
    "            # fist add right, then left\n",
    "            if node.right:\n",
    "                stack.append(node.right)\n",
    "            if node.left:\n",
    "                stack.append(node.left)\n",
    "        return ans\n",
    "        \n",
    "        # M2 , recursion 2\n",
    "\n",
    "#         ans = []\n",
    "#         if not root:\n",
    "#             return ans\n",
    "#         # exttend(iterable)\n",
    "#         #ans.extend(root.val)\n",
    "#         ans.append(root.val)\n",
    "#         if root.left:\n",
    "#             ans.extend(self.preorderTraversal(root.left))\n",
    "#         if root.right:\n",
    "#             ans.extend(self.preorderTraversal(root.right))\n",
    "#         return ans\n",
    "        \n",
    "        # M1 , recursion is not work, append vs extend\n",
    "#         ans = []\n",
    "#         current = root\n",
    "#         if not current:\n",
    "#             return\n",
    "#         ans.extend(current.val)\n",
    "#         ans.append(self.preorderTraversal(current.lef))\n",
    "#         self.append(preorderTraversal(current.right))\n",
    "#         return ans\n",
    "\n",
    "\n",
    "\n",
    "        \n",
    "    "
   ]
  },
  {
   "cell_type": "markdown",
   "metadata": {},
   "source": [
    "## HARD"
   ]
  },
  {
   "cell_type": "markdown",
   "metadata": {},
   "source": [
    "### 124. [ ] Binary Tree Maximum Path Sum\n",
    "\n",
    "```\n",
    "Given a non-empty binary tree, find the maximum path sum.\n",
    "\n",
    "For this problem, a path is defined as any sequence of nodes from some starting node to any node in the tree along the parent-child connections. The path must contain at least one node and does not need to go through the root.\n",
    "\n",
    "Example 1:\n",
    "\n",
    "Input: [1,2,3]\n",
    "\n",
    "       1\n",
    "      / \\\n",
    "     2   3\n",
    "\n",
    "Output: 6\n",
    "Example 2:\n",
    "\n",
    "Input: [-10,9,20,null,null,15,7]\n",
    "\n",
    "   -10\n",
    "   / \\\n",
    "  9  20\n",
    "    /  \\\n",
    "   15   7\n",
    "\n",
    "Output: 42\n",
    "\n",
    "```"
   ]
  },
  {
   "cell_type": "code",
   "execution_count": 36,
   "metadata": {},
   "outputs": [],
   "source": [
    "def maxPathSum(root):\n",
    "    pass"
   ]
  },
  {
   "cell_type": "code",
   "execution_count": null,
   "metadata": {},
   "outputs": [],
   "source": []
  },
  {
   "cell_type": "markdown",
   "metadata": {},
   "source": [
    "### [ ] Balanced Forest"
   ]
  },
  {
   "cell_type": "code",
   "execution_count": null,
   "metadata": {},
   "outputs": [],
   "source": [
    "# three subtree len(set(sum(subree))) = 2,\n",
    "#  Imagine grabbing any node, and letting the others hang-down.\n",
    "\n",
    "from collections import defaultdict\n",
    "\n",
    "def balancedForest(c, edges):\n",
    "    \n",
    "    n = len(c)\n",
    "    g = defaultdict(set)\n",
    "    for k,v in edges:\n",
    "        g[k].add(v)\n",
    "        g[v].add(k)\n",
    "        \n",
    "    dp = [[0] * n for _ in range(n)]\n",
    "    \n",
    "    for i in range(n):\n",
    "        for j in range(n):\n",
    "            dp[i][j]"
   ]
  },
  {
   "cell_type": "code",
   "execution_count": null,
   "metadata": {},
   "outputs": [],
   "source": [
    "c = [1,2,2,1,1]\n",
    "edges = [(1,2),(1,3),(3,5),(1,4)]\n",
    "ans = balancedForest(c,edges)\n",
    "ans"
   ]
  },
  {
   "cell_type": "code",
   "execution_count": null,
   "metadata": {},
   "outputs": [],
   "source": [
    "dp = [[0] * 5 for _ in range(5)]\n",
    "dp"
   ]
  },
  {
   "cell_type": "code",
   "execution_count": null,
   "metadata": {},
   "outputs": [],
   "source": []
  }
 ],
 "metadata": {
  "kernelspec": {
   "display_name": "Python 3",
   "language": "python",
   "name": "python3"
  },
  "language_info": {
   "codemirror_mode": {
    "name": "ipython",
    "version": 3
   },
   "file_extension": ".py",
   "mimetype": "text/x-python",
   "name": "python",
   "nbconvert_exporter": "python",
   "pygments_lexer": "ipython3",
   "version": "3.7.0"
  },
  "toc": {
   "base_numbering": 1,
   "nav_menu": {},
   "number_sections": true,
   "sideBar": true,
   "skip_h1_title": false,
   "title_cell": "Table of Contents",
   "title_sidebar": "Contents",
   "toc_cell": false,
   "toc_position": {
    "height": "calc(100% - 180px)",
    "left": "10px",
    "top": "150px",
    "width": "418.42px"
   },
   "toc_section_display": true,
   "toc_window_display": true
  }
 },
 "nbformat": 4,
 "nbformat_minor": 2
}
