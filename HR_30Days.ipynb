{
 "cells": [
  {
   "cell_type": "markdown",
   "metadata": {},
   "source": [
    "# HackerRack_30Days\n",
    "\n",
    "> https://www.hackerrank.com/challenges/30-data-types/problem\n"
   ]
  },
  {
   "cell_type": "markdown",
   "metadata": {},
   "source": [
    "## Day1"
   ]
  },
  {
   "cell_type": "code",
   "execution_count": null,
   "metadata": {},
   "outputs": [],
   "source": [
    "i = 4\n",
    "d = 4.0\n",
    "s = 'HackerRank '\n",
    "# Declare second integer, double, and String variables.\n",
    "i_1 = int(input())\n",
    "d_1 = float(input())\n",
    "s_1 = input()\n",
    "\n",
    "# Read and save an integer, double, and String to your variables.\n",
    "\n",
    "# Print the sum of both integer variables on a new line.\n",
    "print(i+i_1)\n",
    "# Print the sum of the double variables on a new line.\n",
    "print(d+d_1)\n",
    "# Concatenate and print the String variables on a new line\n",
    "# The 's' variable above should be printed first.\n",
    "print(s+s_1)"
   ]
  },
  {
   "cell_type": "markdown",
   "metadata": {},
   "source": [
    "## Day2"
   ]
  },
  {
   "cell_type": "code",
   "execution_count": null,
   "metadata": {},
   "outputs": [],
   "source": [
    "import math\n",
    "import os\n",
    "import random\n",
    "import re\n",
    "import sys\n",
    "\n",
    "# Complete the solve function below.\n",
    "def solve(meal_cost, tip_percent, tax_percent):\n",
    "    total = round(meal_cost * (100+tip_percent+tax_percent)/100)\n",
    "    print(total)\n",
    "    \n",
    "if __name__ == '__main__':\n",
    "    meal_cost = float(input())\n",
    "\n",
    "    tip_percent = int(input())\n",
    "\n",
    "    tax_percent = int(input())\n",
    "\n",
    "    solve(meal_cost, tip_percent, tax_percent)"
   ]
  },
  {
   "cell_type": "markdown",
   "metadata": {},
   "source": [
    "## Day3\n",
    "\n",
    "Given an integer N, perform the following conditional actions:\n",
    "\n",
    "If N is odd, print Weird\n",
    "If N is even and in the inclusive range of  to , print Not Weird\n",
    "If N is even and in the inclusive range of  to , print Weird\n",
    "If N is even and greater than , print Not Weird\n",
    "Complete the stub code provided in your editor to print whether or not  is weird."
   ]
  },
  {
   "cell_type": "code",
   "execution_count": null,
   "metadata": {},
   "outputs": [],
   "source": [
    "if __name__ == '__main__':\n",
    "    N = int(input())\n",
    "    s1 = 'Weird'\n",
    "    s2 = 'Not Weird'\n",
    "    if N % 2 == 1:\n",
    "        print(s1)\n",
    "    elif N >= 2 and N<=5:\n",
    "        print(s2)\n",
    "    elif N >=6 and N<=20:\n",
    "        print(s1)\n",
    "    elif N > 20:\n",
    "        print(s2)"
   ]
  },
  {
   "cell_type": "markdown",
   "metadata": {},
   "source": [
    "## Day4"
   ]
  },
  {
   "cell_type": "code",
   "execution_count": null,
   "metadata": {},
   "outputs": [],
   "source": [
    "class Person:\n",
    "    def __init__(self,initialAge):\n",
    "        # Add some more code to run some checks on initialAge\n",
    "        self.age = initialAge\n",
    "        if self.age < 0:\n",
    "            print('Age is not valid, setting age to 0.')\n",
    "            self.age = 0\n",
    "            \n",
    "    def amIOld(self):\n",
    "        # Do some computations in here and print out the correct statement to the console\n",
    "        if self.age < 13:\n",
    "            print('You are young.')\n",
    "        elif self.age >=13 and self.age < 18:\n",
    "            print('You are a teenager.')\n",
    "        else:\n",
    "            print('You are old.')\n",
    "    def yearPasses(self):\n",
    "        # Increment the age of the person in here\n",
    "        self.age +=1\n",
    "\n",
    "\n",
    "t = int(input())\n",
    "for i in range(0, t):\n",
    "    age = int(input())         \n",
    "    p = Person(age)  \n",
    "    p.amIOld()\n",
    "    for j in range(0, 3):\n",
    "        p.yearPasses()       \n",
    "    p.amIOld()\n",
    "    print(\"\")"
   ]
  },
  {
   "cell_type": "markdown",
   "metadata": {},
   "source": [
    "## Day5"
   ]
  },
  {
   "cell_type": "code",
   "execution_count": null,
   "metadata": {},
   "outputs": [],
   "source": [
    "if __name__ == '__main__':\n",
    "    n = int(input())\n",
    "    for i in range(1,11):\n",
    "        print('{} x {} = {}'.format(n,i,n*i))\n",
    "    "
   ]
  },
  {
   "cell_type": "markdown",
   "metadata": {},
   "source": [
    "## Day6"
   ]
  },
  {
   "cell_type": "code",
   "execution_count": null,
   "metadata": {},
   "outputs": [],
   "source": [
    "def string_devide(ss):\n",
    "    s1 = ss[::2]\n",
    "    s2 = ss[1::2]\n",
    "    print(s1,s2)\n",
    "\n",
    "if __name__ == '__main__':\n",
    "    t = int(input())\n",
    "    for i in range(0,t):\n",
    "        ss = input()\n",
    "        string_devide(ss)\n",
    "        "
   ]
  },
  {
   "cell_type": "markdown",
   "metadata": {},
   "source": [
    "## Day7"
   ]
  },
  {
   "cell_type": "code",
   "execution_count": null,
   "metadata": {},
   "outputs": [],
   "source": [
    "if __name__ == '__main__':\n",
    "    t = int(input())\n",
    "    tele_dict={}\n",
    "    for i in range(0,2*t):\n",
    "        ss = input()\n",
    "        s_split = ss.split()\n",
    "        s1 = s_split[0]\n",
    "        if len(s_split) > 1:\n",
    "            tele_dict[s1] = s_split[1]\n",
    "        else:\n",
    "            if s1 in tele_dict:\n",
    "                print('{}={}'.format(s1,tele_dict[s1]))\n",
    "            else:\n",
    "                print('Not found')\n",
    "         "
   ]
  },
  {
   "cell_type": "code",
   "execution_count": null,
   "metadata": {},
   "outputs": [],
   "source": [
    "ss= \"sam 123\"\n",
    "ss.split()"
   ]
  },
  {
   "cell_type": "code",
   "execution_count": null,
   "metadata": {},
   "outputs": [],
   "source": [
    "dd = {'a':1,'b':2}\n",
    "dd['c'] = 3\n",
    "dd"
   ]
  },
  {
   "cell_type": "markdown",
   "metadata": {},
   "source": [
    "## Day8"
   ]
  },
  {
   "cell_type": "code",
   "execution_count": null,
   "metadata": {},
   "outputs": [],
   "source": [
    "if __name__ == '__main__':\n",
    "    n = int(input())\n",
    "\n",
    "    arr = list(map(int, input().rstrip().split()))\n",
    "    for i in range(len(arr)-1,-1,-1):\n",
    "        print(arr[i],end=' ')"
   ]
  },
  {
   "cell_type": "markdown",
   "metadata": {},
   "source": [
    "## Day9"
   ]
  },
  {
   "cell_type": "code",
   "execution_count": null,
   "metadata": {},
   "outputs": [],
   "source": [
    "def factorial(n):\n",
    "    if n == 1:\n",
    "        ans = 1\n",
    "    else:\n",
    "        ans = n * factorial(n-1)\n",
    "    return ans\n",
    "    \n",
    "if __name__ == '__main__':\n",
    "    fptr = open(os.environ['OUTPUT_PATH'], 'w')\n",
    "\n",
    "    n = int(input())\n",
    "\n",
    "    result = factorial(n)\n",
    "\n",
    "    fptr.write(str(result) + '\\n')\n",
    "\n",
    "    fptr.close()"
   ]
  },
  {
   "cell_type": "markdown",
   "metadata": {},
   "source": [
    "## Day10"
   ]
  },
  {
   "cell_type": "code",
   "execution_count": null,
   "metadata": {},
   "outputs": [],
   "source": [
    "def cons_ones(lis):\n",
    "    lenth = len(lis)\n",
    "    maxlen,tmplen = 0,0\n",
    "    for i in range(lenth):\n",
    "        if lis[i] == '1':\n",
    "            tmplen +=1\n",
    "        else:\n",
    "            if tmplen >= maxlen:\n",
    "                maxlen = tmplen\n",
    "            tmplen = 0\n",
    "#print(tmplen,maxlen)\n",
    "                \n",
    "    # if the maxsub if until the end\n",
    "    if tmplen > maxlen:\n",
    "        maxlen = tmplen\n",
    "    return maxlen   \n",
    "\n",
    "\n",
    "if __name__ == '__main__':\n",
    "    n = int(input())\n",
    "    bi_num =  list(bin(n)[2:])\n",
    "    print(cons_ones(bi_num))"
   ]
  },
  {
   "cell_type": "markdown",
   "metadata": {},
   "source": [
    "## Day11"
   ]
  },
  {
   "cell_type": "markdown",
   "metadata": {},
   "source": [
    "1 1 1 0 0 0\n",
    "0 1 0 0 0 0\n",
    "1 1 1 0 0 0\n",
    "0 0 2 4 4 0\n",
    "0 0 0 2 0 0\n",
    "0 0 1 2 4 0"
   ]
  },
  {
   "cell_type": "code",
   "execution_count": null,
   "metadata": {},
   "outputs": [],
   "source": [
    "if __name__ == '__main__':\n",
    "    arr = []\n",
    "\n",
    "    for _ in range(6):\n",
    "        arr.append(list(map(int, input().rstrip().split())))\n",
    "\n",
    "    maxsum= -100\n",
    "    lenth = len(arr)\n",
    "    for i in range(1,lenth-1):\n",
    "        for j in range(1,lenth-1):\n",
    "            tmpsum = -100\n",
    "            tmpsum = (arr[i-1][j-1]+arr[i-1][j]+arr[i-1][j+1]+arr[i][j]+arr[i+1][j-1]+arr[i+1][j]+arr[i+1][j+1])\n",
    "            if tmpsum > maxsum:\n",
    "                maxsum = tmpsum\n",
    "    print(maxsum)"
   ]
  },
  {
   "cell_type": "code",
   "execution_count": null,
   "metadata": {},
   "outputs": [],
   "source": [
    "arra = [[1, 1, 1, 0, 0, 0], [0, 1, 0, 0, 0, 0], [1, 1, 1, 0, 0, 0], [0, 0, 2, 4, 4, 0], [0, 0, 0, 2, 0, 0], [0, 0, 1, 2, 4, 0]]\n",
    "arr= arra\n",
    "maxsum= -100\n",
    "lenth = len(arr)\n",
    "for i in range(1,lenth-1):\n",
    "    for j in range(1,lenth-1):\n",
    "        tmpsum = 0\n",
    "        tmpsum = (arr[i-1][j-1]+arr[i-1][j]+arr[i-1][j+1]+arr[i][j]+\n",
    "                     arr[i+1][j-1]+arr[i+1][j]+arr[i+1][j+1])\n",
    "        if tmpsum > maxsum:\n",
    "            maxsum = tmpsum\n",
    "print(maxsum)"
   ]
  },
  {
   "cell_type": "markdown",
   "metadata": {},
   "source": [
    "## Day12 inherit"
   ]
  },
  {
   "cell_type": "code",
   "execution_count": null,
   "metadata": {},
   "outputs": [],
   "source": [
    "class Person:\n",
    "    def __init__(self, firstName, lastName, idNumber):\n",
    "        self.firstName = firstName\n",
    "        self.lastName = lastName\n",
    "        self.idNumber = idNumber\n",
    "    def printPerson(self):\n",
    "        print(\"Name:\", self.lastName + \",\", self.firstName)\n",
    "        print(\"ID:\", self.idNumber)\n",
    "\n",
    "class Student(Person):\n",
    "    #   Class Constructor\n",
    "    #   \n",
    "    #   Parameters:\n",
    "    #   firstName - A string denoting the Person's first name.\n",
    "    #   lastName - A string denoting the Person's last name.\n",
    "    #   id - An integer denoting the Person's ID number.\n",
    "    #   scores - An array of integers denoting the Person's test scores.\n",
    "    #\n",
    "    # Write your constructor here\n",
    "    def __init__(self,firstName, lastName, idNumber,scores):\n",
    "        Person.__init__(self, firstName, lastName, idNumber)\n",
    "        self.scores = scores\n",
    "\n",
    "    #   Function Name: calculate\n",
    "    #   Return: A character denoting the grade.\n",
    "    #\n",
    "    # Write your function here\n",
    "    def calculate(self):\n",
    "        mean = round(sum(scores)// len(scores))\n",
    "        if mean >= 90 and mean <100:\n",
    "            return ('O')\n",
    "        elif mean >=80 and mean <90:\n",
    "            return ('E')\n",
    "        elif mean >=70 and mean <80:\n",
    "            return ('A')\n",
    "        elif mean >=55 and mean <70:\n",
    "            return ('P')\n",
    "        elif mean >=40 and mean <55:\n",
    "            return ('D')\n",
    "        elif mean >=40 and mean <50:\n",
    "            return ('T')\n",
    "            \n",
    "        \n",
    "line = input().split()\n",
    "firstName = line[0]\n",
    "lastName = line[1]\n",
    "idNum = line[2]\n",
    "#numScores = int(input()) # not needed for Python\n",
    "scores = list( map(int, input().split()) )\n",
    "s = Student(firstName, lastName, idNum, scores)\n",
    "s.printPerson()\n",
    "print(\"Grade:\", s.calculate())"
   ]
  },
  {
   "cell_type": "code",
   "execution_count": null,
   "metadata": {},
   "outputs": [],
   "source": [
    "Heraldo Memelli 8135627\n",
    "2\n",
    "100 80"
   ]
  },
  {
   "cell_type": "code",
   "execution_count": null,
   "metadata": {},
   "outputs": [],
   "source": [
    "Aakansha Doshi 7825621\n",
    "4\n",
    "31 32 34 35"
   ]
  },
  {
   "cell_type": "markdown",
   "metadata": {},
   "source": [
    "## Day 13. Abstract Classes"
   ]
  },
  {
   "cell_type": "code",
   "execution_count": null,
   "metadata": {},
   "outputs": [],
   "source": [
    "from abc import ABCMeta, abstractmethod\n",
    "class Book(object, metaclass=ABCMeta):\n",
    "    def __init__(self,title,author):\n",
    "        self.title=title\n",
    "        self.author=author   \n",
    "    @abstractmethod\n",
    "    def display(): pass\n",
    "\n",
    "#Write MyBook class\n",
    "\n",
    "class MyBook(Book):\n",
    "    def __init__(self,title, author, price):\n",
    "        Book.__init__(self,title,author)\n",
    "        self.price = price\n",
    "    \n",
    "    def display(self):\n",
    "        print(\"Title: {}\".format(self.title))\n",
    "        print(\"Author: {}\".format(self.author))\n",
    "        print(\"Price: {}\".format(self.price))\n",
    "\n",
    "title=input()\n",
    "author=input()\n",
    "price=int(input())\n",
    "new_novel=MyBook(title,author,price)\n",
    "new_novel.display()"
   ]
  },
  {
   "cell_type": "markdown",
   "metadata": {},
   "source": [
    "## Day 14"
   ]
  },
  {
   "cell_type": "code",
   "execution_count": null,
   "metadata": {},
   "outputs": [],
   "source": [
    "class Difference:\n",
    "    def __init__(self, a):\n",
    "        self.__elements = a\n",
    "        self.maxmimumDifference = None\n",
    "\n",
    "\t# Add your code here\n",
    "    def computeDifference(self):\n",
    "        self.maxmimumDifference  = max(self.__elements) - min(self.__elements)\n",
    "\n",
    "# End of Difference class"
   ]
  },
  {
   "cell_type": "code",
   "execution_count": null,
   "metadata": {},
   "outputs": [],
   "source": [
    "a = [1,2,4,5]\n",
    "max(a)"
   ]
  },
  {
   "cell_type": "markdown",
   "metadata": {},
   "source": [
    "## Day15"
   ]
  },
  {
   "cell_type": "code",
   "execution_count": null,
   "metadata": {},
   "outputs": [],
   "source": [
    "class Node:\n",
    "    def __init__(self,data):\n",
    "        self.data = data\n",
    "        self.next = None \n",
    "class Solution: \n",
    "    def display(self,head):\n",
    "        current = head\n",
    "        while current:\n",
    "            print(current.data,end=' ')\n",
    "            current = current.next\n",
    "\n",
    "    def insert(self,head,data): \n",
    "    #Complete this method\n",
    "    \n",
    "        node = Node(data)\n",
    "        if head:            \n",
    "            current = head\n",
    "            while current.next:\n",
    "                current = current.next\n",
    "            current.next = node\n",
    "        else:\n",
    "            head = node   \n",
    "        return head \n",
    "    \n",
    "mylist= Solution()\n",
    "T=int(input())\n",
    "head=None\n",
    "for i in range(T):\n",
    "    data=int(input())\n",
    "    head=mylist.insert(head,data)\n",
    "    #print(head)\n",
    "mylist.display(head); "
   ]
  },
  {
   "cell_type": "markdown",
   "metadata": {},
   "source": [
    "## Day 16 Exception"
   ]
  },
  {
   "cell_type": "code",
   "execution_count": null,
   "metadata": {},
   "outputs": [],
   "source": [
    "#!/bin/python3\n",
    "\n",
    "import sys\n",
    "\n",
    "\n",
    "S = input().strip()\n",
    "\n",
    "try:\n",
    "    output = int(S)\n",
    "    print(output)\n",
    "except:\n",
    "    print(\"Bad String\")"
   ]
  },
  {
   "cell_type": "markdown",
   "metadata": {},
   "source": [
    "## Day 17: More Exceptions"
   ]
  },
  {
   "cell_type": "code",
   "execution_count": null,
   "metadata": {},
   "outputs": [],
   "source": [
    "#Write your code here\n",
    "\n",
    "class Calculator:\n",
    "    def power(self,n,p):\n",
    "        \n",
    "        if n < 0 or p < 0:\n",
    "            raise Exception('n and p should be non-negative')  \n",
    "            \n",
    "            # return\n",
    "            #No you don't. The return statement is unreachable.\n",
    "            #Also, static-analysis tools, such as pyflakes will report that as an error.\n",
    "        else:\n",
    "            ans = n **p\n",
    "            return ans\n",
    "   \n",
    "        \n",
    "\n",
    "myCalculator=Calculator()\n",
    "T=int(input())\n",
    "for i in range(T):\n",
    "    n,p = map(int, input().split())\n",
    "    try:\n",
    "        ans=myCalculator.power(n,p)\n",
    "        print(ans)\n",
    "    except Exception as e:\n",
    "        print(e)   "
   ]
  },
  {
   "cell_type": "markdown",
   "metadata": {},
   "source": [
    "## Day 18: Queues and Stacks"
   ]
  },
  {
   "cell_type": "code",
   "execution_count": null,
   "metadata": {},
   "outputs": [],
   "source": [
    "import sys\n",
    "\n",
    "class Solution:\n",
    "    # Write your code here\n",
    "\n",
    "    def __init__(self):\n",
    "        self.stack = []\n",
    "        self.queue = []\n",
    "        \n",
    "    def pushCharacter(self,ch):\n",
    "        self.stack.append(ch)\n",
    "    \n",
    "    def popCharacter(self):\n",
    "        ch = self.stack.pop()\n",
    "        return ch\n",
    "    \n",
    "    def enqueueCharacter(self,ch):\n",
    "        self.queue.append(ch)\n",
    "        \n",
    "    def dequeueCharacter(self):\n",
    "        ch = self.queue.pop(0)\n",
    "        return ch\n",
    "    \n",
    "# read the string s\n",
    "s=input()\n",
    "#Create the Solution class object\n",
    "obj=Solution()   \n",
    "\n",
    "l=len(s)\n",
    "# push/enqueue all the characters of string s to stack\n",
    "for i in range(l):\n",
    "    obj.pushCharacter(s[i])\n",
    "    obj.enqueueCharacter(s[i])\n",
    "    \n",
    "isPalindrome=True\n",
    "'''\n",
    "pop the top character from stack\n",
    "dequeue the first character from queue\n",
    "compare both the characters\n",
    "''' \n",
    "for i in range(l // 2):\n",
    "    if obj.popCharacter()!=obj.dequeueCharacter():\n",
    "        isPalindrome=False\n",
    "        break\n",
    "#finally print whether string s is palindrome or not.\n",
    "if isPalindrome:\n",
    "    print(\"The word, \"+s+\", is a palindrome.\")\n",
    "else:\n",
    "    print(\"The word, \"+s+\", is not a palindrome.\")    "
   ]
  },
  {
   "cell_type": "markdown",
   "metadata": {},
   "source": [
    "## Day 19: Interfaces"
   ]
  },
  {
   "cell_type": "code",
   "execution_count": null,
   "metadata": {},
   "outputs": [],
   "source": [
    "class AdvancedArithmetic(object):\n",
    "    def divisorSum(n):\n",
    "        raise NotImplementedError\n",
    "\n",
    "class Calculator(AdvancedArithmetic):\n",
    "    def divisorSum(self, n):\n",
    "        \n",
    "        divisor_list = []\n",
    "        for i in range(1,n+1):\n",
    "            if n%i == 0:\n",
    "                divisor_list.append(i)\n",
    "        return sum(divisor_list)        \n",
    "\n",
    "n = int(input())\n",
    "my_calculator = Calculator()\n",
    "s = my_calculator.divisorSum(n)\n",
    "print(\"I implemented: \" + type(my_calculator).__bases__[0].__name__)\n",
    "print(s)"
   ]
  },
  {
   "cell_type": "markdown",
   "metadata": {},
   "source": [
    "## Day 20: Sorting"
   ]
  },
  {
   "cell_type": "code",
   "execution_count": null,
   "metadata": {},
   "outputs": [],
   "source": [
    "#!/bin/python3\n",
    "\n",
    "import sys\n",
    "\n",
    "n = int(input().strip())\n",
    "a = list(map(int, input().strip().split(' ')))\n",
    "# Write Your Code Here\n",
    "\n",
    "\n",
    "# Array is sorted in numSwaps swaps.\n",
    "# where  is the number of swaps that took place.\n",
    "# First Element: firstElement\n",
    "# where  is the first element in the sorted array.\n",
    "# Last Element: lastElement\n",
    "# where  is the last element in the sorted array.\n",
    "\n",
    "\n",
    "def bubbleSort(a):\n",
    "    \n",
    "    numSwaps = 0\n",
    "    for passnum in range(len(a)-1,0,-1):\n",
    "        for i in range(passnum):\n",
    "            if a[i] > a[i+1]:\n",
    "                a[i],a[i+1] = a[i+1],a[i]\n",
    "                numSwaps += 1\n",
    "    print(\"Array is sorted in {} swaps.\".format(numSwaps))\n",
    "    print(\"First Element: {}\".format(a[0]))\n",
    "    print(\"Last Element: {}\".format(a[-1]))\n",
    "\n",
    "if __name__ == '__main__':\n",
    "    bubbleSort(a)\n",
    "        "
   ]
  },
  {
   "cell_type": "code",
   "execution_count": null,
   "metadata": {},
   "outputs": [],
   "source": [
    "list(range(5-1,0,-1))"
   ]
  },
  {
   "cell_type": "markdown",
   "metadata": {},
   "source": [
    "## Day 21: Generics"
   ]
  },
  {
   "cell_type": "code",
   "execution_count": null,
   "metadata": {},
   "outputs": [],
   "source": [
    "#include <iostream>\n",
    "#include <vector>\n",
    "#include <string>\n",
    "\n",
    "using namespace std;\n",
    "\n",
    "/**\n",
    "*    Name: printArray\n",
    "*    Print each element of the generic vector on a new line. Do not return anything.\n",
    "*    @param A generic vector\n",
    "**/\n",
    "\n",
    "// Write your code here\n",
    "\n",
    "int main() {\n",
    "\tint n;\n",
    "\t\n",
    "\tcin >> n;\n",
    "\tvector<int> int_vector(n);\n",
    "\tfor (int i = 0; i < n; i++) {\n",
    "\t\tint value;\n",
    "\t\tcin >> value;\n",
    "\t\tint_vector[i] = value;\n",
    "\t}\n",
    "\t\n",
    "\tcin >> n;\n",
    "\tvector<string> string_vector(n);\n",
    "\tfor (int i = 0; i < n; i++) {\n",
    "\t\tstring value;\n",
    "\t\tcin >> value;\n",
    "\t\tstring_vector[i] = value;\n",
    "\t}\n",
    "\n",
    "\tprintArray<int>(int_vector);\n",
    "\tprintArray<string>(string_vector);\n",
    "\n",
    "\treturn 0;\n",
    "}"
   ]
  },
  {
   "cell_type": "markdown",
   "metadata": {},
   "source": [
    "## Day 22: Binary Search Trees\n",
    "- The depth of a node is the number of edges from the node to the tree's root node"
   ]
  },
  {
   "cell_type": "code",
   "execution_count": null,
   "metadata": {},
   "outputs": [],
   "source": [
    "class Node:\n",
    "    def __init__(self,data):\n",
    "        self.right=self.left=None\n",
    "        self.data = data\n",
    "class Solution:\n",
    "    def insert(self,root,data):\n",
    "        if root==None:\n",
    "            return Node(data)\n",
    "        else:\n",
    "            if data<=root.data:\n",
    "                cur=self.insert(root.left,data)\n",
    "                root.left=cur\n",
    "            else:\n",
    "                cur=self.insert(root.right,data)\n",
    "                root.right=cur\n",
    "        return root\n",
    "\n",
    "    def getHeight(self,root):\n",
    "        \n",
    "        if root is None:\n",
    "            return -1\n",
    "        else:\n",
    "            lDepth = self.getHeight(root.left)\n",
    "            rDepth = self.getHeight(root.right)\n",
    "            \n",
    "            if lDepth > rDepth:\n",
    "                return lDepth + 1\n",
    "            else:\n",
    "                return rDepth + 1\n",
    "        \n",
    "        \n",
    "\n",
    "T=int(input())\n",
    "myTree=Solution()\n",
    "root=None\n",
    "for i in range(T):\n",
    "    data=int(input())\n",
    "    root=myTree.insert(root,data)\n",
    "height=myTree.getHeight(root)\n",
    "print(height)       "
   ]
  },
  {
   "cell_type": "markdown",
   "metadata": {},
   "source": [
    "## Day 23: BST Level-Order Traversal"
   ]
  },
  {
   "cell_type": "code",
   "execution_count": null,
   "metadata": {},
   "outputs": [],
   "source": [
    "import sys\n",
    "\n",
    "class Node:\n",
    "    def __init__(self,data):\n",
    "        self.right=self.left=None\n",
    "        self.data = data\n",
    "class Solution:\n",
    "    def insert(self,root,data):\n",
    "        if root==None:\n",
    "            return Node(data)\n",
    "        else:\n",
    "            if data<=root.data:\n",
    "                cur=self.insert(root.left,data)\n",
    "                root.left=cur\n",
    "            else:\n",
    "                cur=self.insert(root.right,data)\n",
    "                root.right=cur\n",
    "        return root\n",
    "\n",
    "#     def levelOrder(self,root):\n",
    "#         #Write your code here\n",
    "        \n",
    "#         ans = []\n",
    "#         if root == None:\n",
    "#             return []\n",
    "#         else:\n",
    "\n",
    "# Function to  print level order traversal of tree \n",
    "\n",
    "\n",
    "    def getHeight(self,root):        \n",
    "        if root is None:\n",
    "            return -1\n",
    "        else:\n",
    "            lDepth = self.getHeight(root.left)\n",
    "            rDepth = self.getHeight(root.right)\n",
    "            \n",
    "            if lDepth > rDepth:\n",
    "                return lDepth + 1\n",
    "            else:\n",
    "                return rDepth + 1\n",
    "\n",
    "            \n",
    "\n",
    "            #\n",
    "#     def levelOrder(self,root): \n",
    "#         h = self.getHeight(root)\n",
    "#         #print(\"height: {}\".format(h))\n",
    "#         for i in range(0, h+1): \n",
    "#             self.printGivenLevel(root, i) \n",
    "\n",
    "\n",
    "#     # Print nodes at a given level \n",
    "#     def printGivenLevel(self, root , level): \n",
    "#         if root is None: \n",
    "#             return\n",
    "#         if level == 0: \n",
    "#             print(root.data，end = \" \")\n",
    "            \n",
    "#         elif level > 0: \n",
    "#             self.printGivenLevel(root.left , level-1) \n",
    "#             self.printGivenLevel(root.right , level-1)             \n",
    "            \n",
    "    def levelOrder(self,root):\n",
    "        if root is None:\n",
    "            return\n",
    "\n",
    "        queue = []\n",
    "        queue.append(root)\n",
    "        while(len(queue) > 0):\n",
    "            print(queue[0].data,end=' ')\n",
    "            node = queue.pop(0)\n",
    "\n",
    "            if node.left:\n",
    "                queue.append(node.left)\n",
    "\n",
    "            if node.right:\n",
    "                queue.append(node.right)\n",
    "                \n",
    "        \n",
    "        \n",
    "T=int(input())\n",
    "myTree=Solution()\n",
    "root=None\n",
    "for i in range(T):\n",
    "    data=int(input())\n",
    "    root=myTree.insert(root,data)\n",
    "myTree.levelOrder(root)\n"
   ]
  },
  {
   "cell_type": "markdown",
   "metadata": {},
   "source": [
    "## Day 24: More Linked Lists"
   ]
  },
  {
   "cell_type": "code",
   "execution_count": null,
   "metadata": {},
   "outputs": [],
   "source": [
    "class Node:\n",
    "    def __init__(self,data):\n",
    "        self.data = data\n",
    "        self.next = None \n",
    "\n",
    "class Solution: \n",
    "    def insert(self,head,data):\n",
    "            p = Node(data)           \n",
    "            if head==None:\n",
    "                head=p\n",
    "            elif head.next==None:\n",
    "                head.next=p\n",
    "            else:\n",
    "                start=head\n",
    "                while(start.next!=None):\n",
    "                    start=start.next\n",
    "                start.next=p\n",
    "            return head  \n",
    "    def display(self,head):\n",
    "        current = head\n",
    "        while current:\n",
    "            print(current.data,end=' ')\n",
    "            current = current.next\n",
    "\n",
    "    def removeDuplicates(self,head):\n",
    "        #Write your code here\n",
    "        if head is None:\n",
    "            return\n",
    "        \n",
    "        current = head\n",
    "        while current.next:\n",
    "            if current.next.data == current.data:\n",
    "                self.delNextNode(current)\n",
    "            else:\n",
    "                current = current.next\n",
    "        return head\n",
    "    \n",
    "    def delNextNode(self,Node):\n",
    "        if Node is None:\n",
    "            return\n",
    "        \n",
    "        secondNode = Node.next\n",
    "        thirdNode = secondNode.next\n",
    "        Node.next = thirdNode\n",
    "\n",
    "        \n",
    "        \n",
    "mylist= Solution()\n",
    "T=int(input())\n",
    "head=None\n",
    "for i in range(T):\n",
    "    data=int(input())\n",
    "    head=mylist.insert(head,data)    \n",
    "head=mylist.removeDuplicates(head)\n",
    "mylist.display(head); "
   ]
  },
  {
   "cell_type": "markdown",
   "metadata": {},
   "source": [
    "## Day 25: Running Time and Complexity"
   ]
  },
  {
   "cell_type": "code",
   "execution_count": null,
   "metadata": {},
   "outputs": [],
   "source": [
    "from math import sqrt\n",
    "def isPrime(num):\n",
    "    for i in range(2,int(sqrt(num)) + 1):                              \n",
    "        if num % i == 0:\n",
    "            return False\n",
    "    return True\n",
    "                        \n",
    "# Test\n",
    "T=int(input().strip())\n",
    "num = []\n",
    "for i in range(T):\n",
    "    num.append(int(input().strip()))\n",
    "\n",
    "for nu in num:\n",
    "    if isPrime(nu):\n",
    "        print('Prime')\n",
    "    else:\n",
    "        print('Not Prime')\n",
    "    \n",
    "# result = []        \n",
    "# for an in ans:\n",
    "#     if an:\n",
    "#         result.append('Prime')\n",
    "#     else:\n",
    "#         result.append('Not Prime')\n",
    "\n",
    "# for res in result:\n",
    "#     print(res)"
   ]
  },
  {
   "cell_type": "markdown",
   "metadata": {},
   "source": [
    "## Day 26: Nested Logic\n"
   ]
  },
  {
   "cell_type": "code",
   "execution_count": null,
   "metadata": {},
   "outputs": [],
   "source": [
    "\n",
    "# Tuple comparision\n",
    "rd, rm, ry = [int(x) for x in input().split(' ')]\n",
    "ed, em, ey = [int(x) for x in input().split(' ')]\n",
    "\n",
    "if (ry, rm, rd) <= (ey, em, ed):\n",
    "    print(0)\n",
    "elif (ry, rm) == (ey, em):\n",
    "    print(15 * (rd - ed))\n",
    "elif ry == ey:\n",
    "    print(500 * (rm - em))\n",
    "else:\n",
    "    print(10000)\n"
   ]
  },
  {
   "cell_type": "markdown",
   "metadata": {},
   "source": [
    "## Day 27: Testing"
   ]
  },
  {
   "cell_type": "code",
   "execution_count": null,
   "metadata": {},
   "outputs": [],
   "source": [
    "import random\n",
    "\n",
    "def minimum_index(seq):\n",
    "    if len(seq) == 0:\n",
    "        raise ValueError(\"Cannot get the minimum value index from an empty sequence\")\n",
    "    min_idx = 0\n",
    "    for i in range(1, len(seq)):\n",
    "        if seq[i] < seq[min_idx]:\n",
    "            min_idx = i\n",
    "    return min_idx\n",
    "class TestDataEmptyArray(object):\n",
    "    \n",
    "    @staticmethod\n",
    "    def get_array():\n",
    "        # complete this function\n",
    "        return []\n",
    "\n",
    "class TestDataUniqueValues(object):\n",
    "\n",
    "    @staticmethod\n",
    "    def get_array():\n",
    "        # complete this function\n",
    "        return [2,3,1,4,5]  \n",
    "        \n",
    "    @staticmethod\n",
    "    def get_expected_result():\n",
    "        # complete this function\n",
    "        test_array = TestDataUniqueValues.get_array()\n",
    "        return test_array.index(min(test_array))\n",
    "        \n",
    "        \n",
    "class TestDataExactlyTwoDifferentMinimums(object):\n",
    "\n",
    "    @staticmethod\n",
    "    def get_array():\n",
    "        # complete this function\n",
    "        return [1,2,3,1,5]\n",
    "    \n",
    "    @staticmethod\n",
    "    def get_expected_result():\n",
    "        # complete this function\n",
    "        test_array = TestDataExactlyTwoDifferentMinimums.get_array()\n",
    "        return test_array.index(min(test_array))\n",
    "        \n",
    "def TestWithEmptyArray():\n",
    "    try:\n",
    "        seq = TestDataEmptyArray.get_array()\n",
    "        result = minimum_index(seq)\n",
    "    except ValueError as e:\n",
    "        pass\n",
    "    else:\n",
    "        assert False\n",
    "\n",
    "\n",
    "def TestWithUniqueValues():\n",
    "    seq = TestDataUniqueValues.get_array()\n",
    "    assert len(seq) >= 2\n",
    "\n",
    "    assert len(list(set(seq))) == len(seq)\n",
    "\n",
    "    expected_result = TestDataUniqueValues.get_expected_result()\n",
    "    result = minimum_index(seq)\n",
    "    assert result == expected_result\n",
    "\n",
    "\n",
    "def TestiWithExactyTwoDifferentMinimums():\n",
    "    seq = TestDataExactlyTwoDifferentMinimums.get_array()\n",
    "    assert len(seq) >= 2\n",
    "    tmp = sorted(seq)\n",
    "    assert tmp[0] == tmp[1] and (len(tmp) == 2 or tmp[1] < tmp[2])\n",
    "\n",
    "    expected_result = TestDataExactlyTwoDifferentMinimums.get_expected_result()\n",
    "    result = minimum_index(seq)\n",
    "    assert result == expected_result\n",
    "\n",
    "TestWithEmptyArray()\n",
    "TestWithUniqueValues()\n",
    "#TestiWithExactyTwoDifferentMinimums()\n",
    "print(\"OK\")\n",
    "\n"
   ]
  },
  {
   "cell_type": "markdown",
   "metadata": {},
   "source": [
    "## Day 28: RegEx, Patterns, and Intro to Databases"
   ]
  },
  {
   "cell_type": "code",
   "execution_count": null,
   "metadata": {},
   "outputs": [],
   "source": [
    "import math\n",
    "import os\n",
    "import random\n",
    "import re\n",
    "import sys\n",
    "\n",
    "\n",
    "def parseEmail(fN,eI):\n",
    "    if eI.endswith('@gmail.com'):\n",
    "        return fN\n",
    "    \n",
    "\n",
    "\n",
    "if __name__ == '__main__':\n",
    "    N = int(input())\n",
    "    \n",
    "    ans = []\n",
    "    for N_itr in range(N):\n",
    "        firstNameEmailID = input().split()\n",
    "\n",
    "        firstName = firstNameEmailID[0]\n",
    "\n",
    "        emailID = firstNameEmailID[1]\n",
    "        \n",
    "        res = parseEmail(firstName,emailID)\n",
    "        if res:\n",
    "            ans.append(res)\n",
    "    ans.sort()\n",
    "    for name in ans:\n",
    "        print(name)"
   ]
  },
  {
   "cell_type": "markdown",
   "metadata": {},
   "source": [
    "## Day 29: Bitwise AND"
   ]
  },
  {
   "cell_type": "code",
   "execution_count": null,
   "metadata": {},
   "outputs": [],
   "source": [
    "import math\n",
    "import os\n",
    "import random\n",
    "import re\n",
    "import sys\n",
    "\n",
    "\n",
    "# Time out\n",
    "# if __name__ == '__main__':\n",
    "#     t = int(input())\n",
    "    \n",
    "#     ans = []\n",
    "#     for t_itr in range(t):\n",
    "#         nk = input().split()\n",
    "\n",
    "#         n = int(nk[0])\n",
    "\n",
    "#         k = int(nk[1])\n",
    "        \n",
    "#         s = list(range(1,n+1))\n",
    "        \n",
    "#         tmpAnd = maxAnd = 0\n",
    "#         for i in range(len(s)):\n",
    "#             for j in range(i+1,len(s)):\n",
    "#                 tmpAnd = s[i] & s[j]\n",
    "#                 #print(i,j,tmpAnd)\n",
    "#                 if tmpAnd < k and tmpAnd > maxAnd:\n",
    "#                     maxAnd = tmpAnd\n",
    "#         ans.append(maxAnd)\n",
    "    \n",
    "#     for a in ans:\n",
    "#         print(a)\n",
    "        \n",
    "if __name__ == '__main__':        \n",
    "    t = int(input())\n",
    "\n",
    "    for _ in range(t):\n",
    "        n , k = map(int , input().split())\n",
    "        print(k-1 if ((k-1) | k) <= n else k-2)        "
   ]
  },
  {
   "cell_type": "code",
   "execution_count": null,
   "metadata": {},
   "outputs": [],
   "source": [
    "1  & 6"
   ]
  },
  {
   "cell_type": "code",
   "execution_count": null,
   "metadata": {},
   "outputs": [],
   "source": []
  }
 ],
 "metadata": {
  "kernelspec": {
   "display_name": "Python 3",
   "language": "python",
   "name": "python3"
  },
  "language_info": {
   "codemirror_mode": {
    "name": "ipython",
    "version": 3
   },
   "file_extension": ".py",
   "mimetype": "text/x-python",
   "name": "python",
   "nbconvert_exporter": "python",
   "pygments_lexer": "ipython3",
   "version": "3.7.0"
  },
  "toc": {
   "base_numbering": 1,
   "nav_menu": {},
   "number_sections": true,
   "sideBar": true,
   "skip_h1_title": false,
   "title_cell": "Table of Contents",
   "title_sidebar": "Contents",
   "toc_cell": false,
   "toc_position": {},
   "toc_section_display": true,
   "toc_window_display": true
  }
 },
 "nbformat": 4,
 "nbformat_minor": 2
}
