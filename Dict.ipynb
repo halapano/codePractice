{
 "cells": [
  {
   "cell_type": "markdown",
   "metadata": {},
   "source": [
    "# Dictionaries\n",
    "\n",
    "- dict {}\n",
    "- You map any class to another another class, \n",
    "    - for example 138, map linklist node to node."
   ]
  },
  {
   "cell_type": "markdown",
   "metadata": {},
   "source": [
    "## Easy"
   ]
  },
  {
   "cell_type": "markdown",
   "metadata": {},
   "source": [
    "### 204. Count Primes\n",
    "\n",
    "```\n",
    "Count the number of prime numbers less than a non-negative number, n.\n",
    "\n",
    "Example:\n",
    "\n",
    "Input: 10\n",
    "Output: 4\n",
    "Explanation: There are 4 prime numbers less than 10, they are 2, 3, 5, 7.\n",
    "```"
   ]
  },
  {
   "cell_type": "code",
   "execution_count": 38,
   "metadata": {},
   "outputs": [],
   "source": [
    "# over time limit\n",
    "# class Solution(object):\n",
    "#     def countPrimes(self, n):\n",
    "#         \"\"\"\n",
    "#         :type n: int\n",
    "#         :rtype: int\n",
    "#         \"\"\"\n",
    "        \n",
    "#         count = 0\n",
    "#         for num in range(0,n):\n",
    "#             if self.isPrime(num):\n",
    "#                 count+=1\n",
    "#         return count\n",
    "\n",
    "            \n",
    "               \n",
    "#     def isPrime(self,num):\n",
    "#         if num <= 1:\n",
    "#             return False\n",
    "#         i = 2\n",
    "#         while i * i <= num:\n",
    "#             if num % i == 0:\n",
    "#                 return False\n",
    "#             i +=1\n",
    "#         return True"
   ]
  },
  {
   "cell_type": "code",
   "execution_count": 48,
   "metadata": {},
   "outputs": [],
   "source": [
    "# M2: https://en.wikipedia.org/wiki/Sieve_of_Eratosthenes\n",
    "class Solution(object):\n",
    "    def countPrimes(self, n):\n",
    "        \"\"\"\n",
    "        :type n: int\n",
    "        :rtype: int\n",
    "        \"\"\"\n",
    "        \n",
    "        isPrime = [1 for i in range(n)]\n",
    "        \n",
    "        i = 2\n",
    "        while i*i <n:\n",
    "            if isPrime[i]:\n",
    "                j = i*i\n",
    "                while j<n:\n",
    "                    isPrime[j] = 0\n",
    "                    j += i\n",
    "            i += 1\n",
    "                  \n",
    "        return sum(isPrime[2:])"
   ]
  },
  {
   "cell_type": "code",
   "execution_count": 49,
   "metadata": {},
   "outputs": [
    {
     "data": {
      "text/plain": [
       "4"
      ]
     },
     "execution_count": 49,
     "metadata": {},
     "output_type": "execute_result"
    }
   ],
   "source": [
    "n = 10\n",
    "obj = Solution()\n",
    "ans = obj.countPrimes(n)\n",
    "ans"
   ]
  },
  {
   "cell_type": "markdown",
   "metadata": {},
   "source": [
    "### Two Strings"
   ]
  },
  {
   "cell_type": "code",
   "execution_count": null,
   "metadata": {},
   "outputs": [],
   "source": [
    "from collections import Counter\n",
    "#M1: Counter\n",
    "def twoStrings(s1, s2):\n",
    "    c1 = Counter(s1)\n",
    "    c2 = Counter(s2)\n",
    "    print(len(c1 - c2))\n",
    "    if c1 - c2 == c1:\n",
    "        return \"NO\"\n",
    "    else:\n",
    "        return \"YES\"\n",
    "\n",
    "# # M2: Set\n",
    "# def twoStrings(s1,s2):\n",
    "#     return \"YES\" if len(set(s1) & set(s2)) > 0 else \"NO\""
   ]
  },
  {
   "cell_type": "code",
   "execution_count": null,
   "metadata": {},
   "outputs": [],
   "source": [
    "s2 = \"hello world\"\n",
    "s1 = \"he\"\n",
    "ans = twoStrings(s1,s2)\n",
    "ans"
   ]
  },
  {
   "cell_type": "code",
   "execution_count": null,
   "metadata": {},
   "outputs": [],
   "source": [
    "set(s1) & set(s2)"
   ]
  },
  {
   "cell_type": "markdown",
   "metadata": {},
   "source": [
    "## Medium"
   ]
  },
  {
   "cell_type": "markdown",
   "metadata": {},
   "source": [
    "### H Frequency Queries"
   ]
  },
  {
   "cell_type": "code",
   "execution_count": null,
   "metadata": {},
   "outputs": [],
   "source": [
    "from collections import defaultdict\n",
    "\n",
    "# out of time limit\n",
    "# def freqQuery(queries):\n",
    "    \n",
    "#     data = defaultdict(int)\n",
    "#     ans = []\n",
    "    \n",
    "#     for q in queries:\n",
    "        \n",
    "#         op , num = q[0], q[1]\n",
    "#         if op == 1:\n",
    "#             data[num] += 1\n",
    "#         elif op == 2:\n",
    "#             data[num]  = max(0, data[num] - 1)\n",
    "#         elif q[0] == 3:\n",
    "#             if num in list(data.values()):\n",
    "#                 ans.append(1)\n",
    "#             else:\n",
    "#                 ans.append(0)\n",
    "#         print(data[11])\n",
    "#     return ans\n",
    "\n",
    "def freqQuery(queries):\n",
    "    \n",
    "#     data = defaultdict(int)\n",
    "#     cnt = defaultdict(int)\n",
    "#     ans = []\n",
    "\n",
    "#     for q in queries:\n",
    "#         op , num = q[0], q[1]\n",
    "        \n",
    "#         if op == 1:\n",
    "\n",
    "            \n",
    "    #qs = int(input())\n",
    "    freq = defaultdict(int)\n",
    "    counter = defaultdict(int)\n",
    "    answers = []\n",
    "\n",
    "    for quer in queries:\n",
    "        q, x = quer[0],quer[1]\n",
    "        if q == 1:\n",
    "            counter[freq[x]] = max(0, counter[freq[x]] - 1)\n",
    "            freq[x] += 1\n",
    "            counter[freq[x]] += 1\n",
    "        if q == 2:\n",
    "            counter[freq[x]] = max(0, counter[freq[x]] - 1)\n",
    "            freq[x] = max(0, freq[x] - 1)\n",
    "            counter[freq[x]] += 1\n",
    "        if q == 3:\n",
    "            answers.append(int(counter[x] > 0))\n",
    "    return answers"
   ]
  },
  {
   "cell_type": "code",
   "execution_count": null,
   "metadata": {},
   "outputs": [],
   "source": [
    "queries = [(1,5),(1,6),(3,2),(1,10),(1,10),(1,6),(2,11),(3,2)]\n",
    "ans = freqQuery(queries)\n",
    "ans"
   ]
  },
  {
   "cell_type": "code",
   "execution_count": null,
   "metadata": {},
   "outputs": [],
   "source": [
    "q"
   ]
  },
  {
   "cell_type": "markdown",
   "metadata": {},
   "source": [
    "### H Sherlock and the Valid String"
   ]
  },
  {
   "cell_type": "code",
   "execution_count": null,
   "metadata": {},
   "outputs": [],
   "source": [
    "from collections import Counter\n",
    "\n",
    "# def cnt(s):\n",
    "    \n",
    "#     cnts = [0]*26\n",
    "#     for ch in s:\n",
    "#         cnts[ord(ch) - ord('a')] +=1\n",
    "#     return cnts\n",
    "    \n",
    "# def isValid(s):\n",
    "#     c = sorted(cnt(s),reverse=True)\n",
    "#     cc = Counter(c)\n",
    "#     return cc\n",
    "\n",
    "import operator\n",
    "def isValid(s):\n",
    "    cl = list(Counter(s).values())\n",
    "    ccl = sorted(Counter(cl).items(),key=operator.itemgetter(0))\n",
    "    \n",
    "    # occured times\n",
    "    cclk = [x[0] for x in ccl]\n",
    "    \n",
    "    # counts of occured certain numbers\n",
    "    cclv = [x[1] for x in ccl]\n",
    "    \n",
    "    print(ccl,cclk,cclv)\n",
    "    if len(cclk) > 2:\n",
    "        return \"NO\"\n",
    "    elif len(cclk) == 1:\n",
    "        return \"YES\"\n",
    "    elif len(cclk) == 2:\n",
    "        # a char occur once or \n",
    "        if (cclk[0] == 1 and cclv[0] == 1) or ((cclk[-1] - cclk[0] == 1) and (cclv[0] == 1 or cclv[-1] == 1)): \n",
    "            return \"YES\"\n",
    "        else:\n",
    "            return \"NO\"\n",
    "    \n"
   ]
  },
  {
   "cell_type": "code",
   "execution_count": null,
   "metadata": {},
   "outputs": [],
   "source": [
    "s = \"abcdefghhgfedecba\"\n",
    "s7 = \"ibfdgaeadiaefgbhbdghhhbgdfgeiccbiehhfcggchgghadhdhagfbahhddgghbdehidbibaeaagaeeigffcebfbaieggabcfbiiedcabfihchdfabifahcbhagccbdfifhghcadfiadeeaheeddddiecaicbgigccageicehfdhdgafaddhffadigfhhcaedcedecafeacbdacgfgfeeibgaiffdehigebhhehiaahfidibccdcdagifgaihacihadecgifihbebffebdfbchbgigeccahgihbcbcaggebaaafgfedbfgagfediddghdgbgehhhifhgcedechahidcbchebheihaadbbbiaiccededchdagfhccfdefigfibifabeiaccghcegfbcghaefifbachebaacbhbfgfddeceababbacgffbagidebeadfihaefefegbghgddbbgddeehgfbhafbccidebgehifafgbghafacgfdccgifdcbbbidfifhdaibgigebigaedeaaiadegfefbhacgddhchgcbgcaeaieiegiffchbgbebgbehbbfcebciiagacaiechdigbgbghefcahgbhfibhedaeeiffebdiabcifgccdefabccdghehfibfiifdaicfedagahhdcbhbicdgibgcedieihcichadgchgbdcdagaihebbabhibcihicadgadfcihdheefbhffiageddhgahaidfdhhdbgciiaciegchiiebfbcbhaeagccfhbfhaddagnfieihghfbaggiffbbfbecgaiiidccdceadbbdfgigibgcgchafccdchgifdeieicbaididhfcfdedbhaadedfageigfdehgcdaecaebebebfcieaecfagfdieaefdiedbcadchabhebgehiidfcgahcdhcdhgchhiiheffiifeegcfdgbdeffhgeghdfhbfbifgidcafbfcd\"\n",
    "s2 = \"abcdefghhgfedecba\"\n",
    "ans = isValid(s7)\n",
    "ans\n"
   ]
  },
  {
   "cell_type": "markdown",
   "metadata": {},
   "source": [
    "### H Count Triplets"
   ]
  },
  {
   "cell_type": "code",
   "execution_count": null,
   "metadata": {},
   "outputs": [],
   "source": [
    "# M1, out of time limit\n",
    "# def countTriplets(arr, r):\n",
    "#     ans = 0\n",
    "#     arr = sorted(arr)\n",
    "#     n = len(arr)\n",
    "#     for i in range(n-2):\n",
    "#         for j in range(i+1,n-1):\n",
    "#             if arr[j] == r * arr[i]:\n",
    "#                 for k in range(j+1,n):\n",
    "#                     if arr[k] == r * arr[j]:\n",
    "#                         print(arr[i],arr[j],arr[k])\n",
    "#                         ans += 1 \n",
    "#     return ans\n",
    "\n",
    "\n",
    "# Setting the default_factory to int makes the defaultdict useful for counting (like a bag or multiset in other languages)\n",
    "from collections import defaultdict\n",
    "def countTriplets(arr, r):\n",
    "    c1 = defaultdict(int)\n",
    "    c2 = defaultdict(int)\n",
    "    \n",
    "    r2 = r * r\n",
    "    ans = 0\n",
    "    for x in arr:\n",
    "        if r == 1:\n",
    "            n = c1[x]\n",
    "            # right now, n is less 1 than the actural\n",
    "            # means, when we meet a next item, we first select any two from before,combination\n",
    "            #c(n,2) = ()\n",
    "            ans += (n * (n-1)) // 2\n",
    "        else:\n",
    "            if x % r  == 0:            \n",
    "                # the second level is constrain by the first level, so when meet a second level number, \n",
    "                # we record the first level number\n",
    "                c2[x] += c1[x // r]\n",
    "            if x % r2 == 0:\n",
    "                # when meet the third level number, likewise, it is constrained by the seconde level\n",
    "                ans += c2[x // r]\n",
    "        \n",
    "        c1[x] += 1\n",
    "    \n",
    "    return ans\n",
    "            "
   ]
  },
  {
   "cell_type": "code",
   "execution_count": null,
   "metadata": {},
   "outputs": [],
   "source": [
    "arr = [1,5, 5, 25, 125]\n",
    "r = 5\n",
    "ans = countTriplets(arr,r)\n",
    "ans"
   ]
  },
  {
   "cell_type": "markdown",
   "metadata": {},
   "source": [
    "### H Sherlock and Anagrams"
   ]
  },
  {
   "cell_type": "code",
   "execution_count": null,
   "metadata": {},
   "outputs": [],
   "source": [
    "def sherlockAndAnagrams(s):\n",
    "    ans = 0\n",
    "    n = len(s)\n",
    "    \n",
    "    for length in range(1,n):\n",
    "        \n",
    "        # n - length if for limit the lenth not out\n",
    "        for i in range(n-length):\n",
    "            substring = sorted(s[i:i+length])\n",
    "            \n",
    "            # substring j start from the next of i.\n",
    "            for j in range(i+1,n):\n",
    "                if j + length > n:\n",
    "                    continue\n",
    "                elif substring == sorted(s[j:j+length]):\n",
    "                    print(substring,sorted(s[j:j+length]))\n",
    "                    ans += 1\n",
    "    return ans"
   ]
  },
  {
   "cell_type": "code",
   "execution_count": null,
   "metadata": {},
   "outputs": [],
   "source": [
    "s1 = \"abba\"\n",
    "s2 = \"kkkk\"\n",
    "s3 = \"ifailuhkqq\"\n",
    "ans = sherlockAndAnagrams(s1)\n",
    "ans"
   ]
  },
  {
   "cell_type": "code",
   "execution_count": null,
   "metadata": {},
   "outputs": [],
   "source": [
    "s1[2:6]"
   ]
  },
  {
   "cell_type": "code",
   "execution_count": null,
   "metadata": {},
   "outputs": [],
   "source": []
  }
 ],
 "metadata": {
  "kernelspec": {
   "display_name": "Python 3",
   "language": "python",
   "name": "python3"
  },
  "language_info": {
   "codemirror_mode": {
    "name": "ipython",
    "version": 3
   },
   "file_extension": ".py",
   "mimetype": "text/x-python",
   "name": "python",
   "nbconvert_exporter": "python",
   "pygments_lexer": "ipython3",
   "version": "3.7.3"
  },
  "toc": {
   "base_numbering": 1,
   "nav_menu": {},
   "number_sections": true,
   "sideBar": true,
   "skip_h1_title": false,
   "title_cell": "Table of Contents",
   "title_sidebar": "Contents",
   "toc_cell": false,
   "toc_position": {},
   "toc_section_display": true,
   "toc_window_display": true
  }
 },
 "nbformat": 4,
 "nbformat_minor": 2
}
