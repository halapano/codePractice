{
 "cells": [
  {
   "cell_type": "markdown",
   "metadata": {},
   "source": [
    "# String"
   ]
  },
  {
   "cell_type": "markdown",
   "metadata": {},
   "source": [
    "## EASY"
   ]
  },
  {
   "cell_type": "markdown",
   "metadata": {},
   "source": [
    "### 819. Most Common Word\n",
    "\n",
    "```\n",
    "Given a paragraph and a list of banned words, return the most frequent word that is not in the list of banned words.  It is guaranteed there is at least one word that isn't banned, and that the answer is unique.\n",
    "\n",
    "Words in the list of banned words are given in lowercase, and free of punctuation.  Words in the paragraph are not case sensitive.  The answer is in lowercase.\n",
    "\n",
    " \n",
    "\n",
    "Example:\n",
    "\n",
    "Input: \n",
    "paragraph = \"Bob hit a ball, the hit BALL flew far after it was hit.\"\n",
    "banned = [\"hit\"]\n",
    "Output: \"ball\"\n",
    "Explanation: \n",
    "\"hit\" occurs 3 times, but it is a banned word.\n",
    "\"ball\" occurs twice (and no other word does), so it is the most frequent non-banned word in the paragraph. \n",
    "Note that words in the paragraph are not case sensitive,\n",
    "that punctuation is ignored (even if adjacent to words, such as \"ball,\"), \n",
    "and that \"hit\" isn't the answer even though it occurs more because it is banned.\n",
    "\n",
    "```"
   ]
  },
  {
   "cell_type": "code",
   "execution_count": 33,
   "metadata": {},
   "outputs": [],
   "source": [
    "import re\n",
    "from collections import Counter\n",
    "\n",
    "class Solution:\n",
    "    def mostCommonWord(self, paragraph, banned):\n",
    "        words = re.findall('\\w+',paragraph.lower())\n",
    "        words = [word for word in words if word not in set(banned)]\n",
    "        \n",
    "        word_count = Counter(words)\n",
    "        return word_count.most_common(1)[0][0]\n",
    "        "
   ]
  },
  {
   "cell_type": "code",
   "execution_count": 34,
   "metadata": {},
   "outputs": [
    {
     "data": {
      "text/plain": [
       "'ball'"
      ]
     },
     "execution_count": 34,
     "metadata": {},
     "output_type": "execute_result"
    }
   ],
   "source": [
    "paragraph = \"Bob hit a ball, the hit BALL flew far after it was hit.\"\n",
    "banned = [\"hit\"]\n",
    "ans = Solution().mostCommonWord(paragraph,banned)\n",
    "ans"
   ]
  },
  {
   "cell_type": "code",
   "execution_count": 18,
   "metadata": {},
   "outputs": [
    {
     "data": {
      "text/plain": [
       "'bob hit a ball, the hit ball flew far after it was hit.'"
      ]
     },
     "execution_count": 18,
     "metadata": {},
     "output_type": "execute_result"
    }
   ],
   "source": [
    "paragraph.lower()"
   ]
  },
  {
   "cell_type": "markdown",
   "metadata": {},
   "source": [
    "### H Alternating Characters"
   ]
  },
  {
   "cell_type": "code",
   "execution_count": null,
   "metadata": {},
   "outputs": [],
   "source": [
    "def alternatingCharacters(s):\n",
    "    \n",
    "    ans = 0\n",
    "    for i in range(1,len(s)):\n",
    "        ans += s[i] == s[i-1]\n",
    "    return ans            \n"
   ]
  },
  {
   "cell_type": "code",
   "execution_count": null,
   "metadata": {},
   "outputs": [],
   "source": [
    "s = \"AAABBB\"\n",
    "res = alternatingCharacters(s)\n",
    "res"
   ]
  },
  {
   "cell_type": "markdown",
   "metadata": {},
   "source": [
    "### H Strings: Making Anagrams\n",
    "\n"
   ]
  },
  {
   "cell_type": "code",
   "execution_count": null,
   "metadata": {},
   "outputs": [],
   "source": [
    "from collections import Counter\n",
    "def makeAnagram(a, b):\n",
    "    ac = Counter(a)\n",
    "    bc = Counter(b)\n",
    "    \n",
    "    ans = sum(list((ac-bc).values())) + sum(list((bc-ac).values()))\n",
    "    return ans"
   ]
  },
  {
   "cell_type": "code",
   "execution_count": null,
   "metadata": {},
   "outputs": [],
   "source": [
    "a = \"cde\"\n",
    "b = \"abc\"\n",
    "ans = makeAnagram(a,b)\n",
    "ans"
   ]
  },
  {
   "cell_type": "code",
   "execution_count": null,
   "metadata": {},
   "outputs": [],
   "source": [
    "from collections import Counter\n",
    "\n",
    "ac = Counter(a)\n",
    "bc = Counter(b)\n",
    "\n",
    "bc - ac\n",
    "sum(list((ac-bc).values()))"
   ]
  },
  {
   "cell_type": "code",
   "execution_count": null,
   "metadata": {},
   "outputs": [],
   "source": [
    "def count(s):\n",
    "    counts = [0] * 26\n",
    "\n",
    "    for letter in s:\n",
    "        counts[ord(letter) - ord('a')] += 1\n",
    "\n",
    "    return counts\n",
    "\n",
    "\n",
    "def diff(xs, ys):\n",
    "    return sum(abs(x - y) for (x, y) in zip(xs, ys))\n",
    "\n",
    "\n",
    "def main():\n",
    "    a = input()\n",
    "    b = input()\n",
    "    print(diff(count(a), count(b)))\n",
    "\n",
    "\n",
    "if __name__ == '__main__':\n",
    "    main()"
   ]
  },
  {
   "cell_type": "markdown",
   "metadata": {},
   "source": [
    "### H_warm_Repeated String\n"
   ]
  },
  {
   "cell_type": "code",
   "execution_count": null,
   "metadata": {},
   "outputs": [],
   "source": [
    "from collections import Counter\n",
    "def repeatedString(s, n):\n",
    "    lenth = len(s)\n",
    "    per_num = Counter(s)['a']\n",
    "    s_remain = s[:n%lenth]\n",
    "    ram_num = Counter(s_remain)['a']\n",
    "    return (per_num * (n // lenth) + ram_num)"
   ]
  },
  {
   "cell_type": "code",
   "execution_count": null,
   "metadata": {},
   "outputs": [],
   "source": [
    "s1 = 'abc'\n",
    "s2 = 'aba'\n",
    "ans  = repeatedString(s2,7)\n",
    "ans"
   ]
  },
  {
   "cell_type": "code",
   "execution_count": null,
   "metadata": {},
   "outputs": [],
   "source": [
    "cnt = Counter(s2)\n",
    "cnt['a']"
   ]
  },
  {
   "cell_type": "code",
   "execution_count": null,
   "metadata": {},
   "outputs": [],
   "source": [
    "7 // 3"
   ]
  },
  {
   "cell_type": "markdown",
   "metadata": {},
   "source": [
    "### Hash Tables: Ransom Note\n"
   ]
  },
  {
   "cell_type": "code",
   "execution_count": null,
   "metadata": {},
   "outputs": [],
   "source": [
    "from collections import Counter\n",
    "def checkMagazine(magazine, note):\n",
    "    if Counter(note) - Counter(magazine) == {}:\n",
    "        print('Yes')\n",
    "        return\n",
    "    else:\n",
    "        print('No')\n",
    "        return"
   ]
  },
  {
   "cell_type": "code",
   "execution_count": null,
   "metadata": {},
   "outputs": [],
   "source": [
    "# m1 = 'two times three is not four'.rstrip().split()\n",
    "# n1 = 'two times two is four'.rstrip().split()\n",
    "# n11 = 'two'.rstrip().split()\n",
    "# m2 = 'ive got a lovely bunch of coconuts'.rstrip().split()\n",
    "# n2 = 'ive got some coconuts'.rstrip().split()\n",
    "# m3 = 'give me one grand today night'.rstrip().split()\n",
    "# n3 = 'give one grand today'.rstrip().split()\n",
    "m4 = 'apgo clm w lxkvg mwz elo bg elo lxkvg elo apgo apgo w elo bg'.rstrip().split()\n",
    "n4='elo lxkvg bg mwz clm w '.rstrip().split()\n",
    "checkMagazine(m4,n4)"
   ]
  },
  {
   "cell_type": "code",
   "execution_count": null,
   "metadata": {},
   "outputs": [],
   "source": [
    "print(Counter(m4).items(),'\\n',Counter(n4).items())"
   ]
  },
  {
   "cell_type": "code",
   "execution_count": null,
   "metadata": {},
   "outputs": [],
   "source": [
    "Counter(n4) - Counter(m4)"
   ]
  },
  {
   "cell_type": "code",
   "execution_count": null,
   "metadata": {},
   "outputs": [],
   "source": [
    "Counter(m4).items()- Counter(n4).items() "
   ]
  },
  {
   "cell_type": "markdown",
   "metadata": {},
   "source": [
    "### 28. Implement strStr()\n",
    "\n",
    "Implement strStr().\n",
    "\n",
    "Return the index of the first occurrence of needle in haystack, or -1 if needle is not part of haystack.\n",
    "\n",
    "Example 1:\n",
    "\n",
    "Input: haystack = \"hello\", needle = \"ll\"\n",
    "Output: 2\n",
    "Example 2:\n",
    "\n",
    "Input: haystack = \"aaaaa\", needle = \"bba\"\n",
    "Output: -1\n",
    "Clarification:\n",
    "\n",
    "What should we return when needle is an empty string? This is a great question to ask during an interview.\n",
    "\n",
    "For the purpose of this problem, we will return 0 when needle is an empty string. This is consistent to C's strstr() and Java's indexOf()."
   ]
  },
  {
   "cell_type": "code",
   "execution_count": null,
   "metadata": {},
   "outputs": [],
   "source": [
    "def strStr(haystack, needle):\n",
    "    \"\"\"\n",
    "    :type haystack: str\n",
    "    :type needle: str\n",
    "    :rtype: int\n",
    "    \"\"\"\n",
    "    # M1\n",
    "#     return haystack.find(needle)\n",
    "    \n",
    "#     tmp = needle[0]\n",
    "#     length_needle = len(needle)\n",
    "#     for i in range(len(haystack)-length_needle+1):\n",
    "#         if tmp == cha:\n",
    "#             match = True\n",
    "#             tmp =\n",
    "    \n",
    "    # M2 Runtime: 36 ms, faster than 96.20%\n",
    "    if needle not in haystack:\n",
    "        return -1\n",
    "    \n",
    "    if needle == '':\n",
    "        return 0\n",
    "    \n",
    "    m, n = len(haystack), len(needle)\n",
    "\n",
    "    for i in range(m-n+1):\n",
    "        if all(needle[j] == haystack[i+j] for j in range(n)):\n",
    "            return i\n",
    "    return -1"
   ]
  },
  {
   "cell_type": "code",
   "execution_count": null,
   "metadata": {},
   "outputs": [],
   "source": [
    "haystack = \"hello\"\n",
    "needle = \"ll\"\n",
    "ans = strStr(haystack,needle)\n",
    "ans"
   ]
  },
  {
   "cell_type": "markdown",
   "metadata": {},
   "source": [
    "### 299. Bulls and Cows\n",
    "\n",
    "\n",
    "You are playing the following Bulls and Cows game with your friend: You write down a number and ask your friend to guess what the number is. Each time your friend makes a guess, you provide a hint that indicates how many digits in said guess match your secret number exactly in both digit and position (called \"bulls\") and how many digits match the secret number but locate in the wrong position (called \"cows\"). Your friend will use successive guesses and hints to eventually derive the secret number.\n",
    "\n",
    "Write a function to return a hint according to the secret number and friend's guess, use A to indicate the bulls and B to indicate the cows. \n",
    "\n",
    "Please note that both secret number and friend's guess may contain duplicate digits.\n",
    "\n",
    "Example 1:\n",
    "\n",
    "Input: secret = \"1807\", guess = \"7810\"\n",
    "\n",
    "Output: \"1A3B\"\n",
    "\n",
    "Explanation: 1 bull and 3 cows. The bull is 8, the cows are 0, 1 and 7.\n",
    "Example 2:\n",
    "\n",
    "Input: secret = \"1123\", guess = \"0111\"\n",
    "\n",
    "Output: \"1A1B\"\n",
    "\n",
    "Explanation: The 1st 1 in friend's guess is a bull, the 2nd or 3rd 1 is a cow.\n",
    "Note: You may assume that the secret number and your friend's guess only contain digits, and their lengths are always equal"
   ]
  },
  {
   "cell_type": "code",
   "execution_count": null,
   "metadata": {},
   "outputs": [],
   "source": [
    "import operator \n",
    "from collections import Counter\n",
    "\n",
    "def getHint(secret, guess):\n",
    "    \"\"\"\n",
    "    :type secret: str\n",
    "    :type guess: str\n",
    "    :rtype: str\n",
    "    \"\"\"\n",
    "# M1: Runtime: 40 ms, faster than 100.00% \n",
    "#     bulls = sum(map(operator.eq, secret, guess))\n",
    "#     sa = Counter(secret)\n",
    "#     sb = Counter(guess)\n",
    "#     cows = sum((sa & sb).values()) - bulls\n",
    "#     return '{:d}A{:d}B'.format(bulls,cows)\n",
    "\n",
    "# M2: 40 ms, faster than 100.00%\n",
    "    bulls = sum(map(operator.eq, secret,guess))\n",
    "    both = sum(min(secret.count(x),guess.count(x)) for x in '0123456789')\n",
    "    cows = both - bulls\n",
    "    return '{:d}A{:d}B'.format(bulls,cows)"
   ]
  },
  {
   "cell_type": "code",
   "execution_count": null,
   "metadata": {},
   "outputs": [],
   "source": [
    "secret = \"1807\"\n",
    "guess = \"7810\"\n",
    "hint = getHint(secret,guess)\n",
    "hint"
   ]
  },
  {
   "cell_type": "markdown",
   "metadata": {},
   "source": [
    "### 14. Longest Common Prefix\n",
    "- tips: convert string to int, and compare the min and max.\n",
    "\n",
    "Write a function to find the longest common prefix string amongst an array of strings.\n",
    "\n",
    "If there is no common prefix, return an empty string \"\".\n",
    "\n",
    "Example 1:\n",
    "\n",
    "Input: [\"flower\",\"flow\",\"flight\"]\n",
    "Output: \"fl\"\n",
    "Example 2:\n",
    "\n",
    "Input: [\"dog\",\"racecar\",\"car\"]\n",
    "Output: \"\"\n",
    "Explanation: There is no common prefix among the input strings.\n",
    "Note:\n",
    "\n",
    "All given inputs are in lowercase letters a-z."
   ]
  },
  {
   "cell_type": "code",
   "execution_count": null,
   "metadata": {},
   "outputs": [],
   "source": [
    "from os.path import commonprefix\n",
    "\n",
    "def longestCommonPrefix(strs):\n",
    "    \"\"\"\n",
    "    :type strs: List[str]\n",
    "    :rtype: str\n",
    "    \"\"\"\n",
    "    # M1, os.path.commonprefix(strs)\n",
    "    return commonprefix(strs)\n",
    "    \n",
    "#     # M2\n",
    "    \n",
    "#     if not strs:\n",
    "#         return \"\"\n",
    "    \n",
    "#     s1 = min(strs)\n",
    "#     print(s1)\n",
    "#     s2 = max(strs)\n",
    "#     print(s2)\n",
    "#     for i, c in enumerate(s1):\n",
    "#         print(i,c)\n",
    "#         if c != s2[i]:\n",
    "#             return s1[:i]\n",
    "#     return s1"
   ]
  },
  {
   "cell_type": "code",
   "execution_count": null,
   "metadata": {},
   "outputs": [],
   "source": [
    "strs = [\"flower\",\"flow\",\"flight\"]\n",
    "ans = longestCommonPrefix(strs)\n",
    "ans"
   ]
  },
  {
   "cell_type": "markdown",
   "metadata": {},
   "source": [
    "### 58. Length of Last Word\n",
    "\n",
    "Given a string s consists of upper/lower-case alphabets and empty space characters ' ', return the length of last word in the string.\n",
    "\n",
    "If the last word does not exist, return 0.\n",
    "\n",
    "Note: A word is defined as a character sequence consists of non-space characters only.\n",
    "\n",
    "Example:\n",
    "\n",
    "Input: \"Hello World\"\n",
    "Output: 5"
   ]
  },
  {
   "cell_type": "code",
   "execution_count": null,
   "metadata": {},
   "outputs": [],
   "source": [
    "def lengthOfLastWord(s):\n",
    "    \"\"\"\n",
    "    :type s: str\n",
    "    :rtype: int\n",
    "    \"\"\"\n",
    "#    M1: Wrong, cannot use repartition\n",
    "#    repartition takes exactly one argument, and cannot split random long of white space. \n",
    "\n",
    "#     s_list = s.rpartition(\" \")\n",
    "#     print(s_list)\n",
    "#     if not s_list[0]:\n",
    "#         return \"\"\n",
    "#     else:\n",
    "#         if not s_list[-1]:\n",
    "#             return len(s_list[0].rpartition(\" \")[-1])\n",
    "#         else:\n",
    "#             return len(s_list[-1])\n",
    "    # 100%                \n",
    "    s_split = s.rsplit(maxsplit = 1)\n",
    "    print(s_split)\n",
    "    if s_split:\n",
    "        return len(s_split[-1])\n",
    "    else:\n",
    "        return 0  "
   ]
  },
  {
   "cell_type": "code",
   "execution_count": null,
   "metadata": {},
   "outputs": [],
   "source": [
    "str = \"Hello World\"\n",
    "str1=\"b   a   \"\n",
    "str2 = \"    \"\n",
    "ans = lengthOfLastWord(str1)\n",
    "ans"
   ]
  },
  {
   "cell_type": "markdown",
   "metadata": {},
   "source": [
    "### 387. First Unique Character in a String\n",
    "\n",
    "Given a string, find the first non-repeating character in it and return it's index. If it doesn't exist, return -1.\n",
    "\n",
    "Examples:\n",
    "\n",
    "s = \"leetcode\"\n",
    "return 0.\n",
    "\n",
    "s = \"loveleetcode\",\n",
    "return 2."
   ]
  },
  {
   "cell_type": "code",
   "execution_count": null,
   "metadata": {},
   "outputs": [],
   "source": [
    "from collections import Counter\n",
    "\n",
    "def firstUniqChar(s):\n",
    "    \"\"\"\n",
    "    :type s: str\n",
    "    :rtype: int\n",
    "    \"\"\"\n",
    "#   M1: Runtime: 108 ms, faster than 80.87% \n",
    "#   Counter\n",
    "#     cnt = Counter(s)\n",
    "#     for i,ch in enumerate(s):\n",
    "#         if cnt[ch] == 1:\n",
    "#             return i\n",
    "#     return -1\n",
    "  \n",
    "#    220 ms, faster than 20.37% \n",
    "#     cnt = [0] * 26\n",
    "#     for c in s:\n",
    "#         cnt[ord(c) - ord('a')] += 1\n",
    "        \n",
    "#     for i, ch in enumerate(s):\n",
    "#         if cnt[ord(ch)-ord('a')] == 1:\n",
    "#             return i\n",
    "#     return -1"
   ]
  },
  {
   "cell_type": "code",
   "execution_count": null,
   "metadata": {},
   "outputs": [],
   "source": [
    "s1 = \"leetcode\"\n",
    "s2 = \"loveleetcode\"\n",
    "ans = firstUniqChar(s2)\n",
    "ans"
   ]
  },
  {
   "cell_type": "markdown",
   "metadata": {},
   "source": [
    "### 383. Ransom Note\n",
    "\n",
    "Given an arbitrary ransom note string and another string containing letters from all the magazines, write a function that will return true if the ransom note can be constructed from the magazines ; otherwise, it will return false.\n",
    "\n",
    "Each letter in the magazine string can only be used once in your ransom note.\n",
    "\n",
    "Note:\n",
    "You may assume that both strings contain only lowercase letters.\n",
    "\n",
    "canConstruct(\"a\", \"b\") -> false\n",
    "canConstruct(\"aa\", \"ab\") -> false\n",
    "canConstruct(\"aa\", \"aab\") -> true\n",
    "\n",
    "Tips: & Operation on Counter"
   ]
  },
  {
   "cell_type": "code",
   "execution_count": null,
   "metadata": {},
   "outputs": [],
   "source": [
    "from collections import Counter\n",
    "def canConstruct(ransomNote, magazine):\n",
    "    \"\"\"\n",
    "    :type ransomNote: str\n",
    "    :type magazine: str\n",
    "    :rtype: bool\n",
    "    \"\"\"\n",
    "    # M1 Runtime: 52 ms, faster than 90.36%\n",
    "    cnt_note = Counter(ransomNote)\n",
    "    cnt_mag = Counter(magazine)\n",
    "    if (cnt_note & cnt_mag) == cnt_note:\n",
    "        print(cnt_note & cnt_mag)\n",
    "        return True\n",
    "    else:\n",
    "        return False\n",
    "    "
   ]
  },
  {
   "cell_type": "code",
   "execution_count": null,
   "metadata": {},
   "outputs": [],
   "source": [
    "ransomNote = \"aa\"\n",
    "magazine = \"caacab\"\n",
    "canConstruct(ransomNote,magazine)"
   ]
  },
  {
   "cell_type": "code",
   "execution_count": null,
   "metadata": {},
   "outputs": [],
   "source": [
    "ransomNote = \"aa\"\n",
    "magazine = \"cacab\"\n",
    "cnt_note = Counter(ransomNote)\n",
    "cnt_mag = Counter(magazine) \n",
    "print(cnt_note,cnt_mag)\n",
    "cnt_note & cnt_mag == cnt_note"
   ]
  },
  {
   "cell_type": "code",
   "execution_count": null,
   "metadata": {},
   "outputs": [],
   "source": [
    "4 & 7"
   ]
  },
  {
   "cell_type": "markdown",
   "metadata": {},
   "source": [
    "### 344. Reverse String\n",
    "\n",
    "Write a function that reverses a string. The input string is given as an array of characters char[].\n",
    "\n",
    "Do not allocate extra space for another array, you must do this by modifying the input array in-place with O(1) extra memory.\n",
    "\n",
    "You may assume all the characters consist of printable ascii characters.\n",
    "\n",
    "Example 1:\n",
    "\n",
    "Input: [\"h\",\"e\",\"l\",\"l\",\"o\"]\n",
    "Output: [\"o\",\"l\",\"l\",\"e\",\"h\"]\n",
    "Example 2:\n",
    "\n",
    "Input: [\"H\",\"a\",\"n\",\"n\",\"a\",\"h\"]\n",
    "Output: [\"h\",\"a\",\"n\",\"n\",\"a\",\"H\"]"
   ]
  },
  {
   "cell_type": "code",
   "execution_count": null,
   "metadata": {},
   "outputs": [],
   "source": [
    "# SP: O(1) in-place\n",
    "def reverseString(s):\n",
    "    \"\"\"\n",
    "    :type s: List[str]\n",
    "    :rtype: void Do not return anything, modify s in-place instead.\n",
    "    \"\"\"\n",
    "    #M1 : 232 ms, faster than 2.53%\n",
    "#     start, end = 0, len(s) - 1\n",
    "#     while start < end:\n",
    "#         s[start], s[end] = s[end], s[start]\n",
    "#         start += 1\n",
    "#         end-=1\n",
    "\n",
    "    # M2:\n",
    "#     for i in range(0,len(s)//2):\n",
    "#         s[i], s[len(s)-1-i] = s[len(s)-1-i], s[i] \n",
    "\n",
    "    # M3:\n",
    "    reversed"
   ]
  },
  {
   "cell_type": "code",
   "execution_count": null,
   "metadata": {},
   "outputs": [],
   "source": [
    "ss =  [\"h\",\"e\",\"l\",\"l\",\"o\"] \n",
    "s1 =[\"a\",\"b\"]\n",
    "reverseString(s1)\n",
    "s1"
   ]
  },
  {
   "cell_type": "markdown",
   "metadata": {},
   "source": [
    "### 345. Reverse Vowels of a String\n",
    "\n",
    "Write a function that takes a string as input and reverse only the vowels of a string.\n",
    "\n",
    "Example 1:\n",
    "\n",
    "Input: \"hello\"\n",
    "Output: \"holle\"\n",
    "Example 2:\n",
    "\n",
    "Input: \"leetcode\"\n",
    "Output: \"leotcede\"\n",
    "Note:\n",
    "The vowels does not include the letter \"y\"."
   ]
  },
  {
   "cell_type": "code",
   "execution_count": null,
   "metadata": {},
   "outputs": [],
   "source": [
    "import re\n",
    "\n",
    "def reverseVowels(s):\n",
    "    \"\"\"\n",
    "    :type s: str\n",
    "    :rtype: str\n",
    "    \"\"\"\n",
    "#     vowels = re.findall('(?i)[aeiou]', s)\n",
    "#     print(vowels)\n",
    "#     return re.sub('(?i)[aeiou]', lambda m: vowels.pop(), s)\n",
    "\n",
    "    v=re.findall('(?i)[aeiou]',s.lower())\n",
    "    print(v)\n",
    "    a=list(s)\n",
    "    for i in range(len(a)):\n",
    "        if a[i] in ['a','e','i','o','u']:\n",
    "            a[i]=v.pop()\n",
    "    return \"\".join(a)\n",
    "\n",
    "    # M1 Runtime: 64 ms, faster than 65.10% \n",
    "#     vowels = \"aeiouAEIOU\"\n",
    "#     s_list = list(s)\n",
    "#     start, end = 0,len(s_list)-1\n",
    "#     while start < end:\n",
    "#         if s_list[start] in vowels:\n",
    "#             if s_list[end] in vowels:\n",
    "#                 s_list[start], s_list[end] = s_list[end], s_list[start]\n",
    "#                 start += 1\n",
    "#                 end -= 1\n",
    "#             else:\n",
    "#                 end -= 1\n",
    "#         else:\n",
    "#             start+=1\n",
    "#     return \"\".join(s_list)\n",
    "    \n",
    "    \n",
    "    # M2 Runtime: 48 ms, faster than 88.34%\n",
    "    # Two pointer, one can trverse in\n",
    "#     vowels = \"aeiouAEIOU\"\n",
    "#     s_list = list(s)\n",
    "#     start, end = 0,len(s_list)-1\n",
    "#     while start < end:\n",
    "#         if s_list[start] in vowels:\n",
    "#             while s_list[end] not in vowels:\n",
    "#                 end -=1\n",
    "#             s_list[start], s_list[end] = s_list[end], s_list[start]\n",
    "#             start += 1\n",
    "#             end -= 1\n",
    "#         else:\n",
    "#             start+=1\n",
    "#     return \"\".join(s_list)\n"
   ]
  },
  {
   "cell_type": "code",
   "execution_count": null,
   "metadata": {},
   "outputs": [],
   "source": [
    "ss = \"heElloO\"\n",
    "ans = reverseVowels(ss)\n",
    "ans"
   ]
  },
  {
   "cell_type": "markdown",
   "metadata": {},
   "source": [
    "### 205. Isomorphic Strings\n",
    "\n",
    "Given two strings s and t, determine if they are isomorphic.\n",
    "\n",
    "Two strings are isomorphic if the characters in s can be replaced to get t.\n",
    "\n",
    "All occurrences of a character must be replaced with another character while preserving the order of characters. No two characters may map to the same character but a character may map to itself.\n",
    "\n",
    "Example 1:\n",
    "\n",
    "Input: s = \"egg\", t = \"add\"\n",
    "Output: true\n",
    "Example 2:\n",
    "\n",
    "Input: s = \"foo\", t = \"bar\"\n",
    "Output: false\n",
    "Example 3:\n",
    "\n",
    "Input: s = \"paper\", t = \"title\"\n",
    "Output: true\n",
    "Note:\n",
    "\n",
    "You may assume both s and t have the same length."
   ]
  },
  {
   "cell_type": "code",
   "execution_count": null,
   "metadata": {},
   "outputs": [],
   "source": [
    "from collections import Counter\n",
    "def isIsomorphic(s, t):\n",
    "    \"\"\"\n",
    "    :type s: str\n",
    "    :type t: str\n",
    "    :rtype: bool\n",
    "    \"\"\"\n",
    "#  M1： Wrong \"aba\" vs \"baa\"\n",
    "#     cnt_s = Counter(s)\n",
    "#     cnt_t = Counter(t)\n",
    "#     print(list(cnt_s.values()),list(cnt_t.values()))\n",
    "#     if list(cnt_s.values()) == list(cnt_t.values()):\n",
    "#         return True\n",
    "#     else:\n",
    "#         return False\n",
    "\n",
    "        \n",
    "        \n",
    "#   M1 : Runtime: 28 ms, faster than 97.17%\n",
    "    \n",
    "#     return len(set(zip(s,t))) == len(set(s)) == len(set(t))\n",
    "\n",
    "\n",
    "# M3 : Runtime: 32 ms\n",
    "    d1 = {}\n",
    "    d2 = {}\n",
    "    for k in range(len(s)):\n",
    "        if s[k] not in d1:\n",
    "            d1[s[k]]=t[k]\n",
    "        elif d1[s[k]]!=t[k]:\n",
    "            return False\n",
    "        if t[k] not in d2:\n",
    "            d2[t[k]]=s[k]\n",
    "        elif d2[t[k]]!=s[k]:\n",
    "            return False\n",
    "\n",
    "    return True"
   ]
  },
  {
   "cell_type": "code",
   "execution_count": null,
   "metadata": {},
   "outputs": [],
   "source": [
    "s = \"paper\"\n",
    "t = \"tltle\"\n",
    "isIsomorphic(s,t)"
   ]
  },
  {
   "cell_type": "code",
   "execution_count": null,
   "metadata": {},
   "outputs": [],
   "source": [
    "set(zip(s,t))"
   ]
  },
  {
   "cell_type": "markdown",
   "metadata": {},
   "source": [
    "### 290. Word Pattern\n",
    "\n",
    "Given a pattern and a string str, find if str follows the same pattern.\n",
    "\n",
    "Here follow means a full match, such that there is a bijection between a letter in pattern and a non-empty word in str.\n",
    "\n",
    "Example 1:\n",
    "\n",
    "Input: pattern = \"abba\", str = \"dog cat cat dog\"\n",
    "Output: true\n",
    "Example 2:\n",
    "\n",
    "Input:pattern = \"abba\", str = \"dog cat cat fish\"\n",
    "Output: false\n",
    "Example 3:\n",
    "\n",
    "Input: pattern = \"aaaa\", str = \"dog cat cat dog\"\n",
    "Output: false\n",
    "Example 4:\n",
    "\n",
    "Input: pattern = \"abba\", str = \"dog dog dog dog\"\n",
    "Output: false\n",
    "Notes:\n",
    "You may assume pattern contains only lowercase letters, and str contains lowercase letters separated by a single space"
   ]
  },
  {
   "cell_type": "code",
   "execution_count": null,
   "metadata": {},
   "outputs": [],
   "source": [
    "def wordPattern(pattern, str):\n",
    "    \"\"\"\n",
    "    :type pattern: str\n",
    "    :type str: str\n",
    "    :rtype: bool\n",
    "    \"\"\"\n",
    "\n",
    "    # M1: Runtime: 20 ms, faster than 91.18%\n",
    "    str_list = str.split()\n",
    "    if len(pattern) != len(str_list):\n",
    "        return False\n",
    "    else:\n",
    "        return len(set(zip(pattern,str_list))) == len(set(pattern)) == len(set(str_list))"
   ]
  },
  {
   "cell_type": "code",
   "execution_count": null,
   "metadata": {},
   "outputs": [],
   "source": [
    "pattern = \"abba\"\n",
    "str = \"dog cat cat fish\"\n",
    "wordPattern(pattern,str)"
   ]
  },
  {
   "cell_type": "markdown",
   "metadata": {},
   "source": [
    "### 242. Valid Anagram\n",
    "\n",
    "Given two strings s and t , write a function to determine if t is an anagram of s.\n",
    "\n",
    "Example 1:\n",
    "\n",
    "Input: s = \"anagram\", t = \"nagaram\"\n",
    "Output: true\n",
    "Example 2:\n",
    "\n",
    "Input: s = \"rat\", t = \"car\"\n",
    "Output: false\n",
    "Note:\n",
    "You may assume the string contains only lowercase alphabets.\n",
    "\n",
    "Follow up:\n",
    "What if the inputs contain unicode characters? How would you adapt your solution to such case?"
   ]
  },
  {
   "cell_type": "code",
   "execution_count": null,
   "metadata": {},
   "outputs": [],
   "source": [
    "from collections import Counter\n",
    "def isAnagram(s, t):\n",
    "    \"\"\"\n",
    "    :type s: str\n",
    "    :type t: str\n",
    "    :rtype: bool\n",
    "    \"\"\"\n",
    "    \n",
    "    # M1: 56 ms, faster than 38.99%\n",
    "#     sc = Counter(s)\n",
    "#     tc = Counter(t)\n",
    "#     print(sc,tc)\n",
    "#     if sc == tc:\n",
    "#         return True\n",
    "#     else:\n",
    "#         return False\n",
    "    # M2 52 ms, faster than 54.59%\n",
    "    return sorted(s) == sorted(t)"
   ]
  },
  {
   "cell_type": "code",
   "execution_count": null,
   "metadata": {},
   "outputs": [],
   "source": [
    "s = \"anagram\"\n",
    "t = \"nagaram\"\n",
    "isAnagram(s,t)"
   ]
  },
  {
   "cell_type": "markdown",
   "metadata": {},
   "source": [
    "### 38. Count and Say\n",
    "\n",
    "Share\n",
    "The count-and-say sequence is the sequence of integers with the first five terms as following:\n",
    "\n",
    "1.     1\n",
    "2.     11\n",
    "3.     21\n",
    "4.     1211\n",
    "5.     111221\n",
    "1 is read off as \"one 1\" or 11.\n",
    "11 is read off as \"two 1s\" or 21.\n",
    "21 is read off as \"one 2, then one 1\" or 1211.\n",
    "\n",
    "Given an integer n where 1 ≤ n ≤ 30, generate the nth term of the count-and-say sequence.\n",
    "\n",
    "Note: Each term of the sequence of integers will be represented as a string.\n",
    "\n",
    " \n",
    "\n",
    "Example 1:\n",
    "\n",
    "Input: 1\n",
    "Output: \"1\"\n",
    "Example 2:\n",
    "\n",
    "Input: 4\n",
    "Output: \"1211\""
   ]
  },
  {
   "cell_type": "code",
   "execution_count": null,
   "metadata": {},
   "outputs": [],
   "source": [
    "from itertools import groupby\n",
    "\n",
    "class Solution(object):\n",
    "    def countAndSay(self, n):\n",
    "        \"\"\"\n",
    "        :type n: int\n",
    "        :rtype: str\n",
    "        \"\"\"\n",
    "        # M1 36 ms, faster than 17.37%\n",
    "#         if n == 1:\n",
    "#             return '1'\n",
    "#         s = self.countAndSay(n-1) + '*'\n",
    "#         res, cnt = '',1\n",
    "#         for i in range(len(s) - 1):\n",
    "#             if s[i] == s[i+1]:\n",
    "#                 cnt += 1\n",
    "#             else:\n",
    "#                 res += str(cnt) + str(s[i])\n",
    "#                 cnt = 1\n",
    "#         return res\n",
    "        # M2\n",
    "        res = '1'\n",
    "        for i in range(n-1):\n",
    "            res = ''.join(str(len(list(group))) + key for key, group in groupby(res))\n",
    "        return res"
   ]
  },
  {
   "cell_type": "code",
   "execution_count": null,
   "metadata": {},
   "outputs": [],
   "source": [
    "n = 4\n",
    "tmp = Solution()\n",
    "ans = tmp.countAndSay(n)\n",
    "print(ans)"
   ]
  },
  {
   "cell_type": "markdown",
   "metadata": {},
   "source": [
    "## MEDIUM"
   ]
  },
  {
   "cell_type": "markdown",
   "metadata": {},
   "source": [
    "### 5. [ ] Longest Palindromic Substring\n",
    "\n",
    "```\n",
    "Given a string s, find the longest palindromic substring in s. You may assume that the maximum length of s is 1000.\n",
    "\n",
    "Example 1:\n",
    "\n",
    "Input: \"babad\"\n",
    "Output: \"bab\"\n",
    "Note: \"aba\" is also a valid answer.\n",
    "Example 2:\n",
    "\n",
    "Input: \"cbbd\"\n",
    "Output: \"bb\"\n",
    "\n",
    "```"
   ]
  },
  {
   "cell_type": "code",
   "execution_count": 8,
   "metadata": {},
   "outputs": [],
   "source": [
    "# M1: brute force: from middle to two ends.\n",
    "\n",
    "class Solution(object):\n",
    "    def longestPalindrome(self, s):\n",
    "        \"\"\"\n",
    "        :type s: str\n",
    "        :rtype: str\n",
    "        \"\"\"\n",
    "        res = \"\"\n",
    "        for i in range(len(s)):\n",
    "            \n",
    "            # for odd case\n",
    "            tmp = self.helper(s,i,i)\n",
    "            if len(tmp) > len(res):\n",
    "                res = tmp\n",
    "                \n",
    "            # for even case\n",
    "            tmp = self.helper(s,i,i+1)\n",
    "            if len(tmp) > len(res):\n",
    "                res = tmp\n",
    "        return res\n",
    "        \n",
    "        \n",
    "    def helper(self,s,l,r):\n",
    "        \"\"\"\n",
    "        get the longest palindrome from a char\n",
    "        \"\"\"\n",
    "        \n",
    "        while l>=0 and r<len(s) and s[l] == s[r]:\n",
    "            l -= 1\n",
    "            r += 1\n",
    "        return s[l+1:r]\n",
    "        "
   ]
  },
  {
   "cell_type": "code",
   "execution_count": 7,
   "metadata": {},
   "outputs": [],
   "source": [
    "# M2: Dynamic Programming\n",
    "\n",
    "\n",
    "class Solution(object):\n",
    "    def longestPalindrome(self, s):\n",
    "        \"\"\"\n",
    "        :type s: str\n",
    "        :rtype: str\n",
    "        \"\"\"\n",
    "        dp = [[0] * len(s) for i in range(len(s))]\n",
    "        ans = \"\"\n",
    "        max_length = 0\n",
    "        for i in range(len(s) - 1, -1, -1):\n",
    "            for j in range(i, len(s)):\n",
    "                if s[i] == s[j] and (j - i < 3 or dp[i+1][j-1] == 1):\n",
    "                    dp[i][j] = 1\n",
    "                    if ans == \"\" or max_length < j - i + 1:\n",
    "                        ans = s[i:j+1]\n",
    "                        max_length = j - i + 1\n",
    "        return ans\n",
    "        "
   ]
  },
  {
   "cell_type": "code",
   "execution_count": 9,
   "metadata": {},
   "outputs": [
    {
     "data": {
      "text/plain": [
       "'bab'"
      ]
     },
     "execution_count": 9,
     "metadata": {},
     "output_type": "execute_result"
    }
   ],
   "source": [
    "s = \"babad\"\n",
    "obj = Solution()\n",
    "ans = obj.longestPalindrome(s)\n",
    "ans"
   ]
  },
  {
   "cell_type": "markdown",
   "metadata": {},
   "source": [
    "### Special String Again"
   ]
  },
  {
   "cell_type": "code",
   "execution_count": null,
   "metadata": {},
   "outputs": [],
   "source": [
    "def substrCount(n, s):\n",
    "    \n",
    "    li = []\n",
    "    count = 0\n",
    "    cur = None\n",
    "    \n",
    "    for i in range(n):\n",
    "        if s[i] == cur:\n",
    "            count += 1\n",
    "        else:\n",
    "            if cur is not None:\n",
    "                li.append((cur,count))\n",
    "            cur = s[i]\n",
    "            count = 1\n",
    "    li.append((cur,count))\n",
    "    \n",
    "    ans = 0\n",
    "    for t in li:\n",
    "        ans += t[1] * (t[1]+1) // 2\n",
    "        \n",
    "    \n",
    "    for j in range(1,len(li)-1):\n",
    "        if li[j-1][0] == li[j+1][0] and li[j][1] == 1:\n",
    "            ans += min(li[j-1][1],li[j+1][1])\n",
    "    \n",
    "    return ans"
   ]
  },
  {
   "cell_type": "code",
   "execution_count": null,
   "metadata": {},
   "outputs": [],
   "source": [
    "s = \"asasd\"\n",
    "s2 = \"abcbaba\"\n",
    "ans = substrCount(len(s2),s2)\n",
    "ans"
   ]
  },
  {
   "cell_type": "markdown",
   "metadata": {},
   "source": [
    "### H Common Child"
   ]
  },
  {
   "cell_type": "code",
   "execution_count": null,
   "metadata": {},
   "outputs": [],
   "source": [
    "# S1 and S2 are equal length\n",
    "# can delete same number of items.\n",
    "# not only one common, but have same length\n",
    "\n",
    "# https://en.wikipedia.org/wiki/Longest_common_subsequence_problem\n",
    "def commonChild(s1, s2):\n",
    "    \n",
    "    n, m = len(s1),len(s2)\n",
    "    \n",
    "    dp = [[0] * (n+1) for _ in range(m+1)]\n",
    "    \n",
    "    for i in range(1, n +1):\n",
    "        for j in range(1, m +1):\n",
    "            if s1[i-1] == s2[j-1]:\n",
    "                dp[i][j] = dp[i-1][j-1] + 1\n",
    "            else:\n",
    "                dp[i][j] = max(dp[i-1][j],dp[i][j-1])\n",
    "    return dp[n][m]"
   ]
  },
  {
   "cell_type": "code",
   "execution_count": null,
   "metadata": {},
   "outputs": [],
   "source": [
    "s1 = \"SHINCHAN\"\n",
    "s2 = \"NOHARAAA\"\n",
    "ans = commonChild(s1,s2)\n",
    "ans"
   ]
  },
  {
   "cell_type": "code",
   "execution_count": null,
   "metadata": {},
   "outputs": [],
   "source": [
    "list(range(5))"
   ]
  },
  {
   "cell_type": "markdown",
   "metadata": {},
   "source": [
    "### [ ] 355. Design Twitter\n",
    "\n",
    "Design a simplified version of Twitter where users can post tweets, follow/unfollow another user and is able to see the 10 most recent tweets in the user's news feed. Your design should support the following methods:\n",
    "\n",
    "postTweet(userId, tweetId): Compose a new tweet.\n",
    "getNewsFeed(userId): Retrieve the 10 most recent tweet ids in the user's news feed. Each item in the news feed must be posted by users who the user followed or by the user herself. Tweets must be ordered from most recent to least recent.\n",
    "follow(followerId, followeeId): Follower follows a followee.\n",
    "unfollow(followerId, followeeId): Follower unfollows a followee.\n",
    "Example:\n",
    "\n",
    "Twitter twitter = new Twitter();\n",
    "\n",
    "// User 1 posts a new tweet (id = 5).\n",
    "twitter.postTweet(1, 5);\n",
    "\n",
    "// User 1's news feed should return a list with 1 tweet id -> [5].\n",
    "twitter.getNewsFeed(1);\n",
    "\n",
    "// User 1 follows user 2.\n",
    "twitter.follow(1, 2);\n",
    "\n",
    "// User 2 posts a new tweet (id = 6).\n",
    "twitter.postTweet(2, 6);\n",
    "\n",
    "// User 1's news feed should return a list with 2 tweet ids -> [6, 5].\n",
    "// Tweet id 6 should precede tweet id 5 because it is posted after tweet id 5.\n",
    "twitter.getNewsFeed(1);\n",
    "\n",
    "// User 1 unfollows user 2.\n",
    "twitter.unfollow(1, 2);\n",
    "\n",
    "// User 1's news feed should return a list with 1 tweet id -> [5],\n",
    "// since user 1 is no longer following user 2.\n",
    "twitter.getNewsFeed(1);"
   ]
  },
  {
   "cell_type": "code",
   "execution_count": null,
   "metadata": {},
   "outputs": [],
   "source": [
    "class Twitter:\n",
    "\n",
    "    def __init__(self):\n",
    "        \"\"\"\n",
    "        Initialize your data structure here.\n",
    "        \"\"\"\n",
    "        \n",
    "\n",
    "    def postTweet(self, userId: int, tweetId: int) -> None:\n",
    "        \"\"\"\n",
    "        Compose a new tweet.\n",
    "        \"\"\"\n",
    "        \n",
    "\n",
    "    def getNewsFeed(self, userId: int) -> List[int]:\n",
    "        \"\"\"\n",
    "        Retrieve the 10 most recent tweet ids in the user's news feed. Each item in the news feed must be posted by users who the user followed or by the user herself. Tweets must be ordered from most recent to least recent.\n",
    "        \"\"\"\n",
    "        \n",
    "\n",
    "    def follow(self, followerId: int, followeeId: int) -> None:\n",
    "        \"\"\"\n",
    "        Follower follows a followee. If the operation is invalid, it should be a no-op.\n",
    "        \"\"\"\n",
    "        \n",
    "\n",
    "    def unfollow(self, followerId: int, followeeId: int) -> None:\n",
    "        \"\"\"\n",
    "        Follower unfollows a followee. If the operation is invalid, it should be a no-op.\n",
    "        \"\"\"\n",
    "        \n",
    "\n",
    "\n",
    "\n",
    "# Your Twitter object will be instantiated and called as such:\n",
    "# obj = Twitter()\n",
    "# obj.postTweet(userId,tweetId)\n",
    "# param_2 = obj.getNewsFeed(userId)\n",
    "# obj.follow(followerId,followeeId)\n",
    "# obj.unfollow(followerId,followeeId)"
   ]
  },
  {
   "cell_type": "markdown",
   "metadata": {},
   "source": [
    "### 151. Reverse Words in a String\n",
    "\n",
    "Given an input string, reverse the string word by word.\n",
    "\n",
    "Example:  \n",
    "\n",
    "Input: \"the sky is blue\",\n",
    "Output: \"blue is sky the\".\n",
    "Note:\n",
    "\n",
    "A word is defined as a sequence of non-space characters.\n",
    "Input string may contain leading or trailing spaces. However, your reversed string should not contain leading or trailing spaces.\n",
    "You need to reduce multiple spaces between two words to a single space in the reversed string.\n",
    "Follow up: For C programmers, try to solve it in-place in O(1) space."
   ]
  },
  {
   "cell_type": "code",
   "execution_count": null,
   "metadata": {},
   "outputs": [],
   "source": [
    "def reverseWords(s):\n",
    "    \"\"\"\n",
    "    :type s: str\n",
    "    :rtype: str\n",
    "    \"\"\"\n",
    "    # M1 20 ms, faster than 99.59% \n",
    "    s_spl = s.split()\n",
    "    # .join not include the first sep\n",
    "    return \"_\".join(s_spl[::-1])"
   ]
  },
  {
   "cell_type": "code",
   "execution_count": null,
   "metadata": {},
   "outputs": [],
   "source": [
    "ss = \" the sky  is blue \"\n",
    "ans = reverseWords(ss)\n",
    "ans"
   ]
  },
  {
   "cell_type": "markdown",
   "metadata": {},
   "source": [
    "### 49. Group Anagrams\n",
    "\n",
    "Given an array of strings, group anagrams together.\n",
    "\n",
    "Example:\n",
    "\n",
    "Input: [\"eat\", \"tea\", \"tan\", \"ate\", \"nat\", \"bat\"],\n",
    "Output:\n",
    "[\n",
    "  [\"ate\",\"eat\",\"tea\"],\n",
    "  [\"nat\",\"tan\"],\n",
    "  [\"bat\"]\n",
    "]\n",
    "Note:\n",
    "\n",
    "All inputs will be in lowercase.\n",
    "The order of your output does not matter."
   ]
  },
  {
   "cell_type": "code",
   "execution_count": null,
   "metadata": {},
   "outputs": [],
   "source": [
    "from collections import Counter\n",
    "def groupAnagrams(strs):\n",
    "    \"\"\"\n",
    "    :type strs: List[str]\n",
    "    :rtype: List[List[str]]\n",
    "    \"\"\"\n",
    "#     ans = []\n",
    "#     cnt_list = []\n",
    "#     for word in strs:\n",
    "#         wcnt = Counter(word)\n",
    "#         if wcnt not in cnt_list:\n",
    "#             cnt_list.append(wcnt)\n",
    "#             ans.\n",
    "#         else:\n",
    "#             cnt_list\n",
    "\n",
    "\n",
    "    # M1 120 ms, faster than 95.36%\n",
    "    # for dict , the key can have several values.\n",
    "    ans = {}\n",
    "    for ss in strs:\n",
    "        tmp = \"\".join(sorted(ss))\n",
    "        if tmp not in ans:\n",
    "            ans[tmp] = [ss]\n",
    "        else:\n",
    "            ans[tmp].append(ss)\n",
    "    return ans.values()\n",
    "    "
   ]
  },
  {
   "cell_type": "code",
   "execution_count": null,
   "metadata": {},
   "outputs": [],
   "source": [
    "ss = [\"eat\", \"tea\", \"tan\", \"ate\", \"nat\", \"bat\"]\n",
    "ans=groupAnagrams(ss)\n",
    "ans"
   ]
  },
  {
   "cell_type": "markdown",
   "metadata": {},
   "source": [
    "## Hard"
   ]
  },
  {
   "cell_type": "markdown",
   "metadata": {},
   "source": [
    "## 87. Scramble String\n",
    "\n",
    "Given a string s1, we may represent it as a binary tree by partitioning it to two non-empty substrings recursively.\n",
    "\n",
    "Below is one possible representation of s1 = \"great\":\n",
    "\n",
    "    great\n",
    "   /    \\\n",
    "  gr    eat\n",
    " / \\    /  \\\n",
    "g   r  e   at\n",
    "           / \\\n",
    "          a   t\n",
    "To scramble the string, we may choose any non-leaf node and swap its two children.\n",
    "\n",
    "For example, if we choose the node \"gr\" and swap its two children, it produces a scrambled string \"rgeat\".\n",
    "\n",
    "    rgeat\n",
    "   /    \\\n",
    "  rg    eat\n",
    " / \\    /  \\\n",
    "r   g  e   at\n",
    "           / \\\n",
    "          a   t\n",
    "We say that \"rgeat\" is a scrambled string of \"great\".\n",
    "\n",
    "Similarly, if we continue to swap the children of nodes \"eat\" and \"at\", it produces a scrambled string \"rgtae\".\n",
    "\n",
    "    rgtae\n",
    "   /    \\\n",
    "  rg    tae\n",
    " / \\    /  \\\n",
    "r   g  ta  e\n",
    "       / \\\n",
    "      t   a\n",
    "We say that \"rgtae\" is a scrambled string of \"great\".\n",
    "\n",
    "Given two strings s1 and s2 of the same length, determine if s2 is a scrambled string of s1.\n",
    "\n",
    "Example 1:\n",
    "\n",
    "Input: s1 = \"great\", s2 = \"rgeat\"\n",
    "Output: true\n",
    "Example 2:\n",
    "\n",
    "Input: s1 = \"abcde\", s2 = \"caebd\"\n",
    "Output: false"
   ]
  },
  {
   "cell_type": "code",
   "execution_count": null,
   "metadata": {},
   "outputs": [],
   "source": [
    "def isScramble(s1, s2):\n",
    "    \"\"\"\n",
    "    :type s1: str\n",
    "    :type s2: str\n",
    "    :rtype: bool\n",
    "    \"\"\"\n",
    "    # For binary tree, len <= 3, can be exchanged order.\n",
    "    if len(s1) != len(s2) or sorted(s1) != sorted(s2):\n",
    "        return False\n",
    "    if len(s1) < 4 or s1 == s2:\n",
    "        return True\n",
    "    return any(isScramble(s1[:i], s2[:i]) and isScramble(s1[i:], s2[i:]) or \\\n",
    "           isScramble(s1[:i], s2[-i:]) and isScramble(s1[i:], s2[:-i]) for i in range(1, len(s1)))    "
   ]
  },
  {
   "cell_type": "code",
   "execution_count": null,
   "metadata": {},
   "outputs": [],
   "source": [
    "s1 = \"great\"\n",
    "s2 = \"rgeat\"\n",
    "isScramble(s1,s2)"
   ]
  },
  {
   "cell_type": "code",
   "execution_count": null,
   "metadata": {},
   "outputs": [],
   "source": []
  }
 ],
 "metadata": {
  "kernelspec": {
   "display_name": "Python 3",
   "language": "python",
   "name": "python3"
  },
  "language_info": {
   "codemirror_mode": {
    "name": "ipython",
    "version": 3
   },
   "file_extension": ".py",
   "mimetype": "text/x-python",
   "name": "python",
   "nbconvert_exporter": "python",
   "pygments_lexer": "ipython3",
   "version": "3.7.0"
  },
  "toc": {
   "base_numbering": 1,
   "nav_menu": {},
   "number_sections": true,
   "sideBar": true,
   "skip_h1_title": false,
   "title_cell": "Table of Contents",
   "title_sidebar": "Contents",
   "toc_cell": false,
   "toc_position": {
    "height": "calc(100% - 180px)",
    "left": "10px",
    "top": "150px",
    "width": "279.6px"
   },
   "toc_section_display": true,
   "toc_window_display": true
  }
 },
 "nbformat": 4,
 "nbformat_minor": 2
}
