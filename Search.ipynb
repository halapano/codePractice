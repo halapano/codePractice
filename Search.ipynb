{
 "cells": [
  {
   "cell_type": "markdown",
   "metadata": {},
   "source": [
    "# Searching\n",
    "- for searching problem, you need find the lower and upper limit first."
   ]
  },
  {
   "cell_type": "markdown",
   "metadata": {},
   "source": [
    "## Medium"
   ]
  },
  {
   "cell_type": "markdown",
   "metadata": {},
   "source": [
    "### 81. Search in Rotated Sorted Array II\n",
    "\n",
    "```\n",
    "\n",
    "Suppose an array sorted in ascending order is rotated at some pivot unknown to you beforehand.\n",
    "\n",
    "(i.e., [0,0,1,2,2,5,6] might become [2,5,6,0,0,1,2]).\n",
    "\n",
    "You are given a target value to search. If found in the array return true, otherwise return false.\n",
    "\n",
    "Example 1:\n",
    "\n",
    "Input: nums = [2,5,6,0,0,1,2], target = 0\n",
    "Output: true\n",
    "Example 2:\n",
    "\n",
    "Input: nums = [2,5,6,0,0,1,2], target = 3\n",
    "Output: false\n",
    "Follow up:\n",
    "\n",
    "This is a follow up problem to Search in Rotated Sorted Array, where nums may contain duplicates.\n",
    "Would this affect the run-time complexity? How and why?\n",
    "```"
   ]
  },
  {
   "cell_type": "code",
   "execution_count": 3,
   "metadata": {},
   "outputs": [],
   "source": [
    "def search(nums, target):\n",
    "    return True if target in nums else False"
   ]
  },
  {
   "cell_type": "code",
   "execution_count": 4,
   "metadata": {},
   "outputs": [
    {
     "data": {
      "text/plain": [
       "True"
      ]
     },
     "execution_count": 4,
     "metadata": {},
     "output_type": "execute_result"
    }
   ],
   "source": [
    "nums = [2,5,6,0,0,1,2]\n",
    "target = 0\n",
    "ans = search(nums,target)\n",
    "ans"
   ]
  },
  {
   "cell_type": "markdown",
   "metadata": {},
   "source": [
    "### Minimum Time Required\n",
    "- two pointers, binary search"
   ]
  },
  {
   "cell_type": "code",
   "execution_count": null,
   "metadata": {},
   "outputs": [],
   "source": [
    "def count(machines,days):\n",
    "    return sum(map(lambda x:days // x, machines))\n",
    "\n",
    "def minTime(machines, goal):\n",
    "    \n",
    "    # key step: find the search limit\n",
    "    lower = 0\n",
    "    upper = goal * min(machines)\n",
    "    \n",
    "    while lower < upper:\n",
    "        middle = (lower + upper) // 2\n",
    "        if count(machines,middle) >= goal:\n",
    "            upper = middle\n",
    "        else:\n",
    "            lower = middle + 1\n",
    "    \n",
    "    return lower\n",
    "    "
   ]
  },
  {
   "cell_type": "code",
   "execution_count": null,
   "metadata": {},
   "outputs": [],
   "source": [
    "goal = 10\n",
    "machines = [1,3,4]\n",
    "ans = minTime(machines,goal)\n",
    "ans"
   ]
  },
  {
   "cell_type": "code",
   "execution_count": null,
   "metadata": {},
   "outputs": [],
   "source": [
    "5 // 4"
   ]
  },
  {
   "cell_type": "markdown",
   "metadata": {},
   "source": [
    "### Pairs\n",
    "- two pointers"
   ]
  },
  {
   "cell_type": "code",
   "execution_count": null,
   "metadata": {},
   "outputs": [],
   "source": [
    "# out of time limit\n",
    "# def pairs(k, arr):\n",
    "    \n",
    "#     arr.sort()\n",
    "#     count = 0\n",
    "#     for i, num in enumerate(arr):\n",
    "#         if num + k in arr:\n",
    "#             count += 1\n",
    "#     return count\n",
    "\n",
    "\n",
    "# M2: two pointers\n",
    "# def pairs(k,arr):\n",
    "#     arr.sort()\n",
    "#     n = len(arr)\n",
    "    \n",
    "#     count = 0\n",
    "    \n",
    "#     i = 0\n",
    "#     j = 1\n",
    "#     while j < n:\n",
    "#         diff = arr[j] - arr[i]\n",
    "#         if diff == k:\n",
    "#             count +=1\n",
    "#             j += 1\n",
    "#         elif diff < k:\n",
    "#             j +=1\n",
    "#         elif diff > k:\n",
    "#             i += 1\n",
    "    \n",
    "#     return count\n",
    "\n",
    "from bisect import bisect_left\n",
    "\n",
    "def pairs(k, arr):\n",
    "    \n",
    "    arr.sort()\n",
    "    n = len(arr)\n",
    "    \n",
    "    count = 0\n",
    "    for i in range(n):\n",
    "        x = arr[i] + k\n",
    "        position = bisect_left(arr,x,i+1)\n",
    "        if position < n and arr[position] == x:\n",
    "            count += 1\n",
    "    \n",
    "    return count"
   ]
  },
  {
   "cell_type": "code",
   "execution_count": null,
   "metadata": {},
   "outputs": [],
   "source": [
    "k = 2\n",
    "arr = [1,5,3,4,2]\n",
    "ans = pairs(k,arr)\n",
    "ans"
   ]
  },
  {
   "cell_type": "code",
   "execution_count": null,
   "metadata": {},
   "outputs": [],
   "source": []
  },
  {
   "cell_type": "markdown",
   "metadata": {},
   "source": [
    "### [ ] Swap Nodes [Algo]"
   ]
  },
  {
   "cell_type": "code",
   "execution_count": null,
   "metadata": {},
   "outputs": [],
   "source": [
    "def swapNodes(indexes, queries):\n",
    "    #\n",
    "    # Write your code here.\n",
    "    #\n",
    "    pass"
   ]
  },
  {
   "cell_type": "code",
   "execution_count": null,
   "metadata": {},
   "outputs": [],
   "source": [
    "#t = BinarySearchTree()"
   ]
  },
  {
   "cell_type": "code",
   "execution_count": null,
   "metadata": {},
   "outputs": [],
   "source": [
    "indexes = [(-1, 4),(-1, 5),(-1, -1),(-1, -1)]\n",
    "queries = [2]"
   ]
  },
  {
   "cell_type": "markdown",
   "metadata": {},
   "source": [
    "### Hash Tables: Ice Cream Parlor"
   ]
  },
  {
   "cell_type": "code",
   "execution_count": null,
   "metadata": {},
   "outputs": [],
   "source": [
    "def whatFlavors(cost, money):\n",
    "    \n",
    "    cost_dict = {}\n",
    "    for idx,c in enumerate(cost):\n",
    "        if money-c in cost_dict:\n",
    "            print(f'{cost_dict[money-c]} {idx+1}')\n",
    "            return\n",
    "        else:\n",
    "            cost_dict[c] = idx+1"
   ]
  },
  {
   "cell_type": "code",
   "execution_count": null,
   "metadata": {},
   "outputs": [],
   "source": [
    "money = 3\n",
    "cost = [1,4,5,3,2]\n",
    "ans = whatFlavors(cost,money)\n",
    "ans"
   ]
  },
  {
   "cell_type": "code",
   "execution_count": null,
   "metadata": {},
   "outputs": [],
   "source": [
    "td = {1:2,4:5}\n",
    "2 in td"
   ]
  },
  {
   "cell_type": "markdown",
   "metadata": {},
   "source": [
    "### Triple Sum"
   ]
  },
  {
   "cell_type": "code",
   "execution_count": null,
   "metadata": {},
   "outputs": [],
   "source": [
    "def triplets(a, b, c):\n",
    "    a = list(sorted(set(a)))\n",
    "    b = list(sorted(set(b)))\n",
    "    c = list(sorted(set(c)))\n",
    "    \n",
    "    ai = bi = ci = 0\n",
    "    ans = 0\n",
    "    \n",
    "    while bi < len(b):\n",
    "        while ai < len(a) and a[ai] <= b[bi]:\n",
    "            ai += 1\n",
    "        \n",
    "        while ci < len(c) and c[ci] <= b[bi]:\n",
    "            ci += 1\n",
    "        \n",
    "        ans += ai*ci\n",
    "        bi +=1\n",
    "    \n",
    "    return ans"
   ]
  },
  {
   "cell_type": "code",
   "execution_count": null,
   "metadata": {},
   "outputs": [],
   "source": [
    "a = [1,4,5]\n",
    "b = [2,3,3]\n",
    "c = [1,2,3]\n",
    "\n",
    "ans = triplets(a,b,c)\n",
    "ans"
   ]
  },
  {
   "cell_type": "markdown",
   "metadata": {},
   "source": [
    "### Binary Search"
   ]
  },
  {
   "cell_type": "code",
   "execution_count": null,
   "metadata": {},
   "outputs": [],
   "source": []
  }
 ],
 "metadata": {
  "kernelspec": {
   "display_name": "Python 3",
   "language": "python",
   "name": "python3"
  },
  "language_info": {
   "codemirror_mode": {
    "name": "ipython",
    "version": 3
   },
   "file_extension": ".py",
   "mimetype": "text/x-python",
   "name": "python",
   "nbconvert_exporter": "python",
   "pygments_lexer": "ipython3",
   "version": "3.7.3"
  },
  "toc": {
   "base_numbering": 1,
   "nav_menu": {},
   "number_sections": true,
   "sideBar": true,
   "skip_h1_title": false,
   "title_cell": "Table of Contents",
   "title_sidebar": "Contents",
   "toc_cell": false,
   "toc_position": {},
   "toc_section_display": true,
   "toc_window_display": true
  }
 },
 "nbformat": 4,
 "nbformat_minor": 2
}
