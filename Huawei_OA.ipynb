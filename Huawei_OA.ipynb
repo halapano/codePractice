{
 "cells": [
  {
   "cell_type": "markdown",
   "metadata": {},
   "source": [
    "# 明明的随机数\n",
    "\n",
    "```\n",
    "\n",
    "题目描述\n",
    "明明想在学校中请一些同学一起做一项问卷调查，为了实验的客观性，他先用计算机生成了N个1到1000之间的随机整数（N≤1000），对于其中重复的数字，只保留一个，把其余相同的数去掉，不同的数对应着不同的学生的学号。然后再把这些数从小到大排序，按照排好的顺序去找同学做调查。请你协助明明完成“去重”与“排序”的工作(同一个测试用例里可能会有多组数据，希望大家能正确处理)。\n",
    "\n",
    "\n",
    "\n",
    "Input Param\n",
    "\n",
    "n               输入随机数的个数\n",
    "\n",
    "inputArray      n个随机整数组成的数组\n",
    "\n",
    "\n",
    "Return Value\n",
    "\n",
    "OutputArray    输出处理后的随机整数\n",
    "\n",
    "\n",
    "\n",
    "注：测试用例保证输入参数的正确性，答题者无需验证。测试用例不止一组。\n",
    "\n",
    "\n",
    "\n",
    "输入描述:\n",
    "输入多行，先输入随机整数的个数，再输入相应个数的整数\n",
    "\n",
    "输出描述:\n",
    "返回多行，处理后的结果\n",
    "```"
   ]
  },
  {
   "cell_type": "code",
   "execution_count": null,
   "metadata": {},
   "outputs": [],
   "source": [
    "import random\n",
    "import sys\n",
    "\n",
    "def helper(nums):\n",
    "    return sorted(list(set(nums)))\n",
    "\n",
    "\n",
    "while True:\n",
    "    try:\n",
    "        n = int(sys.stdin.readline())\n",
    "        data = []\n",
    "        for _ in range(n):\n",
    "            a = sys.stdin.readline()\n",
    "            data.append(int(a))\n",
    "\n",
    "        ans = helper(data)\n",
    "        for num in ans:\n",
    "            print(num)\n",
    "    except:\n",
    "        break"
   ]
  },
  {
   "cell_type": "code",
   "execution_count": 11,
   "metadata": {},
   "outputs": [
    {
     "data": {
      "text/plain": [
       "'00000000'"
      ]
     },
     "execution_count": 11,
     "metadata": {},
     "output_type": "execute_result"
    }
   ],
   "source": [
    "'0'*8"
   ]
  },
  {
   "cell_type": "code",
   "execution_count": 13,
   "metadata": {},
   "outputs": [
    {
     "data": {
      "text/plain": [
       "'abc'"
      ]
     },
     "execution_count": 13,
     "metadata": {},
     "output_type": "execute_result"
    }
   ],
   "source": [
    "ss ='abc'\n",
    "ss[:3]"
   ]
  },
  {
   "cell_type": "code",
   "execution_count": 21,
   "metadata": {},
   "outputs": [
    {
     "name": "stdout",
     "output_type": "stream",
     "text": [
      "0xA\n"
     ]
    }
   ],
   "source": [
    "while True:\n",
    "    try:\n",
    "        num = int(input(),16)\n",
    "        print(int(num,10))\n",
    "    except:\n",
    "        break"
   ]
  },
  {
   "cell_type": "code",
   "execution_count": 19,
   "metadata": {},
   "outputs": [
    {
     "data": {
      "text/plain": [
       "10"
      ]
     },
     "execution_count": 19,
     "metadata": {},
     "output_type": "execute_result"
    }
   ],
   "source": [
    "0xA"
   ]
  },
  {
   "cell_type": "code",
   "execution_count": 27,
   "metadata": {},
   "outputs": [
    {
     "data": {
      "text/plain": [
       "3"
      ]
     },
     "execution_count": 27,
     "metadata": {},
     "output_type": "execute_result"
    }
   ],
   "source": [
    "import math\n",
    "\n",
    "int(math.sqrt(15))"
   ]
  },
  {
   "cell_type": "code",
   "execution_count": 33,
   "metadata": {},
   "outputs": [
    {
     "name": "stdout",
     "output_type": "stream",
     "text": [
      "180\n",
      "2 2 3 3 5 "
     ]
    }
   ],
   "source": [
    "import math\n",
    "\n",
    "def primeFactor(num):\n",
    "    while num%2 == 0:\n",
    "        print(2,end=' ')\n",
    "        num = num/2\n",
    "        \n",
    "    for i in range(3,int(math.sqrt(num))+1,2):\n",
    "        while num%i == 0:\n",
    "            print(i,end=' ')\n",
    "            num = num/i\n",
    "    \n",
    "    if num > 2:\n",
    "        print(num,end=' ')\n",
    "    return\n",
    "\n",
    "num = int(input())\n",
    "primeFactor(num)"
   ]
  },
  {
   "cell_type": "markdown",
   "metadata": {},
   "source": [
    "# 换饮料"
   ]
  },
  {
   "cell_type": "code",
   "execution_count": null,
   "metadata": {},
   "outputs": [],
   "source": [
    "def maxBottle(num):\n",
    "    if num <=0:\n",
    "        return\n",
    "    \n",
    "    ans = 0\n",
    "    while num >= 3:\n",
    "        a = num //3\n",
    "        b = num %3\n",
    "        ans += a\n",
    "        num = a + b\n",
    "        print(num)\n",
    "    if num == 2:\n",
    "        ans +=1\n",
    "    return ans\n",
    "\n",
    "\n",
    "\n",
    "while True:\n",
    "    try:\n",
    "        num = int(input())\n",
    "        ans = maxBottle(num)\n",
    "        print(ans)\n",
    "    except:\n",
    "        break"
   ]
  },
  {
   "cell_type": "code",
   "execution_count": 3,
   "metadata": {},
   "outputs": [
    {
     "name": "stdout",
     "output_type": "stream",
     "text": [
      "abcdd\n",
      "dd\n"
     ]
    }
   ],
   "source": [
    "from collections import Counter\n",
    "\n",
    "def del_char(st):\n",
    "    if not st:\n",
    "        return\n",
    "    c = Counter(st)\n",
    "    mincnt = min(c.values())\n",
    "    for ch in st:\n",
    "        if c[ch] == mincnt:\n",
    "            st = st.replace(ch,'')\n",
    "    return st\n",
    "\n",
    "st = input()\n",
    "ans = del_char(st)\n",
    "print(ans)"
   ]
  },
  {
   "cell_type": "code",
   "execution_count": 6,
   "metadata": {},
   "outputs": [
    {
     "data": {
      "text/plain": [
       "0"
      ]
     },
     "execution_count": 6,
     "metadata": {},
     "output_type": "execute_result"
    }
   ],
   "source": [
    "import bisect\n",
    "\n",
    "a = [1,2,3,4,5]\n",
    "pos = bisect.bisect_left(a,0)\n",
    "pos"
   ]
  },
  {
   "cell_type": "code",
   "execution_count": 8,
   "metadata": {},
   "outputs": [
    {
     "data": {
      "text/plain": [
       "[1, 2]"
      ]
     },
     "execution_count": 8,
     "metadata": {},
     "output_type": "execute_result"
    }
   ],
   "source": [
    "[] + [1] + [2]"
   ]
  },
  {
   "cell_type": "code",
   "execution_count": 12,
   "metadata": {},
   "outputs": [],
   "source": [
    "import bisect\n",
    "def deal(l,res):\n",
    "    #每次向b中加一个list中的元素\n",
    "    b    = [9999]*len(l)\n",
    "    b[0] = l[0]\n",
    "    res  = res+[1]\n",
    "    for i in range(1,len(l)):\n",
    "        pos =bisect.bisect_left(b,l[i])\n",
    "        res += [pos+1]\n",
    "        b[pos]=l[i]\n",
    "        print(b,pos)\n",
    "    return res"
   ]
  },
  {
   "cell_type": "code",
   "execution_count": 14,
   "metadata": {},
   "outputs": [
    {
     "name": "stdout",
     "output_type": "stream",
     "text": [
      "[1, 9999, 9999, 9999, 9999, 9999, 9999] 0\n",
      "[1, 4, 9999, 9999, 9999, 9999, 9999] 1\n",
      "[1, 4, 5, 9999, 9999, 9999, 9999] 2\n",
      "[1, 3, 5, 9999, 9999, 9999, 9999] 1\n",
      "[1, 3, 5, 7, 9999, 9999, 9999] 3\n",
      "[1, 3, 5, 6, 9999, 9999, 9999] 3\n"
     ]
    },
    {
     "data": {
      "text/plain": [
       "[1, 1, 2, 3, 2, 4, 4]"
      ]
     },
     "execution_count": 14,
     "metadata": {},
     "output_type": "execute_result"
    }
   ],
   "source": [
    "l = [1,1,4,5,3,7,6]\n",
    "res = []\n",
    "ans = deal(l,res)\n",
    "ans\n"
   ]
  },
  {
   "cell_type": "markdown",
   "metadata": {},
   "source": [
    "# 取近似值"
   ]
  },
  {
   "cell_type": "code",
   "execution_count": 1,
   "metadata": {},
   "outputs": [
    {
     "data": {
      "text/plain": [
       "6"
      ]
     },
     "execution_count": 1,
     "metadata": {},
     "output_type": "execute_result"
    }
   ],
   "source": [
    "round(5.5)"
   ]
  },
  {
   "cell_type": "code",
   "execution_count": 4,
   "metadata": {},
   "outputs": [
    {
     "data": {
      "text/plain": [
       "5"
      ]
     },
     "execution_count": 4,
     "metadata": {},
     "output_type": "execute_result"
    }
   ],
   "source": [
    "round(5.49)"
   ]
  },
  {
   "cell_type": "code",
   "execution_count": 3,
   "metadata": {},
   "outputs": [
    {
     "ename": "SyntaxError",
     "evalue": "'return' outside function (<ipython-input-3-2b7ec02bc72b>, line 5)",
     "output_type": "error",
     "traceback": [
      "\u001b[1;36m  File \u001b[1;32m\"<ipython-input-3-2b7ec02bc72b>\"\u001b[1;36m, line \u001b[1;32m5\u001b[0m\n\u001b[1;33m    return\u001b[0m\n\u001b[1;37m    ^\u001b[0m\n\u001b[1;31mSyntaxError\u001b[0m\u001b[1;31m:\u001b[0m 'return' outside function\n"
     ]
    }
   ],
   "source": [
    "while True:\n",
    "    try:\n",
    "        num = float(input())\n",
    "        if not num:\n",
    "            return\n",
    "        else:\n",
    "            print(round(num))\n",
    "    except:\n",
    "        break"
   ]
  },
  {
   "cell_type": "code",
   "execution_count": 9,
   "metadata": {},
   "outputs": [
    {
     "data": {
      "text/plain": [
       "0.8"
      ]
     },
     "execution_count": 9,
     "metadata": {},
     "output_type": "execute_result"
    }
   ],
   "source": [
    "a = 8\n",
    "a = a/10\n",
    "a"
   ]
  },
  {
   "cell_type": "code",
   "execution_count": 18,
   "metadata": {},
   "outputs": [
    {
     "name": "stdout",
     "output_type": "stream",
     "text": [
      "4.9\n",
      "[4, 9] 9\n",
      "5\n",
      "-1\n"
     ]
    }
   ],
   "source": [
    "# over memory\n",
    "def my_round(num):\n",
    "    \"\"\"\n",
    "    :input string num\n",
    "    \"\"\"\n",
    "    a = list(map(int,num.rstrip().split('.')))\n",
    "    b = a[1]\n",
    "    while b >= 10:\n",
    "        b /= 10\n",
    "    if int(b) >= 5:\n",
    "        return a[0]+1\n",
    "    else:\n",
    "        return a[0]\n",
    "\n",
    "while True:\n",
    "    try:\n",
    "        num = input()\n",
    "        ans = my_round(num)\n",
    "        print(ans)\n",
    "\n",
    "    except:\n",
    "        break"
   ]
  },
  {
   "cell_type": "code",
   "execution_count": 17,
   "metadata": {},
   "outputs": [
    {
     "ename": "TypeError",
     "evalue": "'map' object is not subscriptable",
     "output_type": "error",
     "traceback": [
      "\u001b[1;31m---------------------------------------------------------------------------\u001b[0m",
      "\u001b[1;31mTypeError\u001b[0m                                 Traceback (most recent call last)",
      "\u001b[1;32m<ipython-input-17-ad41e28ef5d0>\u001b[0m in \u001b[0;36m<module>\u001b[1;34m()\u001b[0m\n\u001b[0;32m      1\u001b[0m \u001b[0mnum\u001b[0m \u001b[1;33m=\u001b[0m \u001b[1;34m'4.9'\u001b[0m\u001b[1;33m\u001b[0m\u001b[0m\n\u001b[0;32m      2\u001b[0m \u001b[0ma\u001b[0m \u001b[1;33m=\u001b[0m \u001b[0mmap\u001b[0m\u001b[1;33m(\u001b[0m\u001b[0mint\u001b[0m\u001b[1;33m,\u001b[0m\u001b[0mnum\u001b[0m\u001b[1;33m.\u001b[0m\u001b[0mrstrip\u001b[0m\u001b[1;33m(\u001b[0m\u001b[1;33m)\u001b[0m\u001b[1;33m.\u001b[0m\u001b[0msplit\u001b[0m\u001b[1;33m(\u001b[0m\u001b[1;34m'.'\u001b[0m\u001b[1;33m)\u001b[0m\u001b[1;33m)\u001b[0m\u001b[1;33m\u001b[0m\u001b[0m\n\u001b[1;32m----> 3\u001b[1;33m \u001b[0mb\u001b[0m \u001b[1;33m=\u001b[0m \u001b[0ma\u001b[0m\u001b[1;33m[\u001b[0m\u001b[1;36m1\u001b[0m\u001b[1;33m]\u001b[0m\u001b[1;33m\u001b[0m\u001b[0m\n\u001b[0m\u001b[0;32m      4\u001b[0m \u001b[0mprint\u001b[0m\u001b[1;33m(\u001b[0m\u001b[0ma\u001b[0m\u001b[1;33m,\u001b[0m\u001b[0mb\u001b[0m\u001b[1;33m)\u001b[0m\u001b[1;33m\u001b[0m\u001b[0m\n",
      "\u001b[1;31mTypeError\u001b[0m: 'map' object is not subscriptable"
     ]
    }
   ],
   "source": [
    "num = '4.9'\n",
    "a = map(int,num.rstrip().split('.'))\n",
    "b = a[1]\n",
    "print(a,b)"
   ]
  },
  {
   "cell_type": "code",
   "execution_count": null,
   "metadata": {},
   "outputs": [],
   "source": [
    "# pass\n",
    "while True:\n",
    "    try:\n",
    "        print(round(float(input()) + 0.001))\n",
    "    except:\n",
    "        break"
   ]
  },
  {
   "cell_type": "markdown",
   "metadata": {},
   "source": [
    "# 百鸡问题"
   ]
  },
  {
   "cell_type": "markdown",
   "metadata": {},
   "source": [
    "# 数字颠倒"
   ]
  },
  {
   "cell_type": "code",
   "execution_count": 19,
   "metadata": {},
   "outputs": [
    {
     "data": {
      "text/plain": [
       "'00211'"
      ]
     },
     "execution_count": 19,
     "metadata": {},
     "output_type": "execute_result"
    }
   ],
   "source": [
    "a = '11200'\n",
    "a[::-1]"
   ]
  },
  {
   "cell_type": "code",
   "execution_count": 25,
   "metadata": {},
   "outputs": [
    {
     "data": {
      "text/plain": [
       "['apple', 'Banana', 'orenge']"
      ]
     },
     "execution_count": 25,
     "metadata": {},
     "output_type": "execute_result"
    }
   ],
   "source": [
    "ss = ['apple','orenge','Banana']\n",
    "ss = sorted(ss,key=str.lower)\n",
    "ss"
   ]
  },
  {
   "cell_type": "code",
   "execution_count": 21,
   "metadata": {},
   "outputs": [
    {
     "data": {
      "text/plain": [
       "'orange'"
      ]
     },
     "execution_count": 21,
     "metadata": {},
     "output_type": "execute_result"
    }
   ],
   "source": [
    "'Orange'.lower()"
   ]
  },
  {
   "cell_type": "code",
   "execution_count": 29,
   "metadata": {},
   "outputs": [
    {
     "name": "stdout",
     "output_type": "stream",
     "text": [
      "2\n",
      "apple\n",
      "aabb\n",
      "['apple', 'aabb']\n",
      "aabb\n",
      "apple\n",
      "-1\n",
      "[]\n",
      "null\n"
     ]
    }
   ],
   "source": [
    "while True:\n",
    "    try:\n",
    "        n = int(input())\n",
    "        ss = []\n",
    "        for _ in range(n):\n",
    "            s = input()\n",
    "            ss.append(s)\n",
    "        print(ss)\n",
    "        ss.sort(key=str.lower)\n",
    "        for word in ss:\n",
    "            print(word)\n",
    "    except:\n",
    "        break"
   ]
  },
  {
   "cell_type": "code",
   "execution_count": 30,
   "metadata": {},
   "outputs": [
    {
     "data": {
      "text/plain": [
       "['a', 'e', 'l', 'p', 'p']"
      ]
     },
     "execution_count": 30,
     "metadata": {},
     "output_type": "execute_result"
    }
   ],
   "source": [
    "sorted('apple')"
   ]
  },
  {
   "cell_type": "code",
   "execution_count": 31,
   "metadata": {},
   "outputs": [
    {
     "ename": "AttributeError",
     "evalue": "'str' object has no attribute 'sort'",
     "output_type": "error",
     "traceback": [
      "\u001b[1;31m---------------------------------------------------------------------------\u001b[0m",
      "\u001b[1;31mAttributeError\u001b[0m                            Traceback (most recent call last)",
      "\u001b[1;32m<ipython-input-31-78019128d3d0>\u001b[0m in \u001b[0;36m<module>\u001b[1;34m()\u001b[0m\n\u001b[1;32m----> 1\u001b[1;33m \u001b[1;34m'apple'\u001b[0m\u001b[1;33m.\u001b[0m\u001b[0msort\u001b[0m\u001b[1;33m(\u001b[0m\u001b[1;33m)\u001b[0m\u001b[1;33m\u001b[0m\u001b[0m\n\u001b[0m",
      "\u001b[1;31mAttributeError\u001b[0m: 'str' object has no attribute 'sort'"
     ]
    }
   ],
   "source": []
  },
  {
   "cell_type": "code",
   "execution_count": 7,
   "metadata": {},
   "outputs": [],
   "source": [
    "def search_dict(string,target,target_index):\n",
    "    d = {}\n",
    "    for w in string:\n",
    "        tmp = ''.join(sorted(w))\n",
    "        if tmp not in d:\n",
    "            d[tmp] = [w]\n",
    "        else:\n",
    "            d[tmp].append(w)\n",
    "    \n",
    "    if ''.join(sorted(target)) in d:   \n",
    "        result = d[''.join(sorted(target))]\n",
    "        if target in result:\n",
    "            result.remove(target)\n",
    "        result.sort()\n",
    "        print(len(result))\n",
    "        print(result[target_index-1])\n",
    "        return\n",
    "    else:\n",
    "        print(0)\n",
    "        return"
   ]
  },
  {
   "cell_type": "code",
   "execution_count": 8,
   "metadata": {},
   "outputs": [
    {
     "name": "stdout",
     "output_type": "stream",
     "text": [
      "774 ddcd aba abc b a dc abccc bdccc bcdbc cdbcd aa b dc dac a abcc cadb c dbc a bcbdb bdccb b abb ab ca caaa ddcca b acbda adbac daad cca aba dc ddcbc acbbc ca cda cbab dcbdc d d cbd dc cacaa abb dbc dbdd bb bccb a ba b babba cdcdb a ad d a baad adbab ccdaa cdbb dcbac a b ccaa aabca bd adcc bccbc a cccbb ad cbd cdadd d dbc ddbbd ab a a cddc ad adac cddba cddc c bb acdd ddd aacd cc bc cdbd ccdb da abaad db da c bad ddbb b c ad cccda ad cc bcda ba d b babd db dcb dacc adbd b daa ddaa d cdab b c ddcc a bac bc c bba bb ca ba a bbc dcbca a abb b bbacc dd bbaac dcaad cacaa ddd ada aaa abcdd b aa cdac a dca c a daaa aaadd dd caab bbda ba bdb bb bbcc a ccb dacb c acbab cbd caab aa adbb d bcc cabb ca c dcdaa dcbc dacc cdba ccca bbcd bbacc b c aca cdc aac b cb cad acdb b ccc aaba a bd ccc d ddcab dac a da dab bcab bccd cdcc babdd ccac bbcab bdbbc dc dbdaa cb aadbc c abdaa d ba dcd d bddaa ab cca dbd dac daacb cad cacd bc a ddaa caaab ddb cdccb bbcd ab b d ddc dccb bbddd cddb cbbca adb a cdcb d cbc c adad cccca a cabc dadd bddac abb cdbdb bba dbdbb aa caaba dbc c bdcda b b a bcbad aabdc abad b b c dc aaccb dacd ccc bdddc abaad b b abcd bdad a dcbc bbdcc dab dda ba bdcc aad cca dbd dabdb aacc ddb ba adc dcac c abcab d dcbbd bd daa dd baadd bd adb cabd ddd dc ada bc cccdd bdbdc c bac aaacd ab abcad ad dcda cd adab acaaa ccbdb adac ddaa dac d cdcdd abaad bb b bdd ca bb bbba c acabc aaac bda dd d acba abdad a bcd dcaa caba dca cddbd cbbac caab dcbb dbb dadbd cbad adada cddb dabbc ca a b cdabb cc bddcb aa bcdc cbad bb acbd bcb cdcad a dddd dbdc d c abccd cbc abcb ccba cc bbccd ad adbbd ca cddc dbdcc acd abad ddba da acacc bbba cbc c cdd bcad dbaa acdb daac c aba ca caad bd bccd c acbdb aadac dbbaa ad dcaa c addcd dbddb a b cabda a d cbbb c dcdd cb ccad cc a dbcc bcbc bd cacda cbbd cc bddbc b acd cdcb aaaad c aaab cb dcdaa cc ddbdc dbba bbb cabb dcda d acbbc dda aca dca d aa abbc ddb aa addc bbca bbacd abac acadb cbad caacd aabb aa bdda dcdc b adb a cba bba d bcda dbca ca bacc bcb d bcacb bd ddcab bdda bbcac cac dac acdad a bba badc ca ba db bcb d cccca abb c a dacca cdaa ca c dcb dad dcdab cc b d d ddaab aa abdad ab cacb baa bd cdc ad cd c bb d d d caabc addc d dcad b d dcbbb cbc cbbba abb acbab db dcaca abb cdd dd d b d acda bbb bcabc abc da bab cc acc aa aabdd a ddca d bb bbbbb cdd adda ddc daacb bdc bcca bbaa daabb bacca cac d d ca adda a accbc a ba bb b aa cdd cadbc dbcba abda dca aacc ccc dcb ba ddacb abbdc aaa abad cca cbcd dbc db a a b cddba dabbd dddcc b dab dbcc cccd daa db dbbbd b da ba dbdaa d c ad aaa c dd a dbdbd bdbab caad da bdbc bd aa cbac cda cbca acd cbcb daa cdcdb adac dac ca a ccc dbcab baa adbcc caba dbd db bddad cadc dcbca ac acbdb a a cdaa dc aa dbbc cdacc bdacd acba bccc da cda bc ddcaa a ca abc bccc dd cd cbab c a cdac c b ddbba bb bcdad caddc c cdaab cbcd ac abad cdcba a a acbcd caaa ca c adbcb bdcba dc b cdbd bcdb cbdb a bc dcca a bcaa bdcbb dcd ddbba b b abca c dc cdbdc c bcc bcdbb bbbcb bad cddd cabcc bddda cc ccbdc b a c bdc c c adcd cdda dbbbc caabc aa dbd ab c acacd aabb ab adcdc caca bcdd acadd cbbcb dac c dcd ac bcadd abba d c ccc cacab bdcb ad c cca bc dabc add bbdbb 2\n",
      "bbdbb 2\n",
      "0\n"
     ]
    }
   ],
   "source": [
    "data = input().rstrip().split()\n",
    "n = int(data[0])\n",
    "string = data[1:n+1]\n",
    "target = data[n+1]\n",
    "target_index = int(data[-1])\n",
    "print(target,target_index)\n",
    "\n",
    "search_dict(string,target,target_index)\n"
   ]
  },
  {
   "cell_type": "markdown",
   "metadata": {},
   "source": [
    "# N,x,y Go"
   ]
  },
  {
   "cell_type": "code",
   "execution_count": 1,
   "metadata": {},
   "outputs": [
    {
     "name": "stdout",
     "output_type": "stream",
     "text": [
      "7,3,1\n",
      "15\n",
      "-1\n"
     ]
    }
   ],
   "source": [
    "def helper(n,x,y):\n",
    "    \n",
    "    run = 0\n",
    "    t = 0\n",
    "    while run < n-x:\n",
    "        run = run + x - y\n",
    "        t += 5\n",
    "    \n",
    "    if n-run < x:\n",
    "        t_rem = int((n-run) * 5 / x) + 1  \n",
    "        return t + t_rem\n",
    "    else:\n",
    "        return t + 5\n",
    "    \n",
    "    \n",
    "while True:\n",
    "    try:\n",
    "        line = list(map(int,input().rstrip().split(',')))\n",
    "        n = line[0]\n",
    "        x = line[1]\n",
    "        y = line[2]\n",
    "        ans = helper(n,x,y)\n",
    "        print(ans)\n",
    "    except:\n",
    "        break"
   ]
  },
  {
   "cell_type": "code",
   "execution_count": 6,
   "metadata": {},
   "outputs": [
    {
     "data": {
      "text/plain": [
       "4"
      ]
     },
     "execution_count": 6,
     "metadata": {},
     "output_type": "execute_result"
    }
   ],
   "source": [
    "round(4.5)"
   ]
  },
  {
   "cell_type": "code",
   "execution_count": 7,
   "metadata": {},
   "outputs": [
    {
     "data": {
      "text/plain": [
       "4"
      ]
     },
     "execution_count": 7,
     "metadata": {},
     "output_type": "execute_result"
    }
   ],
   "source": [
    "int((6-4) * 5 / 3) + 1"
   ]
  },
  {
   "cell_type": "markdown",
   "metadata": {},
   "source": [
    "# 打卡"
   ]
  },
  {
   "cell_type": "code",
   "execution_count": 1,
   "metadata": {},
   "outputs": [
    {
     "name": "stdout",
     "output_type": "stream",
     "text": [
      "4\n",
      "4 7 56 9 7 17 25 18 0\n",
      "[(7, 56), (9, 7), (17, 25), (18, 0)]\n",
      "484\n",
      "1 10 5\n",
      "Absent\n",
      "2 12 0 15 0\n",
      "[(12, 0), (15, 0)]\n",
      "-360\n",
      "2  9 30 18 0\n",
      "[(9, 30), (18, 0)]\n",
      "300\n",
      "df\n"
     ]
    }
   ],
   "source": [
    "def helper(m,ts):\n",
    "       \n",
    "    if (m == 1):\n",
    "        return \"Absent\"\n",
    "    \n",
    "    tb = []\n",
    "    for i in range(0,len(ts),2):\n",
    "        tb.append((ts[i],ts[i+1]))\n",
    "    \n",
    "    tb.sort(key=lambda x: x[0])\n",
    "\n",
    "    print(tb)\n",
    "    \n",
    "    \n",
    "    if tb[-1][0] < 8 :\n",
    "        return \"Absent\"\n",
    "    \n",
    "    elif tb[-1][0] <= 12:\n",
    "        total = (tb[-1][0] * 60 + tb[-1][1]) - (tb[0][0]*60 + tb[0][1])\n",
    "                \n",
    "    elif tb[0][0] <=12 and tb[-1][0] >= 14:\n",
    "        total = (tb[-1][0] * 60 + tb[-1][1]) - (tb[0][0]*60 + tb[0][1]) - 120\n",
    "        \n",
    "    elif tb[0][0] >=14:\n",
    "        total = (tb[-1][0] * 60 + tb[-1][1]) - (tb[0][0]*60 + tb[0][1])       \n",
    "    \n",
    "    elif tb[0][0] >= 18:       \n",
    "        return \"Absent\"\n",
    "    \n",
    "    if total >= 480:\n",
    "        return total\n",
    "    else:    \n",
    "        return total - (480-total)  \n",
    "        \n",
    "while True:\n",
    "    try:\n",
    "        n = int(input().rstrip())\n",
    "        for i in range(n):\n",
    "            line = list(map(int,input().rstrip().split()))\n",
    "            m = line[0]\n",
    "            ts = line[1:]\n",
    "            ans = helper(m,ts)\n",
    "            print(ans)\n",
    "    except:\n",
    "        break"
   ]
  },
  {
   "cell_type": "code",
   "execution_count": null,
   "metadata": {},
   "outputs": [],
   "source": [
    "4\n",
    "4 7 56 9 7 17 25 18 0\n",
    "1 10 5\n",
    "2 12 0 15 0\n",
    "2  9 30 18 0"
   ]
  },
  {
   "cell_type": "code",
   "execution_count": 3,
   "metadata": {},
   "outputs": [
    {
     "data": {
      "text/plain": [
       "[0, 2]"
      ]
     },
     "execution_count": 3,
     "metadata": {},
     "output_type": "execute_result"
    }
   ],
   "source": [
    "list(range(0,4,2))"
   ]
  },
  {
   "cell_type": "code",
   "execution_count": 10,
   "metadata": {},
   "outputs": [
    {
     "data": {
      "text/plain": [
       "[12, 15]"
      ]
     },
     "execution_count": 10,
     "metadata": {},
     "output_type": "execute_result"
    }
   ],
   "source": [
    "ts = [12,0,15,0]\n",
    "ts[::2]"
   ]
  },
  {
   "cell_type": "code",
   "execution_count": 11,
   "metadata": {},
   "outputs": [
    {
     "data": {
      "text/plain": [
       "[(1, 1), (2, 2), (3, 3), (4, 4)]"
      ]
     },
     "execution_count": 11,
     "metadata": {},
     "output_type": "execute_result"
    }
   ],
   "source": [
    "tb = [(1,1),(2,2,),(4,4),(3,3)]\n",
    "tb.sort(key=lambda x: x[0])\n",
    "tb"
   ]
  },
  {
   "cell_type": "code",
   "execution_count": null,
   "metadata": {},
   "outputs": [],
   "source": []
  },
  {
   "cell_type": "code",
   "execution_count": null,
   "metadata": {},
   "outputs": [],
   "source": []
  }
 ],
 "metadata": {
  "kernelspec": {
   "display_name": "Python 3",
   "language": "python",
   "name": "python3"
  },
  "language_info": {
   "codemirror_mode": {
    "name": "ipython",
    "version": 3
   },
   "file_extension": ".py",
   "mimetype": "text/x-python",
   "name": "python",
   "nbconvert_exporter": "python",
   "pygments_lexer": "ipython3",
   "version": "3.7.0"
  },
  "toc": {
   "base_numbering": 1,
   "nav_menu": {},
   "number_sections": true,
   "sideBar": true,
   "skip_h1_title": false,
   "title_cell": "Table of Contents",
   "title_sidebar": "Contents",
   "toc_cell": false,
   "toc_position": {
    "height": "calc(100% - 180px)",
    "left": "10px",
    "top": "150px",
    "width": "313.6px"
   },
   "toc_section_display": true,
   "toc_window_display": true
  }
 },
 "nbformat": 4,
 "nbformat_minor": 2
}
