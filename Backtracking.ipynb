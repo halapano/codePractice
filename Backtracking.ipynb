{
 "cells": [
  {
   "cell_type": "markdown",
   "metadata": {},
   "source": [
    "### 90. Subsets II\n",
    "\n",
    "```\n",
    "Given a collection of integers that might contain duplicates, nums, return all possible subsets (the power set).\n",
    "\n",
    "Note: The solution set must not contain duplicate subsets.\n",
    "\n",
    "Example:\n",
    "\n",
    "Input: [1,2,2]\n",
    "Output:\n",
    "[\n",
    "  [2],\n",
    "  [1],\n",
    "  [1,2,2],\n",
    "  [2,2],\n",
    "  [1,2],\n",
    "  []\n",
    "]\n",
    "```"
   ]
  },
  {
   "cell_type": "code",
   "execution_count": 14,
   "metadata": {},
   "outputs": [],
   "source": [
    "class Solution:\n",
    "    def subsetsWithDup(self, nums):\n",
    "        res = []\n",
    "        pre_list = []\n",
    "        self.backtrack(nums,res,pre_list)\n",
    "        return res\n",
    "            \n",
    "    def backtrack(self,nums,res,pre_list):\n",
    "        if pre_list not in res:\n",
    "            res.append(pre_list)\n",
    "        \n",
    "        for i,num in enumerate(nums):\n",
    "            p_list = pre_list.copy()\n",
    "            p_list.append(num)\n",
    "            r_list = nums[i+1:]\n",
    "            self.backtrack(r_list,res,p_list)\n",
    "        return\n",
    "        "
   ]
  },
  {
   "cell_type": "code",
   "execution_count": 15,
   "metadata": {},
   "outputs": [
    {
     "data": {
      "text/plain": [
       "[[], [1], [1, 2], [1, 2, 2], [2], [2, 2]]"
      ]
     },
     "execution_count": 15,
     "metadata": {},
     "output_type": "execute_result"
    }
   ],
   "source": [
    "nums = [1,2,2]\n",
    "obj = Solution()\n",
    "ans = obj.subsetsWithDup(nums)\n",
    "ans"
   ]
  },
  {
   "cell_type": "markdown",
   "metadata": {},
   "source": [
    "### 78. Subsets\n",
    "- backtracking\n",
    "- https://www.geeksforgeeks.org/backtracking-introduction/\n",
    "\n",
    "```\n",
    "Given a set of distinct integers, nums, return all possible subsets (the power set).\n",
    "\n",
    "Note: The solution set must not contain duplicate subsets.\n",
    "\n",
    "Example:\n",
    "\n",
    "Input: nums = [1,2,3]\n",
    "Output:\n",
    "[\n",
    "  [3],\n",
    "  [1],\n",
    "  [2],\n",
    "  [1,2,3],\n",
    "  [1,3],\n",
    "  [2,3],\n",
    "  [1,2],\n",
    "  []\n",
    "]\n",
    "\n",
    "```"
   ]
  },
  {
   "cell_type": "code",
   "execution_count": 46,
   "metadata": {},
   "outputs": [],
   "source": [
    "class Solution:\n",
    "\n",
    "    def backtrack(self,nums,res,pre_list):\n",
    "        res.append(pre_list)\n",
    "        for i,num in enumerate(nums):\n",
    "            p_list = pre_list.copy()\n",
    "            p_list.append(num)\n",
    "            r_list = nums[i+1:]\n",
    "            self.backtrack(r_list,res,p_list)\n",
    "        return\n",
    "\n",
    "    def subsets(self, nums):\n",
    "        res = []\n",
    "        pre_list = []\n",
    "        self.backtrack(nums,res,pre_list)\n",
    "        return res"
   ]
  },
  {
   "cell_type": "code",
   "execution_count": 47,
   "metadata": {},
   "outputs": [
    {
     "data": {
      "text/plain": [
       "[[], [1], [1, 2], [1, 2, 3], [1, 3], [2], [2, 3], [3]]"
      ]
     },
     "execution_count": 47,
     "metadata": {},
     "output_type": "execute_result"
    }
   ],
   "source": [
    "nums = [1,2,3]\n",
    "obj = Solution()\n",
    "ans = obj.subsets(nums)\n",
    "ans"
   ]
  },
  {
   "cell_type": "markdown",
   "metadata": {},
   "source": [
    "### 47. Permutations II\n",
    "\n",
    "```\n",
    "Given a collection of numbers that might contain duplicates, return all possible unique permutations.\n",
    "\n",
    "Example:\n",
    "\n",
    "Input: [1,1,2]\n",
    "Output:\n",
    "[\n",
    "  [1,1,2],\n",
    "  [1,2,1],\n",
    "  [2,1,1]\n",
    "]\n",
    "\n",
    "```"
   ]
  },
  {
   "cell_type": "code",
   "execution_count": 40,
   "metadata": {},
   "outputs": [],
   "source": [
    "class Solution:\n",
    "    def permuteUnique(self, nums):\n",
    "        #nums.sort()\n",
    "        res = []\n",
    "        pre_list = []\n",
    "        self.backtrack(nums,res,pre_list)\n",
    "        return res\n",
    "    \n",
    "    def backtrack(self,nums,res,pre_list):\n",
    "        if (len(nums) <= 0) and (pre_list not in res):\n",
    "            res.append(pre_list)\n",
    "        else:\n",
    "            for i,num in enumerate(nums):\n",
    "                p_list = pre_list.copy()\n",
    "                p_list.append(num)\n",
    "                r_list = nums.copy()\n",
    "                r_list.remove(num)\n",
    "                self.backtrack(r_list,res,p_list)\n",
    "        return"
   ]
  },
  {
   "cell_type": "code",
   "execution_count": 41,
   "metadata": {},
   "outputs": [
    {
     "data": {
      "text/plain": [
       "[[1, 1, 2], [1, 2, 1], [2, 1, 1]]"
      ]
     },
     "execution_count": 41,
     "metadata": {},
     "output_type": "execute_result"
    }
   ],
   "source": [
    "nums = [1,1,2]\n",
    "obj = Solution()\n",
    "ans = obj.permuteUnique(nums)\n",
    "ans"
   ]
  },
  {
   "cell_type": "markdown",
   "metadata": {},
   "source": [
    "### 46. Permutations\n",
    "\n",
    "- backtracking\n",
    "\n",
    "- https://leetcode.com/problems/combination-sum/discuss/16502/A-general-approach-to-backtracking-questions-in-Java-(Subsets-Permutations-Combination-Sum-Palindrome-Partitioning)\n",
    "\n",
    "```\n",
    "Given a collection of distinct integers, return all possible permutations.\n",
    "\n",
    "Example:\n",
    "\n",
    "Input: [1,2,3]\n",
    "Output:\n",
    "[\n",
    "  [1,2,3],\n",
    "  [1,3,2],\n",
    "  [2,1,3],\n",
    "  [2,3,1],\n",
    "  [3,1,2],\n",
    "  [3,2,1]\n",
    "]\n",
    "\n",
    "```"
   ]
  },
  {
   "cell_type": "code",
   "execution_count": 44,
   "metadata": {},
   "outputs": [],
   "source": [
    "class Solution:\n",
    "    #def permute(self, nums):\n",
    "        \n",
    "    def permute(self, nums):\n",
    "        \"\"\"自己写回溯法\"\"\"\n",
    "        res = []\n",
    "        def _backtrace(nums, pre_list):\n",
    "            #if len(nums) <= 0:\n",
    "            if (len(nums) <= 0) and (pre_list not in res):\n",
    "                res.append(pre_list)\n",
    "            else:\n",
    "                for i in nums:\n",
    "                    # 注意copy一份新的调用，否则无法正常循环\n",
    "                    p_list = pre_list.copy()\n",
    "                    p_list.append(i)\n",
    "                    left_nums = nums.copy()\n",
    "                    left_nums.remove(i)\n",
    "                    _backtrace(left_nums, p_list)\n",
    "                    #print(i,p_list,left_nums)\n",
    "        _backtrace(nums, [])\n",
    "        return res\n",
    "        "
   ]
  },
  {
   "cell_type": "code",
   "execution_count": 45,
   "metadata": {},
   "outputs": [
    {
     "data": {
      "text/plain": [
       "[[1, 1, 2], [1, 2, 1], [2, 1, 1]]"
      ]
     },
     "execution_count": 45,
     "metadata": {},
     "output_type": "execute_result"
    }
   ],
   "source": [
    "nums = [1,1,2]\n",
    "obj = Solution()\n",
    "ans = obj.permute(nums)\n",
    "ans"
   ]
  },
  {
   "cell_type": "markdown",
   "metadata": {},
   "source": [
    "### 560. Subarray Sum Equals K\n",
    "\n",
    "```\n",
    "Given an array of integers and an integer k, you need to find the total number of continuous subarrays whose sum equals to k.\n",
    "\n",
    "Example 1:\n",
    "Input:nums = [1,1,1], k = 2\n",
    "Output: 2\n",
    "Note:\n",
    "The length of the array is in range [1, 20,000].\n",
    "The range of numbers in the array is [-1000, 1000] and the range of the integer k is [-1e7, 1e7].\n",
    "\n",
    "```"
   ]
  },
  {
   "cell_type": "code",
   "execution_count": 7,
   "metadata": {},
   "outputs": [],
   "source": [
    "# https://github.com/azl397985856/leetcode/blob/master/problems/560.subarray-sum-equals-k.md\n",
    "class Solution:\n",
    "    def subarraySum(self, nums, k):\n",
    "        d = {}\n",
    "        acc = count = 0\n",
    "        for num in nums:\n",
    "            acc += num\n",
    "            if acc == k:\n",
    "                count +=1\n",
    "            if acc-k in d:\n",
    "                count += d[acc-k]\n",
    "            print(d)\n",
    "            if acc in d:\n",
    "                d[acc] +=1\n",
    "            else:\n",
    "                d[acc] = 1\n",
    "        return count\n",
    "        "
   ]
  },
  {
   "cell_type": "code",
   "execution_count": 42,
   "metadata": {},
   "outputs": [
    {
     "ename": "AttributeError",
     "evalue": "'Solution' object has no attribute 'subarraySum'",
     "output_type": "error",
     "traceback": [
      "\u001b[1;31m---------------------------------------------------------------------------\u001b[0m",
      "\u001b[1;31mAttributeError\u001b[0m                            Traceback (most recent call last)",
      "\u001b[1;32m<ipython-input-42-29f2406948ac>\u001b[0m in \u001b[0;36m<module>\u001b[1;34m()\u001b[0m\n\u001b[0;32m      2\u001b[0m \u001b[0mk\u001b[0m \u001b[1;33m=\u001b[0m \u001b[1;36m6\u001b[0m\u001b[1;33m\u001b[0m\u001b[0m\n\u001b[0;32m      3\u001b[0m \u001b[0mobj\u001b[0m \u001b[1;33m=\u001b[0m \u001b[0mSolution\u001b[0m\u001b[1;33m(\u001b[0m\u001b[1;33m)\u001b[0m\u001b[1;33m\u001b[0m\u001b[0m\n\u001b[1;32m----> 4\u001b[1;33m \u001b[0mans\u001b[0m \u001b[1;33m=\u001b[0m \u001b[0mobj\u001b[0m\u001b[1;33m.\u001b[0m\u001b[0msubarraySum\u001b[0m\u001b[1;33m(\u001b[0m\u001b[0mnums\u001b[0m\u001b[1;33m,\u001b[0m\u001b[0mk\u001b[0m\u001b[1;33m)\u001b[0m\u001b[1;33m\u001b[0m\u001b[0m\n\u001b[0m\u001b[0;32m      5\u001b[0m \u001b[0mans\u001b[0m\u001b[1;33m\u001b[0m\u001b[0m\n",
      "\u001b[1;31mAttributeError\u001b[0m: 'Solution' object has no attribute 'subarraySum'"
     ]
    }
   ],
   "source": [
    "nums = [1,2,3,3,0,3,4,2]\n",
    "k = 6\n",
    "obj = Solution()\n",
    "ans = obj.subarraySum(nums,k)\n",
    "ans"
   ]
  }
 ],
 "metadata": {
  "kernelspec": {
   "display_name": "Python 3",
   "language": "python",
   "name": "python3"
  },
  "language_info": {
   "codemirror_mode": {
    "name": "ipython",
    "version": 3
   },
   "file_extension": ".py",
   "mimetype": "text/x-python",
   "name": "python",
   "nbconvert_exporter": "python",
   "pygments_lexer": "ipython3",
   "version": "3.7.0"
  },
  "toc": {
   "base_numbering": 1,
   "nav_menu": {},
   "number_sections": true,
   "sideBar": true,
   "skip_h1_title": false,
   "title_cell": "Table of Contents",
   "title_sidebar": "Contents",
   "toc_cell": false,
   "toc_position": {},
   "toc_section_display": true,
   "toc_window_display": true
  }
 },
 "nbformat": 4,
 "nbformat_minor": 2
}
