{
 "cells": [
  {
   "cell_type": "markdown",
   "metadata": {},
   "source": [
    "# Greedy"
   ]
  },
  {
   "cell_type": "markdown",
   "metadata": {},
   "source": [
    "## Easy"
   ]
  },
  {
   "cell_type": "markdown",
   "metadata": {},
   "source": [
    "### Minimum Absolute Difference in an Array"
   ]
  },
  {
   "cell_type": "code",
   "execution_count": null,
   "metadata": {},
   "outputs": [],
   "source": [
    "def minimumAbsoluteDifference(arr):\n",
    "    \n",
    "    arr.sort()\n",
    "    diff = [abs(a_i - b_i) for a_i,b_i in zip(arr[1:],arr[:-1])]\n",
    "    return min(diff)"
   ]
  },
  {
   "cell_type": "code",
   "execution_count": null,
   "metadata": {},
   "outputs": [],
   "source": [
    "arr = [-59, -36,-13, 1, -53, -92, -2, -96, -54, 75]\n",
    "ans = minimumAbsoluteDifference(arr)\n",
    "ans"
   ]
  },
  {
   "cell_type": "markdown",
   "metadata": {},
   "source": [
    "### Luck Balance"
   ]
  },
  {
   "cell_type": "code",
   "execution_count": null,
   "metadata": {},
   "outputs": [],
   "source": [
    "import pandas as pd\n",
    "def luckBalance(k, contests):\n",
    "    \n",
    "    #contests.sort(reverse=True)\n",
    "    #contests.sort(key = lambda c: c[0],reverse=True)\n",
    "    #contests.sort(key = )\n",
    "    luck = 0\n",
    "    \n",
    "    for contest in contests:\n",
    "        if contest[1] == 0:\n",
    "            luck += contest[0]\n",
    "        elif k > 0:\n",
    "            luck += contest[0]\n",
    "            k -=1\n",
    "        else:\n",
    "            luck -= contest[0]\n",
    "    \n",
    "    return luck"
   ]
  },
  {
   "cell_type": "code",
   "execution_count": null,
   "metadata": {},
   "outputs": [],
   "source": [
    "k = 3\n",
    "contests = [[5,1],[2,1],[1,1],[8,1],[10,0],[5,0]]\n",
    "ans = luckBalance(k,contests)\n",
    "ans"
   ]
  },
  {
   "cell_type": "markdown",
   "metadata": {},
   "source": [
    "## Medium"
   ]
  },
  {
   "cell_type": "markdown",
   "metadata": {},
   "source": [
    "### Minimum Platforms\n",
    "\n",
    "- Greedy\n",
    "- https://practice.geeksforgeeks.org/problems/minimum-platforms/0\n",
    "- https://www.geeksforgeeks.org/minimum-number-platforms-required-railwaybus-station/\n",
    "\n",
    "\n",
    "```\n",
    "\n",
    "```"
   ]
  },
  {
   "cell_type": "code",
   "execution_count": 3,
   "metadata": {},
   "outputs": [],
   "source": [
    "def minPlat(arrive,depart):\n",
    "    pass"
   ]
  },
  {
   "cell_type": "code",
   "execution_count": 4,
   "metadata": {},
   "outputs": [],
   "source": [
    "arrive = ['0900','1100','1235']\n",
    "depart = ['1000','1200','1240']\n",
    "ans = minPlat(arrive,depart)\n",
    "ans"
   ]
  },
  {
   "cell_type": "markdown",
   "metadata": {},
   "source": [
    "### Reverse Shuffle Merge"
   ]
  },
  {
   "cell_type": "markdown",
   "metadata": {},
   "source": [
    "### Max Min"
   ]
  },
  {
   "cell_type": "code",
   "execution_count": null,
   "metadata": {},
   "outputs": [],
   "source": [
    "def maxMin(k, arr):\n",
    "\n",
    "#     arr.sort()    \n",
    "#     tmp = 0\n",
    "#     mini = float('inf')\n",
    "#     for i in range(len(arr) - k +1):\n",
    "#         tmp = arr[i+k -1] - arr[i]\n",
    "#         if tmp < mini:\n",
    "#             mini = tmp\n",
    "        \n",
    "#     return mini\n",
    "\n",
    "\n",
    "    arr.sort()\n",
    "    mini = arr[k-1]-arr[0]\n",
    "    for i in range(len(arr)-k+1):\n",
    "        mini = min(mini, arr[i+k-1] - arr[i])\n",
    "    \n",
    "    return mini"
   ]
  },
  {
   "cell_type": "code",
   "execution_count": null,
   "metadata": {},
   "outputs": [],
   "source": [
    "k = 3\n",
    "arr = [10,100,300,200,1000,20,30]\n",
    "ans = maxMin(k,arr)\n",
    "ans"
   ]
  },
  {
   "cell_type": "markdown",
   "metadata": {},
   "source": [
    "### Greedy Florist"
   ]
  },
  {
   "cell_type": "code",
   "execution_count": null,
   "metadata": {},
   "outputs": [],
   "source": [
    "def getMinimumCost(k, c):\n",
    "    \n",
    "    c.sort(reverse = True)\n",
    "    \n",
    "    cost = 0\n",
    "    n = len(c)\n",
    "    for i in range(0,n,k):\n",
    "        cost += ((i // k) + 1) * sum(c[i:i+k])\n",
    "    \n",
    "    return cost"
   ]
  },
  {
   "cell_type": "code",
   "execution_count": null,
   "metadata": {},
   "outputs": [],
   "source": [
    "c= [1, 3, 5, 7, 9]\n",
    "k = 3\n",
    "ans = getMinimumCost(k,c)\n",
    "ans"
   ]
  },
  {
   "cell_type": "code",
   "execution_count": null,
   "metadata": {},
   "outputs": [],
   "source": []
  }
 ],
 "metadata": {
  "kernelspec": {
   "display_name": "Python 3",
   "language": "python",
   "name": "python3"
  },
  "language_info": {
   "codemirror_mode": {
    "name": "ipython",
    "version": 3
   },
   "file_extension": ".py",
   "mimetype": "text/x-python",
   "name": "python",
   "nbconvert_exporter": "python",
   "pygments_lexer": "ipython3",
   "version": "3.7.0"
  },
  "toc": {
   "base_numbering": 1,
   "nav_menu": {},
   "number_sections": true,
   "sideBar": true,
   "skip_h1_title": false,
   "title_cell": "Table of Contents",
   "title_sidebar": "Contents",
   "toc_cell": false,
   "toc_position": {
    "height": "calc(100% - 180px)",
    "left": "10px",
    "top": "150px",
    "width": "307.2px"
   },
   "toc_section_display": true,
   "toc_window_display": true
  }
 },
 "nbformat": 4,
 "nbformat_minor": 2
}
