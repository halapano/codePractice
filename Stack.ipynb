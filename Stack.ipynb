{
 "cells": [
  {
   "cell_type": "markdown",
   "metadata": {},
   "source": [
    "# Stack and Queues"
   ]
  },
  {
   "cell_type": "markdown",
   "metadata": {},
   "source": [
    "## Easy"
   ]
  },
  {
   "cell_type": "markdown",
   "metadata": {},
   "source": [
    "### 682. Baseball Game\n",
    "\n",
    "```\n",
    "You're now a baseball game point recorder.\n",
    "\n",
    "Given a list of strings, each string can be one of the 4 following types:\n",
    "\n",
    "Integer (one round's score): Directly represents the number of points you get in this round.\n",
    "\"+\" (one round's score): Represents that the points you get in this round are the sum of the last two valid round's points.\n",
    "\"D\" (one round's score): Represents that the points you get in this round are the doubled data of the last valid round's points.\n",
    "\"C\" (an operation, which isn't a round's score): Represents the last valid round's points you get were invalid and should be removed.\n",
    "Each round's operation is permanent and could have an impact on the round before and the round after.\n",
    "\n",
    "You need to return the sum of the points you could get in all the rounds.\n",
    "\n",
    "Example 1:\n",
    "Input: [\"5\",\"2\",\"C\",\"D\",\"+\"]\n",
    "Output: 30\n",
    "Explanation: \n",
    "Round 1: You could get 5 points. The sum is: 5.\n",
    "Round 2: You could get 2 points. The sum is: 7.\n",
    "Operation 1: The round 2's data was invalid. The sum is: 5.  \n",
    "Round 3: You could get 10 points (the round 2's data has been removed). The sum is: 15.\n",
    "Round 4: You could get 5 + 10 = 15 points. The sum is: 30.\n",
    "Example 2:\n",
    "Input: [\"5\",\"-2\",\"4\",\"C\",\"D\",\"9\",\"+\",\"+\"]\n",
    "Output: 27\n",
    "Explanation: \n",
    "Round 1: You could get 5 points. The sum is: 5.\n",
    "Round 2: You could get -2 points. The sum is: 3.\n",
    "Round 3: You could get 4 points. The sum is: 7.\n",
    "Operation 1: The round 3's data is invalid. The sum is: 3.  \n",
    "Round 4: You could get -4 points (the round 3's data has been removed). The sum is: -1.\n",
    "Round 5: You could get 9 points. The sum is: 8.\n",
    "Round 6: You could get -4 + 9 = 5 points. The sum is 13.\n",
    "Round 7: You could get 9 + 5 = 14 points. The sum is 27.\n",
    "\n",
    "```"
   ]
  },
  {
   "cell_type": "code",
   "execution_count": 31,
   "metadata": {},
   "outputs": [],
   "source": [
    "class Solution:\n",
    "    def calPoints(self, ops):\n",
    "        \n",
    "        if not ops:\n",
    "            return 0\n",
    "        \n",
    "        def digithelper(op):\n",
    "            try:\n",
    "                float(op)\n",
    "            except ValueError:\n",
    "                return False\n",
    "            return True\n",
    "        \n",
    "        \n",
    "        rd = []\n",
    "        for i,op in enumerate(ops):\n",
    "            if op=='D' and len(rd)>0:\n",
    "                rd.append(rd[-1]*2)\n",
    "            elif op=='C' and len(rd)>0:\n",
    "                rd.pop()\n",
    "            elif op=='+' and len(rd)>1:\n",
    "                rd.append(rd[-1]+rd[-2])\n",
    "            else:\n",
    "                if digithelper(op):\n",
    "                    rd.append(int(op))\n",
    "                            \n",
    "        return sum(rd)        \n",
    "                \n",
    "        "
   ]
  },
  {
   "cell_type": "code",
   "execution_count": 33,
   "metadata": {},
   "outputs": [
    {
     "data": {
      "text/plain": [
       "27"
      ]
     },
     "execution_count": 33,
     "metadata": {},
     "output_type": "execute_result"
    }
   ],
   "source": [
    "ops = [\"5\",\"-2\",\"4\",\"C\",\"D\",\"9\",\"+\",\"+\"]\n",
    "ans = Solution().calPoints(ops)\n",
    "ans"
   ]
  },
  {
   "cell_type": "markdown",
   "metadata": {},
   "source": [
    "### 496. Next Greater Element I\n",
    "\n",
    "```\n",
    "ou are given two arrays (without duplicates) nums1 and nums2 where nums1’s elements are subset of nums2. Find all the next greater numbers for nums1's elements in the corresponding places of nums2.\n",
    "\n",
    "The Next Greater Number of a number x in nums1 is the first greater number to its right in nums2. If it does not exist, output -1 for this number.\n",
    "\n",
    "Example 1:\n",
    "Input: nums1 = [4,1,2], nums2 = [1,3,4,2].\n",
    "Output: [-1,3,-1]\n",
    "Explanation:\n",
    "    For number 4 in the first array, you cannot find the next greater number for it in the second array, so output -1.\n",
    "    For number 1 in the first array, the next greater number for it in the second array is 3.\n",
    "    For number 2 in the first array, there is no next greater number for it in the second array, so output -1.\n",
    "Example 2:\n",
    "Input: nums1 = [2,4], nums2 = [1,2,3,4].\n",
    "Output: [3,-1]\n",
    "Explanation:\n",
    "    For number 2 in the first array, the next greater number for it in the second array is 3.\n",
    "    For number 4 in the first array, there is no next greater number for it in the second array, so output -1.\n",
    "\n",
    "```"
   ]
  },
  {
   "cell_type": "code",
   "execution_count": 11,
   "metadata": {},
   "outputs": [],
   "source": [
    "class Solution:\n",
    "    def nextGreaterElement(self, nums1, nums2):\n",
    "        \n",
    "        stack = []\n",
    "        di = {}\n",
    "        for num in nums2:\n",
    "            while stack and stack[-1] < num:\n",
    "                di[stack.pop()] = num\n",
    "            stack.append(num)\n",
    "        \n",
    "        for i in range(len(nums1)):\n",
    "            nums1[i] = di.get(nums1[i],-1)\n",
    "        return nums1"
   ]
  },
  {
   "cell_type": "code",
   "execution_count": 12,
   "metadata": {},
   "outputs": [
    {
     "data": {
      "text/plain": [
       "[3, -1]"
      ]
     },
     "execution_count": 12,
     "metadata": {},
     "output_type": "execute_result"
    }
   ],
   "source": [
    "nums1 = [2,4]\n",
    "nums2 = [1,2,3,4]\n",
    "obj = Solution()\n",
    "ans = obj.nextGreaterElement(nums1,nums2)\n",
    "ans"
   ]
  },
  {
   "cell_type": "markdown",
   "metadata": {},
   "source": [
    "### 20. Valid Parentheses\n",
    "\n",
    "```\n",
    "Given a string containing just the characters '(', ')', '{', '}', '[' and ']', determine if the input string is valid.\n",
    "\n",
    "An input string is valid if:\n",
    "\n",
    "Open brackets must be closed by the same type of brackets.\n",
    "Open brackets must be closed in the correct order.\n",
    "Note that an empty string is also considered valid.\n",
    "\n",
    "Example 1:\n",
    "\n",
    "Input: \"()\"\n",
    "Output: true\n",
    "Example 2:\n",
    "\n",
    "Input: \"()[]{}\"\n",
    "Output: true\n",
    "Example 3:\n",
    "\n",
    "Input: \"(]\"\n",
    "Output: false\n",
    "\n",
    "```"
   ]
  },
  {
   "cell_type": "code",
   "execution_count": 75,
   "metadata": {},
   "outputs": [],
   "source": [
    "class Solution(object):\n",
    "    def isValid(self, s):\n",
    "        \"\"\"\n",
    "        :type s: str\n",
    "        :rtype: bool\n",
    "        \"\"\"\n",
    "        if not s:\n",
    "            return True\n",
    "        \n",
    "        match = {'(':')','[':']','{':'}'}\n",
    "        stack = []\n",
    "        for bracket in s:\n",
    "            if bracket in match.keys():\n",
    "                stack.append(bracket)\n",
    "            elif len(stack) > 0 and match[stack[-1]] == bracket:\n",
    "                stack.pop()\n",
    "            else:\n",
    "                return False\n",
    "        \n",
    "        return stack == []\n",
    "            "
   ]
  },
  {
   "cell_type": "code",
   "execution_count": 76,
   "metadata": {},
   "outputs": [
    {
     "data": {
      "text/plain": [
       "False"
      ]
     },
     "execution_count": 76,
     "metadata": {},
     "output_type": "execute_result"
    }
   ],
   "source": [
    "s = \"([)]\"\n",
    "obj = Solution()\n",
    "ans = obj.isValid(s)\n",
    "ans"
   ]
  },
  {
   "cell_type": "markdown",
   "metadata": {},
   "source": [
    "### 155. Min Stack\n",
    "\n",
    "```\n",
    "Design a stack that supports push, pop, top, and retrieving the minimum element in constant time.\n",
    "\n",
    "push(x) -- Push element x onto stack.\n",
    "pop() -- Removes the element on top of the stack.\n",
    "top() -- Get the top element.\n",
    "getMin() -- Retrieve the minimum element in the stack.\n",
    " \n",
    "\n",
    "Example:\n",
    "\n",
    "MinStack minStack = new MinStack();\n",
    "minStack.push(-2);\n",
    "minStack.push(0);\n",
    "minStack.push(-3);\n",
    "minStack.getMin();   --> Returns -3.\n",
    "minStack.pop();\n",
    "minStack.top();      --> Returns 0.\n",
    "minStack.getMin();   --> Returns -2\n",
    "\n",
    "```"
   ]
  },
  {
   "cell_type": "code",
   "execution_count": 59,
   "metadata": {},
   "outputs": [],
   "source": [
    "class MinStack:\n",
    "\n",
    "    def __init__(self):\n",
    "        \"\"\"\n",
    "        initialize your data structure here.\n",
    "        \"\"\"\n",
    "        self.stack = []\n",
    "\n",
    "    def push(self, x: int) -> None:\n",
    "        self.stack.append(x)\n",
    "       \n",
    "\n",
    "    def pop(self) -> None:\n",
    "        self.stack.pop()      \n",
    "        \n",
    "\n",
    "    def top(self) -> int:\n",
    "        if self.stack:\n",
    "            return self.stack[-1]\n",
    "        else:\n",
    "            return\n",
    "\n",
    "    def getMin(self) -> int:\n",
    "        return min(self.stack) if self.stack else None\n",
    "\n",
    "\n"
   ]
  },
  {
   "cell_type": "code",
   "execution_count": 61,
   "metadata": {},
   "outputs": [
    {
     "name": "stdout",
     "output_type": "stream",
     "text": [
      "0 -2\n"
     ]
    }
   ],
   "source": [
    "# Your MinStack object will be instantiated and called as such:\n",
    "obj = MinStack()\n",
    "obj.push(-2)\n",
    "obj.push(0)\n",
    "obj.push(-3)\n",
    "obj.pop()\n",
    "param_3 = obj.top()\n",
    "param_4 = obj.getMin()\n",
    "print(param_3, param_4)"
   ]
  },
  {
   "cell_type": "markdown",
   "metadata": {},
   "source": [
    "## Medium"
   ]
  },
  {
   "cell_type": "markdown",
   "metadata": {},
   "source": [
    "### 503. Next Greater Element II\n",
    "\n",
    "```\n",
    "Given a circular array (the next element of the last element is the first element of the array), print the Next Greater Number for every element. The Next Greater Number of a number x is the first greater number to its traversing-order next in the array, which means you could search circularly to find its next greater number. If it doesn't exist, output -1 for this number.\n",
    "\n",
    "Example 1:\n",
    "Input: [1,2,1]\n",
    "Output: [2,-1,2]\n",
    "Explanation: The first 1's next greater number is 2; \n",
    "The number 2 can't find next greater number; \n",
    "The second 1's next greater number needs to search circularly, which is also 2.\n",
    "Note: The length of given array won't exceed 10000.\n",
    "\n",
    "```"
   ]
  },
  {
   "cell_type": "code",
   "execution_count": 13,
   "metadata": {},
   "outputs": [],
   "source": [
    "class Solution:\n",
    "    def nextGreaterElements(self, nums):\n",
    "        stack, res = [], [-1] * len(nums)\n",
    "        \n",
    "        # Keep the descending order in stack\n",
    "        for i in list(range(len(nums))) * 2:\n",
    "            while stack and (nums[stack[-1]] < nums[i]):\n",
    "                res[stack.pop()] = nums[i]\n",
    "            stack.append(i)\n",
    "        return res  "
   ]
  },
  {
   "cell_type": "code",
   "execution_count": 15,
   "metadata": {},
   "outputs": [
    {
     "data": {
      "text/plain": [
       "[2, -1, 2]"
      ]
     },
     "execution_count": 15,
     "metadata": {},
     "output_type": "execute_result"
    }
   ],
   "source": [
    "nums = [1,2,1]\n",
    "obj = Solution()\n",
    "ans = obj.nextGreaterElements(nums)\n",
    "ans"
   ]
  },
  {
   "cell_type": "markdown",
   "metadata": {},
   "source": [
    "### [ ] 1130. Minimum Cost Tree From Leaf Values\n",
    "\n",
    "```\n",
    "Given an array arr of positive integers, consider all binary trees such that:\n",
    "\n",
    "Each node has either 0 or 2 children;\n",
    "The values of arr correspond to the values of each leaf in an in-order traversal of the tree.  (Recall that a node is a leaf if and only if it has 0 children.)\n",
    "The value of each non-leaf node is equal to the product of the largest leaf value in its left and right subtree respectively.\n",
    "Among all possible binary trees considered, return the smallest possible sum of the values of each non-leaf node.  It is guaranteed this sum fits into a 32-bit integer.\n",
    "\n",
    "Example 1:\n",
    "\n",
    "Input: arr = [6,2,4]\n",
    "Output: 32\n",
    "Explanation:\n",
    "There are two possible trees.  The first has non-leaf node sum 36, and the second has non-leaf node sum 32.\n",
    "\n",
    "    24            24\n",
    "   /  \\          /  \\\n",
    "  12   4        6    8\n",
    " /  \\               / \\\n",
    "6    2             2   4\n",
    "```"
   ]
  },
  {
   "cell_type": "code",
   "execution_count": 20,
   "metadata": {},
   "outputs": [],
   "source": [
    "class Solution:\n",
    "    def mctFromLeafValues(self, arr):\n",
    "        \n",
    "        n = len(arr)\n",
    "        stack = [float('inf')]\n",
    "        res = 0\n",
    "        for a in arr:\n",
    "            while stack and stack[-1] <=a:\n",
    "                mid = stack.pop()\n",
    "                res += mid*min(stack[-1], a)\n",
    "            stack.append(a)\n",
    "        while len(stack) > 2:\n",
    "            res += stack.pop() * stack[-1]\n",
    "        return res"
   ]
  },
  {
   "cell_type": "code",
   "execution_count": 22,
   "metadata": {},
   "outputs": [
    {
     "data": {
      "text/plain": [
       "68"
      ]
     },
     "execution_count": 22,
     "metadata": {},
     "output_type": "execute_result"
    }
   ],
   "source": [
    "arr = [6,2,4]\n",
    "arr2 = [5,4,3,2,6]\n",
    "obj = Solution()\n",
    "ans = obj.mctFromLeafValues(arr2)\n",
    "ans"
   ]
  },
  {
   "cell_type": "markdown",
   "metadata": {},
   "source": [
    "### 921. Minimum Add to Make Parentheses Valid\n",
    "\n",
    "```\n",
    "Given a string S of '(' and ')' parentheses, we add the minimum number of parentheses ( '(' or ')', and in any positions ) so that the resulting parentheses string is valid.\n",
    "\n",
    "Formally, a parentheses string is valid if and only if:\n",
    "\n",
    "It is the empty string, or\n",
    "It can be written as AB (A concatenated with B), where A and B are valid strings, or\n",
    "It can be written as (A), where A is a valid string.\n",
    "Given a parentheses string, return the minimum number of parentheses we must add to make the resulting string valid.\n",
    "\n",
    " \n",
    "\n",
    "Example 1:\n",
    "\n",
    "Input: \"())\"\n",
    "Output: 1\n",
    "Example 2:\n",
    "\n",
    "Input: \"(((\"\n",
    "Output: 3\n",
    "Example 3:\n",
    "\n",
    "Input: \"()\"\n",
    "Output: 0\n",
    "Example 4:\n",
    "\n",
    "Input: \"()))((\"\n",
    "Output: 4\n",
    "```"
   ]
  },
  {
   "cell_type": "code",
   "execution_count": 3,
   "metadata": {},
   "outputs": [],
   "source": [
    "# valid string: ((())), ()()()\n",
    "class Solution:\n",
    "    def minAddToMakeValid(self, S):\n",
    "        \n",
    "        miss = left = 0\n",
    "        for p in S:\n",
    "            if p == '(':\n",
    "                left +=1\n",
    "            else:\n",
    "                if left > 0:\n",
    "                    left -= 1\n",
    "                else:\n",
    "                    miss += 1\n",
    "        return miss + left"
   ]
  },
  {
   "cell_type": "code",
   "execution_count": 4,
   "metadata": {},
   "outputs": [
    {
     "data": {
      "text/plain": [
       "4"
      ]
     },
     "execution_count": 4,
     "metadata": {},
     "output_type": "execute_result"
    }
   ],
   "source": [
    "s = \"()))((\"\n",
    "obj = Solution()\n",
    "ans = obj. minAddToMakeValid(s)\n",
    "ans"
   ]
  },
  {
   "cell_type": "markdown",
   "metadata": {},
   "source": [
    "### Min Max Riddle"
   ]
  },
  {
   "cell_type": "code",
   "execution_count": null,
   "metadata": {},
   "outputs": [],
   "source": [
    "from collections import deque\n",
    "\n",
    "def riddle(arr):\n",
    "    n = len(arr)\n",
    "    ax = 0\n",
    "    ans = []\n",
    "    queue = deque(arr)\n",
    "    \n",
    "    for i in reversed(range(1,n+1)):\n",
    "        tmp = []\n",
    "        \n",
    "        # pop i times\n",
    "        for j in range(i):           \n",
    "            tmp.append(queue.pop)\n",
    "        tmpmin = min(tmp)\n",
    "        ax = max(ax,tmpmin)\n",
    "        ans.append(ax)\n",
    "        "
   ]
  },
  {
   "cell_type": "code",
   "execution_count": null,
   "metadata": {},
   "outputs": [],
   "source": [
    "arr = [3,5,4,7,6,2]\n",
    "ans = riddle(arr)\n",
    "ans"
   ]
  },
  {
   "cell_type": "code",
   "execution_count": 5,
   "metadata": {},
   "outputs": [
    {
     "name": "stdout",
     "output_type": "stream",
     "text": [
      "defaultdict(<class 'int'>, {}) [(3, 0)]\n",
      "defaultdict(<class 'int'>, {}) [(3, 0), (5, 1)]\n",
      "defaultdict(<class 'int'>, {1: 5}) [(3, 0), (4, 1)]\n",
      "defaultdict(<class 'int'>, {1: 5}) [(3, 0), (4, 1), (7, 3)]\n",
      "defaultdict(<class 'int'>, {1: 7}) [(3, 0), (4, 1), (6, 3)]\n",
      "defaultdict(<class 'int'>, {1: 7, 2: 6, 4: 4, 5: 3}) [(2, 0)]\n",
      "defaultdict(<class 'int'>, {1: 7, 2: 6, 4: 4, 5: 3, 6: 2}) [(-1, 0)]\n",
      "0 2 6\n",
      "2 3 5\n",
      "3 4 4\n",
      "4 0 3\n",
      "4 6 2\n",
      "6 7 1\n",
      "7 6 4 4 3 2\n"
     ]
    }
   ],
   "source": [
    "from collections import defaultdict\n",
    "\n",
    "\n",
    "def main():\n",
    "    n = 6\n",
    "    xs = [3,5,4,7,6,2]\n",
    "    xs.append(-1)\n",
    "    answer = [0] * n\n",
    "\n",
    "    d, stack = defaultdict(int), []\n",
    "    for i, x in enumerate(xs):\n",
    "        index = i\n",
    "\n",
    "        while stack and stack[-1][0] >= x:\n",
    "            y, index = stack.pop()\n",
    "            d[i - index] = max(d[i - index], y)\n",
    "\n",
    "        stack.append((x, index))\n",
    "        print(d, stack)\n",
    "    \n",
    "    current = 0\n",
    "    for window in range(n, 0, -1):\n",
    "        print(current, d[window],window)\n",
    "        current = max(current, d[window])\n",
    "        answer[window - 1] = current\n",
    "\n",
    "    print(*answer)\n",
    "\n",
    "\n",
    "if __name__ == '__main__':\n",
    "    main()"
   ]
  },
  {
   "cell_type": "markdown",
   "metadata": {},
   "source": [
    "### Largest Rectangle\n",
    "- https://www.geeksforgeeks.org/largest-rectangle-under-histogram/"
   ]
  },
  {
   "cell_type": "code",
   "execution_count": null,
   "metadata": {},
   "outputs": [],
   "source": [
    "def largestRectangle(hs):\n",
    "    hs.append(0)\n",
    "    stack = [(hs[0],0)]\n",
    "    ans = 0\n",
    "    \n",
    "    for i in range(1,len(hs)):\n",
    "        left = i\n",
    "        if hs[i] < stack[-1][0]:\n",
    "            while stack and stack[-1][0] >= hs[i]:\n",
    "                top = stack.pop()\n",
    "                left = top[1]\n",
    "                ans = max(ans, top[0] * (i-left))\n",
    "        stack.append((hs[i],left))\n",
    "    \n",
    "    return ans"
   ]
  },
  {
   "cell_type": "code",
   "execution_count": null,
   "metadata": {},
   "outputs": [],
   "source": [
    "h = [1,1,1,1,2,3,2]\n",
    "ans = largestRectangle(h)\n",
    "ans"
   ]
  },
  {
   "cell_type": "markdown",
   "metadata": {},
   "source": [
    "### Queues: A Tale of Two Stacks"
   ]
  },
  {
   "cell_type": "code",
   "execution_count": null,
   "metadata": {},
   "outputs": [],
   "source": [
    "class MyQueue(object):\n",
    "    def __init__(self):\n",
    "        self.lifo = []\n",
    "        self.fifo = []\n",
    "    \n",
    "    def peek(self):\n",
    "        if self.lifo and self.fifo:\n",
    "            return self.fifo[0]\n",
    "        \n",
    "    def pop(self):\n",
    "        if self.lifo and self.fifo:\n",
    "            self.fifo.pop(0)\n",
    "            self.lifo.pop(-1)\n",
    "        \n",
    "    def put(self, value):\n",
    "        self.fifo.append(value)\n",
    "        self.lifo.insert(0,value)\n",
    "        \n",
    "queue = MyQueue()\n",
    "t = int(input())\n",
    "for line in range(t):\n",
    "    values = map(int, input().split())\n",
    "    values = list(values)\n",
    "    if values[0] == 1:\n",
    "        queue.put(values[1])        \n",
    "    elif values[0] == 2:\n",
    "        queue.pop()\n",
    "    else:\n",
    "        print(queue.peek())\n"
   ]
  },
  {
   "cell_type": "code",
   "execution_count": null,
   "metadata": {},
   "outputs": [],
   "source": [
    "\n"
   ]
  },
  {
   "cell_type": "markdown",
   "metadata": {},
   "source": [
    "### Balanced Brackets\n",
    "\n",
    "- Symbol"
   ]
  },
  {
   "cell_type": "code",
   "execution_count": null,
   "metadata": {},
   "outputs": [],
   "source": [
    "# M1: Runtime error\n",
    "def isBalanced(s):\n",
    "\n",
    "    match = {'(':')','[':']','{':'}'}\n",
    "\n",
    "    stack = []\n",
    "    for bracket in s:\n",
    "        if bracket in match.keys():\n",
    "            stack.append(bracket)\n",
    "        #not consider when extra close bracket. \n",
    "        # or meet the close bracket first\n",
    "        elif len(stack) > 0 and match[stack[-1]] == bracket:\n",
    "            stack.pop(-1)           \n",
    "        else:\n",
    "            return \"NO\"\n",
    "            \n",
    "    if not stack:\n",
    "        return \"YES\"\n",
    "    else:\n",
    "        return \"NO\"\n",
    "\n",
    "# def isBalanced(s):\n",
    "    \n",
    "#     match = {'(':')','[':']','{':'}'}\n",
    "#     stack = []\n",
    "\n",
    "#     for bracket in s:\n",
    "#         if bracket in match.keys():\n",
    "#             stack.append(bracket)\n",
    "#         elif len(stack) == 0 or match[stack.pop()] != bracket:\n",
    "#             return \"NO\"\n",
    "\n",
    "#     if not stack:\n",
    "#         return \"YES\"\n",
    "#     else:\n",
    "#         return \"NO\"   \n",
    "    "
   ]
  },
  {
   "cell_type": "code",
   "execution_count": null,
   "metadata": {},
   "outputs": [],
   "source": [
    "s = \"{{[[(())]]}}\"\n",
    "s1 = \"}][}}(}][))]\"\n",
    "ans = isBalanced(s)\n",
    "ans"
   ]
  },
  {
   "cell_type": "code",
   "execution_count": null,
   "metadata": {},
   "outputs": [],
   "source": [
    "a= [0]\n",
    "a.pop(-1)"
   ]
  },
  {
   "cell_type": "markdown",
   "metadata": {},
   "source": [
    "## Hard\n"
   ]
  }
 ],
 "metadata": {
  "kernelspec": {
   "display_name": "Python 3",
   "language": "python",
   "name": "python3"
  },
  "language_info": {
   "codemirror_mode": {
    "name": "ipython",
    "version": 3
   },
   "file_extension": ".py",
   "mimetype": "text/x-python",
   "name": "python",
   "nbconvert_exporter": "python",
   "pygments_lexer": "ipython3",
   "version": "3.7.0"
  },
  "toc": {
   "base_numbering": 1,
   "nav_menu": {},
   "number_sections": true,
   "sideBar": true,
   "skip_h1_title": false,
   "title_cell": "Table of Contents",
   "title_sidebar": "Contents",
   "toc_cell": false,
   "toc_position": {
    "height": "calc(100% - 180px)",
    "left": "10px",
    "top": "150px",
    "width": "279.273px"
   },
   "toc_section_display": true,
   "toc_window_display": true
  }
 },
 "nbformat": 4,
 "nbformat_minor": 2
}
