{
 "cells": [
  {
   "cell_type": "markdown",
   "metadata": {},
   "source": [
    "# Sorting"
   ]
  },
  {
   "cell_type": "markdown",
   "metadata": {},
   "source": [
    "## Counting Sort"
   ]
  },
  {
   "cell_type": "code",
   "execution_count": null,
   "metadata": {},
   "outputs": [],
   "source": [
    "def counting_sort(collection):\n",
    "    '''\n",
    "    s1: create a counting_arr\n",
    "    s2: counting each number in collection \n",
    "    s3: subsum the counting_arr\n",
    "    s3: place each number in its respect position\n",
    "    '''    \n",
    "    col_len = len(collection)\n",
    "    col_max = max(collection)\n",
    "    col_min = min(collection)\n",
    "    \n",
    "    counting_arr_len = col_max - col_min + 1\n",
    "    counting_arr = [0] * counting_arr_len\n",
    "    \n",
    "    for number in collection:\n",
    "        counting_arr[number - col_min] += 1\n",
    "    \n",
    "    for i in range(1,counting_arr_len):\n",
    "        counting_arr[i] = counting_arr[i] + counting_arr[i-1]\n",
    "    \n",
    "    ordered = [0] * col_len\n",
    "    for i in reversed(range(0,col_len)):\n",
    "        ordered[counting_arr[collection[i]-col_min] -1] = collection[i]\n",
    "        counting_arr[(collection[i]-col_min)] -=1\n",
    "    return ordered"
   ]
  },
  {
   "cell_type": "code",
   "execution_count": null,
   "metadata": {},
   "outputs": [],
   "source": [
    "coll = [2,3,1,4,4,2,3,5]\n",
    "ans = counting_sort(coll)\n",
    "ans"
   ]
  },
  {
   "cell_type": "markdown",
   "metadata": {},
   "source": [
    "## Bubble Sort"
   ]
  },
  {
   "cell_type": "code",
   "execution_count": null,
   "metadata": {},
   "outputs": [],
   "source": [
    "def bubble_sort(collection):\n",
    "    '''\n",
    "    \n",
    "    '''\n",
    "    swapped = False\n",
    "    col_len = len(collection)\n",
    "    for i in range(col_len-1):\n",
    "        for j in range(col_len-1-i):\n",
    "            if collection[j] > collection[j+1]:\n",
    "                collection[j],collection[j+1] = collection[j+1], collection[j]\n",
    "                swapped = True\n",
    "        if not swapped:\n",
    "            break\n",
    "    return collection\n",
    "    "
   ]
  },
  {
   "cell_type": "code",
   "execution_count": null,
   "metadata": {},
   "outputs": [],
   "source": [
    "coll = [2,3,1,4,4,2,3,5]\n",
    "ans = bubble_sort(coll)\n",
    "ans"
   ]
  },
  {
   "cell_type": "markdown",
   "metadata": {},
   "source": [
    "## Merge Sort\n",
    "\n",
    "- 1. split //2\n",
    "- 2. merge_sort on left and right recusively\n",
    "- 3. merge the reulst into one list\n",
    "- 4. add the remain list."
   ]
  },
  {
   "cell_type": "code",
   "execution_count": null,
   "metadata": {},
   "outputs": [],
   "source": [
    "def mergeSort(arr):\n",
    "#base case if the input array is one or zero just return.\n",
    "    if len(arr) > 1:\n",
    "# splitting input array\n",
    "        print('splitting ', arr )\n",
    "        mid = len(arr)//2\n",
    "        left = arr[:mid]\n",
    "        right = arr[mid:]\n",
    "#recursive calls to mergeSort for left and right sub arrays\n",
    "        mergeSort(left)\n",
    "        mergeSort(right)\n",
    "#initalizes pointers for left (i) right (j) and output array(k)\n",
    "# 3 initalization operations\n",
    "        i = j = k = 0\n",
    "#Traverse and merges the sorted arrays\n",
    "        while i <len(left) and j<len(right):\n",
    "# if left < right comparison operation\n",
    "            if left[i] < right[j]:\n",
    "# if left < right Assignment operation\n",
    "                arr[k]=left[i]\n",
    "                i=i+1\n",
    "            else:\n",
    "#if right <= left assignment\n",
    "                arr[k]= right[j]\n",
    "                j=j+1\n",
    "            k=k+1\n",
    "        \n",
    "        \n",
    "        # for the remains list        \n",
    "        while i<len(left):\n",
    "#Assignment operation\n",
    "            arr[k]=left[i]\n",
    "            i=i+1\n",
    "            k=k+1\n",
    "        \n",
    "        while j<len(right):\n",
    "#Assignment operation\n",
    "            arr[k]=right[j]\n",
    "            j=j+1\n",
    "            k=k+1\n",
    "    print('merging ', arr)\n",
    "    return(arr)\n",
    "    "
   ]
  },
  {
   "cell_type": "code",
   "execution_count": null,
   "metadata": {},
   "outputs": [],
   "source": [
    "def merge_sort(arr):\n",
    "    def merge(left,right):\n",
    "        result = []\n",
    "        while left and right:\n",
    "            result.append((left if left[0] <= right[0] else right).pop(0))\n",
    "        \n",
    "        print(f\"results = {result}, l = {left}, r = {right}\")\n",
    "        # add the remain list,\n",
    "        return result + left + right\n",
    "    \n",
    "    if len(arr) <=1:\n",
    "        return arr\n",
    "    \n",
    "    mid = len(arr) // 2\n",
    "    \n",
    "    return merge(merge_sort(arr[:mid]),merge_sort(arr[mid:]))"
   ]
  },
  {
   "cell_type": "code",
   "execution_count": null,
   "metadata": {},
   "outputs": [],
   "source": [
    "arr = [1,2,4,3,5,9,6,7,8]\n",
    "ans = merge_sort(arr)\n",
    "ans"
   ]
  },
  {
   "cell_type": "markdown",
   "metadata": {},
   "source": [
    "## Easy"
   ]
  },
  {
   "cell_type": "markdown",
   "metadata": {},
   "source": [
    "### Mark and Toys"
   ]
  },
  {
   "cell_type": "code",
   "execution_count": null,
   "metadata": {},
   "outputs": [],
   "source": [
    "def maximumToys(prices, k):\n",
    "    prices.sort()\n",
    "    sum = 0\n",
    "    for i,price in enumerate(prices):\n",
    "        sum += price\n",
    "        if sum > k:\n",
    "            return i\n",
    "        elif sum == k:\n",
    "            return i+1\n",
    "    return 0"
   ]
  },
  {
   "cell_type": "code",
   "execution_count": null,
   "metadata": {},
   "outputs": [],
   "source": [
    "prices = [1, 12, 5, 111, 200, 1000, 10]\n",
    "#prices = [20,20,20]\n",
    "k = 50\n",
    "ans = maximumToys(prices,k)\n",
    "ans"
   ]
  },
  {
   "cell_type": "code",
   "execution_count": null,
   "metadata": {},
   "outputs": [],
   "source": []
  },
  {
   "cell_type": "code",
   "execution_count": null,
   "metadata": {},
   "outputs": [],
   "source": []
  },
  {
   "cell_type": "markdown",
   "metadata": {},
   "source": [
    "### H Sorting: Bubble Sort"
   ]
  },
  {
   "cell_type": "code",
   "execution_count": null,
   "metadata": {},
   "outputs": [],
   "source": [
    "def countSwaps(a):\n",
    "    \n",
    "    length = len(a)\n",
    "    count = 0\n",
    "    swapped = False\n",
    "    \n",
    "    for i in range(length - 1):\n",
    "        for j in range(length - 1 -i):\n",
    "            if a[j] > a[j+1]:\n",
    "                a[j], a[j+1] = a[j+1], a[j]\n",
    "                swapped = True\n",
    "                count += 1\n",
    "        print(a)\n",
    "        if not swapped:\n",
    "            break\n",
    "    \n",
    "    print('\\n'.join([\n",
    "    f'Array is sorted in {count} swaps.',\n",
    "    f'First Element: {a[0]}',\n",
    "    f'Last Element: {a[-1]}'\n",
    "    ]))\n",
    "    \n",
    "    return"
   ]
  },
  {
   "cell_type": "code",
   "execution_count": null,
   "metadata": {},
   "outputs": [],
   "source": [
    "a = [5,3,2,4,1]\n",
    "ans = countSwaps(a)\n",
    "ans"
   ]
  },
  {
   "cell_type": "markdown",
   "metadata": {},
   "source": [
    "## Medium"
   ]
  },
  {
   "cell_type": "markdown",
   "metadata": {},
   "source": [
    "### 179. Largest Number\n",
    "\n",
    "```\n",
    "Given a list of non negative integers, arrange them such that they form the largest number.\n",
    "\n",
    "Example 1:\n",
    "\n",
    "Input: [10,2]\n",
    "Output: \"210\"\n",
    "Example 2:\n",
    "\n",
    "Input: [3,30,34,5,9]\n",
    "Output: \"9534330\"\n",
    "\n",
    "```"
   ]
  },
  {
   "cell_type": "code",
   "execution_count": 16,
   "metadata": {},
   "outputs": [],
   "source": [
    "from functools import cmp_to_key\n",
    "\n",
    "class Solution:\n",
    "    def largestNumber(self, nums):\n",
    "        nums = [str(num) for num in nums]\n",
    "        nums.sort(key=lambda x, y: x+y < y+x)\n",
    "        return ''.join(nums)"
   ]
  },
  {
   "cell_type": "code",
   "execution_count": 17,
   "metadata": {},
   "outputs": [
    {
     "ename": "TypeError",
     "evalue": "<lambda>() missing 1 required positional argument: 'y'",
     "output_type": "error",
     "traceback": [
      "\u001b[1;31m---------------------------------------------------------------------------\u001b[0m",
      "\u001b[1;31mTypeError\u001b[0m                                 Traceback (most recent call last)",
      "\u001b[1;32m<ipython-input-17-0d1d7e0e7cd7>\u001b[0m in \u001b[0;36m<module>\u001b[1;34m()\u001b[0m\n\u001b[0;32m      1\u001b[0m \u001b[0mnums\u001b[0m \u001b[1;33m=\u001b[0m \u001b[1;33m[\u001b[0m\u001b[1;36m3\u001b[0m\u001b[1;33m,\u001b[0m\u001b[1;36m30\u001b[0m\u001b[1;33m,\u001b[0m\u001b[1;36m34\u001b[0m\u001b[1;33m,\u001b[0m\u001b[1;36m5\u001b[0m\u001b[1;33m,\u001b[0m\u001b[1;36m9\u001b[0m\u001b[1;33m]\u001b[0m\u001b[1;33m\u001b[0m\u001b[0m\n\u001b[1;32m----> 2\u001b[1;33m \u001b[0mans\u001b[0m \u001b[1;33m=\u001b[0m \u001b[0mSolution\u001b[0m\u001b[1;33m(\u001b[0m\u001b[1;33m)\u001b[0m\u001b[1;33m.\u001b[0m\u001b[0mlargestNumber\u001b[0m\u001b[1;33m(\u001b[0m\u001b[0mnums\u001b[0m\u001b[1;33m)\u001b[0m\u001b[1;33m\u001b[0m\u001b[0m\n\u001b[0m\u001b[0;32m      3\u001b[0m \u001b[0mans\u001b[0m\u001b[1;33m\u001b[0m\u001b[0m\n",
      "\u001b[1;32m<ipython-input-16-e3b545966e21>\u001b[0m in \u001b[0;36mlargestNumber\u001b[1;34m(self, nums)\u001b[0m\n\u001b[0;32m      4\u001b[0m     \u001b[1;32mdef\u001b[0m \u001b[0mlargestNumber\u001b[0m\u001b[1;33m(\u001b[0m\u001b[0mself\u001b[0m\u001b[1;33m,\u001b[0m \u001b[0mnums\u001b[0m\u001b[1;33m)\u001b[0m\u001b[1;33m:\u001b[0m\u001b[1;33m\u001b[0m\u001b[0m\n\u001b[0;32m      5\u001b[0m         \u001b[0mnums\u001b[0m \u001b[1;33m=\u001b[0m \u001b[1;33m[\u001b[0m\u001b[0mstr\u001b[0m\u001b[1;33m(\u001b[0m\u001b[0mnum\u001b[0m\u001b[1;33m)\u001b[0m \u001b[1;32mfor\u001b[0m \u001b[0mnum\u001b[0m \u001b[1;32min\u001b[0m \u001b[0mnums\u001b[0m\u001b[1;33m]\u001b[0m\u001b[1;33m\u001b[0m\u001b[0m\n\u001b[1;32m----> 6\u001b[1;33m         \u001b[0mnums\u001b[0m\u001b[1;33m.\u001b[0m\u001b[0msort\u001b[0m\u001b[1;33m(\u001b[0m\u001b[0mkey\u001b[0m\u001b[1;33m=\u001b[0m\u001b[1;32mlambda\u001b[0m \u001b[0mx\u001b[0m\u001b[1;33m,\u001b[0m\u001b[0my\u001b[0m\u001b[1;33m:\u001b[0m \u001b[0mx\u001b[0m\u001b[1;33m+\u001b[0m\u001b[0my\u001b[0m \u001b[1;33m<\u001b[0m \u001b[0my\u001b[0m\u001b[1;33m+\u001b[0m\u001b[0mx\u001b[0m\u001b[1;33m)\u001b[0m\u001b[1;33m\u001b[0m\u001b[0m\n\u001b[0m\u001b[0;32m      7\u001b[0m         \u001b[1;32mreturn\u001b[0m \u001b[1;34m''\u001b[0m\u001b[1;33m.\u001b[0m\u001b[0mjoin\u001b[0m\u001b[1;33m(\u001b[0m\u001b[0mnums\u001b[0m\u001b[1;33m)\u001b[0m\u001b[1;33m\u001b[0m\u001b[0m\n",
      "\u001b[1;31mTypeError\u001b[0m: <lambda>() missing 1 required positional argument: 'y'"
     ]
    }
   ],
   "source": [
    "nums = [3,30,34,5,9]\n",
    "ans = Solution().largestNumber(nums)\n",
    "ans"
   ]
  },
  {
   "cell_type": "code",
   "execution_count": null,
   "metadata": {},
   "outputs": [],
   "source": []
  },
  {
   "cell_type": "code",
   "execution_count": null,
   "metadata": {},
   "outputs": [],
   "source": []
  },
  {
   "cell_type": "code",
   "execution_count": null,
   "metadata": {},
   "outputs": [],
   "source": []
  },
  {
   "cell_type": "code",
   "execution_count": null,
   "metadata": {},
   "outputs": [],
   "source": []
  },
  {
   "cell_type": "code",
   "execution_count": null,
   "metadata": {},
   "outputs": [],
   "source": []
  },
  {
   "cell_type": "code",
   "execution_count": null,
   "metadata": {},
   "outputs": [],
   "source": []
  },
  {
   "cell_type": "code",
   "execution_count": null,
   "metadata": {},
   "outputs": [],
   "source": []
  },
  {
   "cell_type": "markdown",
   "metadata": {},
   "source": [
    "### K Closest Points to Origin \n",
    "- Amazon\n",
    "\n",
    "```\n",
    "We have a list of points on the plane.  Find the K closest points to the origin (0, 0).\n",
    "\n",
    "(Here, the distance between two points on a plane is the Euclidean distance.)\n",
    "\n",
    "You may return the answer in any order.  The answer is guaranteed to be unique (except for the order that it is in.)\n",
    "\n",
    " \n",
    "\n",
    "Example 1:\n",
    "\n",
    "Input: points = [[1,3],[-2,2]], K = 1\n",
    "Output: [[-2,2]]\n",
    "Explanation: \n",
    "The distance between (1, 3) and the origin is sqrt(10).\n",
    "The distance between (-2, 2) and the origin is sqrt(8).\n",
    "Since sqrt(8) < sqrt(10), (-2, 2) is closer to the origin.\n",
    "We only want the closest K = 1 points from the origin, so the answer is just [[-2,2]].\n",
    "Example 2:\n",
    "\n",
    "Input: points = [[3,3],[5,-1],[-2,4]], K = 2\n",
    "Output: [[3,3],[-2,4]]\n",
    "(The answer [[-2,4],[3,3]] would also be accepted.)\n",
    "\n",
    "```"
   ]
  },
  {
   "cell_type": "code",
   "execution_count": 34,
   "metadata": {},
   "outputs": [],
   "source": [
    "def kClosest(nums,k):\n",
    "    \n",
    "    nums.sort(key=lambda x: pow(x[0],2) + pow(x[1],2))\n",
    "    \n",
    "    return nums[:k]"
   ]
  },
  {
   "cell_type": "code",
   "execution_count": 35,
   "metadata": {},
   "outputs": [
    {
     "data": {
      "text/plain": [
       "[[3, 3], [-2, 4]]"
      ]
     },
     "execution_count": 35,
     "metadata": {},
     "output_type": "execute_result"
    }
   ],
   "source": [
    "nums = [[3,3],[5,-1],[-2,4]]\n",
    "k = 2\n",
    "ans = kClosest(nums,k)\n",
    "ans"
   ]
  },
  {
   "cell_type": "markdown",
   "metadata": {},
   "source": [
    "### Fraudulent Activity Notifications"
   ]
  },
  {
   "cell_type": "code",
   "execution_count": null,
   "metadata": {},
   "outputs": [],
   "source": [
    "\n",
    "#from numpy import median # No numpy in HR\n",
    "\n",
    "# M1 time out\n",
    "# def med(s):\n",
    "#     n = len(s)\n",
    "#     s.sort()\n",
    "#     return (sum(s[n//2-1:n//2+1])/2.0, s[n//2])[n % 2]\n",
    "\n",
    "# def activityNotifications(expenditure, d):\n",
    "    \n",
    "#     cnt = 0\n",
    "#     lenth = len(expenditure)\n",
    "#     for i in range(d,lenth):\n",
    "#         m = med(expenditure[i-d:i])\n",
    "#         if expenditure[i] >= 2 * m:\n",
    "#             cnt +=1\n",
    "        \n",
    "#     return cnt\n",
    "\n",
    "N = 201 # max-min+1\n",
    "\n",
    "def counting(collection):\n",
    "    ct_arr = [0] * N\n",
    "    for num in collection:\n",
    "        ct_arr[num] += 1    #ct_arr is sparse\n",
    "    return ct_arr\n",
    "\n",
    "def get_doubled_median(d,counts):\n",
    "    mid = d // 2 + d % 2\n",
    "    cnt = 0\n",
    "    i = 0\n",
    "    \n",
    "    while cnt+counts[i] < mid:\n",
    "        cnt += counts[i]\n",
    "        i +=1\n",
    "    \n",
    "    if d % 2 == 1:\n",
    "        return 2*i\n",
    "    \n",
    "    j=i # # maybe like 3,_,_,7, so i =3, j = 7\n",
    "    while cnt + counts[j] < mid + 1:\n",
    "        cnt += counts[j]\n",
    "        j += 1\n",
    "    \n",
    "    return i+j\n",
    "    \n",
    "    \n",
    "\n",
    "def activityNotifications(expenditure, d):\n",
    "    notif = 0\n",
    "    \n",
    "    # initialy start from the first d nums\n",
    "    counts = counting(expenditure[:d])\n",
    "    \n",
    "    # different with i in range(d,length),here i start from 0.\n",
    "    for i, ex in enumerate(expenditure[d:]):\n",
    "        if ex >= get_doubled_median(d,counts):\n",
    "            notif += 1\n",
    "        \n",
    "        counts[ex] += 1\n",
    "        \n",
    "        # delete the d-1 element, so keep the couting length == d\n",
    "        counts[expenditure[i]] -= 1\n",
    "    return notif"
   ]
  },
  {
   "cell_type": "code",
   "execution_count": null,
   "metadata": {},
   "outputs": [],
   "source": [
    "expen = [2, 3, 4, 2, 3, 6, 8, 4, 5]\n",
    "d = 5\n",
    "# expen = [1,2, 3, 4, 4]\n",
    "# d = 4\n",
    "ans = activityNotifications(expen,d)\n",
    "ans"
   ]
  },
  {
   "cell_type": "markdown",
   "metadata": {},
   "source": [
    "### H Comparator"
   ]
  },
  {
   "cell_type": "code",
   "execution_count": null,
   "metadata": {},
   "outputs": [],
   "source": [
    "from functools import cmp_to_key\n",
    "\n",
    "class Player:\n",
    "    def __init__(self, name, score):\n",
    "        self.name = name\n",
    "        self.score = score\n",
    "    def __repr__(self):\n",
    "        return f'{self.name} {self.score}'\n",
    "    def comparator(self, other):\n",
    "        if other.score == self.score:\n",
    "            return 1 if other.name < self.name else -1\n",
    "        return other.score - self.score        \n",
    "        \n",
    "n = int(input())\n",
    "data = []\n",
    "for i in range(n):\n",
    "    name, score = input().split()\n",
    "    score = int(score)\n",
    "    player = Player(name, score)\n",
    "    data.append(player)\n",
    "    \n",
    "data = sorted(data, key=cmp_to_key(Player.comparator))\n",
    "for i in data:\n",
    "    print(i.name, i.score)"
   ]
  },
  {
   "cell_type": "markdown",
   "metadata": {},
   "source": [
    "## Hard"
   ]
  },
  {
   "cell_type": "code",
   "execution_count": null,
   "metadata": {},
   "outputs": [],
   "source": []
  },
  {
   "cell_type": "markdown",
   "metadata": {},
   "source": [
    "### [ ] Merge Sort: Counting Inversions\n"
   ]
  },
  {
   "cell_type": "code",
   "execution_count": null,
   "metadata": {},
   "outputs": [],
   "source": [
    "# M1 bubble sort: out of time limit\n",
    "# def countInversions(arr):\n",
    "#     length = len(arr)\n",
    "#     cnt = 0\n",
    "#     swapped = False\n",
    "#     for i in range(length-1):\n",
    "#         for j in range(length-i-1):\n",
    "#             if arr[j] > arr[j+1]:\n",
    "#                 arr[j], arr[j+1] = arr[j+1], arr[j]\n",
    "#                 cnt +=1\n",
    "#                 swapped = True\n",
    "#         if not swapped:\n",
    "#             break\n",
    "#     return cnt\n",
    "\n",
    "def countInversions(arr):"
   ]
  },
  {
   "cell_type": "code",
   "execution_count": null,
   "metadata": {},
   "outputs": [],
   "source": [
    "n1 = [1,1,1,2,2]\n",
    "n2 = [2,1,3,1,2]\n",
    "ans = countInversions(n2)\n",
    "ans"
   ]
  },
  {
   "cell_type": "code",
   "execution_count": null,
   "metadata": {},
   "outputs": [],
   "source": []
  }
 ],
 "metadata": {
  "kernelspec": {
   "display_name": "Python 3",
   "language": "python",
   "name": "python3"
  },
  "language_info": {
   "codemirror_mode": {
    "name": "ipython",
    "version": 3
   },
   "file_extension": ".py",
   "mimetype": "text/x-python",
   "name": "python",
   "nbconvert_exporter": "python",
   "pygments_lexer": "ipython3",
   "version": "3.7.0"
  },
  "toc": {
   "base_numbering": 1,
   "nav_menu": {},
   "number_sections": true,
   "sideBar": true,
   "skip_h1_title": false,
   "title_cell": "Table of Contents",
   "title_sidebar": "Contents",
   "toc_cell": false,
   "toc_position": {
    "height": "calc(100% - 180px)",
    "left": "10px",
    "top": "150px",
    "width": "307.2px"
   },
   "toc_section_display": true,
   "toc_window_display": true
  }
 },
 "nbformat": 4,
 "nbformat_minor": 2
}
