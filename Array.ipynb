{
 "cells": [
  {
   "cell_type": "markdown",
   "metadata": {},
   "source": [
    "# Array"
   ]
  },
  {
   "cell_type": "markdown",
   "metadata": {},
   "source": [
    "## EASY"
   ]
  },
  {
   "cell_type": "markdown",
   "metadata": {},
   "source": [
    "### 167. Two Sum II - Input array is sorted\n",
    "\n",
    "```\n",
    "Given an array of integers that is already sorted in ascending order, find two numbers such that they add up to a specific target number.\n",
    "\n",
    "The function twoSum should return indices of the two numbers such that they add up to the target, where index1 must be less than index2.\n",
    "\n",
    "Note:\n",
    "\n",
    "Your returned answers (both index1 and index2) are not zero-based.\n",
    "You may assume that each input would have exactly one solution and you may not use the same element twice.\n",
    "Example:\n",
    "\n",
    "Input: numbers = [2,7,11,15], target = 9\n",
    "Output: [1,2]\n",
    "Explanation: The sum of 2 and 7 is 9. Therefore index1 = 1, index2 = 2.\n",
    "\n",
    "```"
   ]
  },
  {
   "cell_type": "code",
   "execution_count": 1,
   "metadata": {},
   "outputs": [],
   "source": [
    "class Solution(object):\n",
    "    def twoSum(self, numbers, target):\n",
    "        \"\"\"\n",
    "        :type numbers: List[int]\n",
    "        :type target: int\n",
    "        :rtype: List[int]\n",
    "        \"\"\"\n",
    "        \n",
    "        idx = {}\n",
    "        for i,num in enumerate(numbers):\n",
    "            if target -num in idx:\n",
    "                return [idx[target-num],i+1]\n",
    "            else:\n",
    "                idx[num] = i + 1\n",
    "    "
   ]
  },
  {
   "cell_type": "code",
   "execution_count": 2,
   "metadata": {},
   "outputs": [
    {
     "data": {
      "text/plain": [
       "[1, 2]"
      ]
     },
     "execution_count": 2,
     "metadata": {},
     "output_type": "execute_result"
    }
   ],
   "source": [
    "numbers = [2,7,11,15]\n",
    "target = 9\n",
    "obj = Solution()\n",
    "ans = obj.twoSum(numbers,target)\n",
    "ans"
   ]
  },
  {
   "cell_type": "markdown",
   "metadata": {},
   "source": [
    "### H1_w1 Sock Merchant\n",
    "\n",
    "- there are 7 socks with colors[1,2,1,2,1,3,2] . There is one pair of color  and one of color . There are three odd socks left, one of each color. The number of pairs is ."
   ]
  },
  {
   "cell_type": "code",
   "execution_count": null,
   "metadata": {},
   "outputs": [],
   "source": [
    "# import math\n",
    "# import os\n",
    "# import random\n",
    "# import re\n",
    "# import sys\n",
    "from collections import Counter\n",
    "# Complete the sockMerchant function below.\n",
    "def sockMerchant(n, ar):\n",
    "\n",
    "    if n < 2:\n",
    "        return 0\n",
    "    \n",
    "    cnt = Counter(ar)\n",
    "    cnt_val = list(cnt.values())\n",
    "    ans = 0\n",
    "    for val in cnt_val:\n",
    "        quotient_remainder = divmod(val,2)\n",
    "        ans += quotient_remainder[0]\n",
    "        #print(quotient_remainder)\n",
    "    return ans\n",
    "    \n",
    "# if __name__ == '__main__':\n",
    "#     fptr = open(os.environ['OUTPUT_PATH'], 'w')\n",
    "\n",
    "#     n = int(input())\n",
    "\n",
    "#     ar = list(map(int, input().rstrip().split()))\n",
    "\n",
    "#     result = sockMerchant(n, ar)\n",
    "\n",
    "#     fptr.write(str(result) + '\\n')\n",
    "\n",
    "#     fptr.close()"
   ]
  },
  {
   "cell_type": "code",
   "execution_count": null,
   "metadata": {},
   "outputs": [],
   "source": [
    "ans = sockMerchant(7,[1,2,1,2,1,3,2] )\n",
    "ans"
   ]
  },
  {
   "cell_type": "markdown",
   "metadata": {},
   "source": [
    "### H_ARRAY_2D Array - DS\n"
   ]
  },
  {
   "cell_type": "code",
   "execution_count": null,
   "metadata": {},
   "outputs": [],
   "source": [
    "# tmpsum > maxsum: maxsum = tmpsum\n",
    "def hourglassSum(arr):\n",
    "    maxsum= -100\n",
    "    lenth = len(arr)\n",
    "    for i in range(1,lenth-1):\n",
    "        for j in range(1,lenth-1):\n",
    "            tmpsum = 0\n",
    "#             tmpsum = (arr[i-1][j-1]+arr[i-1][j]+arr[i-1][j+1]+arr[i][j]+\n",
    "#                          arr[i+1][j-1]+arr[i+1][j]+arr[i+1][j+1])\n",
    "            tmpsum = (sum(arr[i-1][j-1:j+2]) + arr[i][j] + sum(arr[i+1][j-1:j+2]))\n",
    "#             if tmpsum > maxsum:\n",
    "#                 maxsum = tmpsum\n",
    "            maxsum = max(tmpsum,maxsum)\n",
    "    return maxsum"
   ]
  },
  {
   "cell_type": "code",
   "execution_count": null,
   "metadata": {},
   "outputs": [],
   "source": [
    "arra = [[1, 1, 1, 0, 0, 0], [0, 1, 0, 0, 0, 0], [1, 1, 1, 0, 0, 0], [0, 0, 2, 4, 4, 0], [0, 0, 0, 2, 0, 0], [0, 0, 1, 2, 4, 0]]\n",
    "ans = hourglassSum(arra)\n",
    "ans"
   ]
  },
  {
   "cell_type": "markdown",
   "metadata": {},
   "source": [
    "### H_array_Arrays: Left Rotation"
   ]
  },
  {
   "cell_type": "code",
   "execution_count": null,
   "metadata": {},
   "outputs": [],
   "source": [
    "def rotLeft(a, d):\n",
    "    for i in range(d):\n",
    "        a.append(a.pop(0))\n",
    "    return a"
   ]
  },
  {
   "cell_type": "code",
   "execution_count": null,
   "metadata": {},
   "outputs": [],
   "source": [
    "def rotLeft2(a,d):\n",
    "    \n",
    "    n = len(a)\n",
    "    d %= n\n",
    "    \n",
    "    ans = a[d:] + a[:d]\n",
    "    return ans\n",
    "    "
   ]
  },
  {
   "cell_type": "code",
   "execution_count": null,
   "metadata": {},
   "outputs": [],
   "source": [
    "nums = [1,2,3,4,5]\n",
    "ans = rotLeft2(nums,3)\n",
    "ans"
   ]
  },
  {
   "cell_type": "code",
   "execution_count": null,
   "metadata": {},
   "outputs": [],
   "source": [
    "nums.pop(0)"
   ]
  },
  {
   "cell_type": "markdown",
   "metadata": {},
   "source": [
    "### 1. Two Sum\n",
    "> array, dict,enumerate\n",
    "\n",
    "> get the index of an item in list from by its value.  \n",
    "\n",
    "Given an array of integers, return indices of the two numbers such that they add up to a specific target.\n",
    "\n",
    "You may assume that each input would have exactly one solution, and you may not use the same element twice.\n",
    "\n",
    "Example:\n",
    "\n",
    "Given nums = [2, 7, 11, 15], target = 9,\n",
    "\n",
    "Because nums[0] + nums[1] = 2 + 7 = 9,\n",
    "return [0, 1]."
   ]
  },
  {
   "cell_type": "code",
   "execution_count": null,
   "metadata": {},
   "outputs": [],
   "source": [
    "# create a dict for store value(index) and key\n",
    "class Solution:\n",
    "    def twoSum(self, nums, target):\n",
    "        \"\"\"\n",
    "        :type nums: List[int]\n",
    "        :type target: int\n",
    "        :rtype: List[int]\n",
    "        \"\"\"\n",
    "#         ans = []\n",
    "#         nums_array = np.array(nums)\n",
    "#         for index, value in nums_array.index(),nums_array.value():\n",
    "#             remain = target-value\n",
    "#             if remain in nums.value():\n",
    "#                 ans.append(index)\n",
    "#                 ans.append\n",
    "# can't directly get an index from its value\n",
    "\n",
    "        index_dict = dict()\n",
    "        for index, value in enumerate(nums):\n",
    "            if target-value in index_dict:\n",
    "                return[index_dict[target-value],index]\n",
    "            \n",
    "            # key step, use dict to map value and index\n",
    "            index_dict[value] = index\n",
    "\n",
    "nums = [3,4,5,6,7,8,9,10]\n",
    "tar = 15\n",
    "tmpIns = Solution()\n",
    "ans = tmpIns.twoSum(nums,tar)\n",
    "print(ans)               "
   ]
  },
  {
   "cell_type": "markdown",
   "metadata": {},
   "source": [
    "### 53. Maximum Subarray\n",
    "\n",
    "> array, easy, DyP\n",
    "\n",
    "Given an integer array nums, find the contiguous subarray (containing at least one number) which has the largest sum and return its sum.\n",
    "\n",
    "Example:\n",
    "\n",
    "Input: [-2,1,-3,4,-1,2,1,-5,4],\n",
    "Output: 6\n",
    "Explanation: [4,-1,2,1] has the largest sum = 6.\n",
    "Follow up:\n",
    "\n",
    "If you have figured out the O(n) solution, try coding another solution using the divide and conquer approach, which is more subtle."
   ]
  },
  {
   "cell_type": "code",
   "execution_count": null,
   "metadata": {},
   "outputs": [],
   "source": [
    "# O(n) solution\n",
    "def maxSubarray(nums):\n",
    "    \n",
    "    if max(nums) < 0:\n",
    "        return max(nums)\n",
    "\n",
    "    thissum = maxsum = 0\n",
    "    for value in nums:\n",
    "        thissum += value\n",
    "        if thissum > maxsum:\n",
    "            maxsum = thissum\n",
    "        # key step: \n",
    "        elif thissum < 0: \n",
    "            thissum = 0\n",
    "    return maxsum\n",
    "\n",
    "# def maxSubarray2(nums):\n",
    "    \n",
    "\n",
    "nums = [-2,1,-3,4,-1,2,1,-5,4]\n",
    "ans = maxSubarray(nums)\n",
    "ans"
   ]
  },
  {
   "cell_type": "markdown",
   "metadata": {},
   "source": [
    "### 88. Merge Sorted Array\n",
    ">\n",
    "\n",
    "Given two sorted integer arrays nums1 and nums2, merge nums2 into nums1 as one sorted array.\n",
    "\n",
    "Note:\n",
    "\n",
    "The number of elements initialized in nums1 and nums2 are m and n respectively.\n",
    "You may assume that nums1 has enough space (size that is greater or equal to m + n) to hold additional elements from nums2.\n",
    "Example:\n",
    "\n",
    "Input:\n",
    "nums1 = [1,2,3,0,0,0], m = 3\n",
    "nums2 = [2,5,6],       n = 3\n",
    "\n",
    "Output: [1,2,2,3,5,6]"
   ]
  },
  {
   "cell_type": "code",
   "execution_count": null,
   "metadata": {},
   "outputs": [],
   "source": [
    "def mergeSortedArray(nums1,m, nums2,n):\n",
    "    \n",
    "    \"\"\"\n",
    "    :type nums1: List[int]\n",
    "    :type m: int\n",
    "    :type nums2: List[int]\n",
    "    :type n: int\n",
    "    :rtype: void Do not return anything, modify nums1 in-place instead.\n",
    "    \"\"\"\n",
    "    # list.extend and sort are all return None, since they all inplace method. not return self.\n",
    "    #merge = nums1[:m].extend(nums2[:n])\n",
    "    \n",
    "    s1 = nums1[:m]\n",
    "    s1.extend(nums2[:n])\n",
    "    s1.sort()\n",
    "    nums1[:] = s1\n",
    "\n",
    "\n",
    "nums1 = [1,2,3,0,0,0]\n",
    "m =3\n",
    "nums2 = [2,5,6]\n",
    "n=3\n",
    "mergeSortedArray(nums1,m, nums2,n)\n",
    "nums1"
   ]
  },
  {
   "cell_type": "markdown",
   "metadata": {},
   "source": [
    "### 189. Rotate Array\n",
    "\n",
    "> \n",
    "\n",
    "Given an array, rotate the array to the right by k steps, where k is non-negative.\n",
    "\n",
    "Example 1:\n",
    "\n",
    "Input: [1,2,3,4,5,6,7] and k = 3\n",
    "Output: [5,6,7,1,2,3,4]\n",
    "Explanation:\n",
    "rotate 1 steps to the right: [7,1,2,3,4,5,6]\n",
    "rotate 2 steps to the right: [6,7,1,2,3,4,5]\n",
    "rotate 3 steps to the right: [5,6,7,1,2,3,4]\n",
    "Example 2:\n",
    "\n",
    "Input: [-1,-100,3,99] and k = 2\n",
    "Output: [3,99,-1,-100]\n",
    "Explanation: \n",
    "rotate 1 steps to the right: [99,-1,-100,3]\n",
    "rotate 2 steps to the right: [3,99,-1,-100]\n",
    "Note:\n",
    "\n",
    "Try to come up as many solutions as you can, there are at least 3 different ways to solve this problem.\n",
    "Could you do it in-place with O(1) extra space?"
   ]
  },
  {
   "cell_type": "code",
   "execution_count": null,
   "metadata": {},
   "outputs": [],
   "source": [
    "# O(1) extra space\n",
    "\n",
    "# M1: Runtime: 224 ms, faster than 7.34% \n",
    "# def rotate_array(nums, k):\n",
    "#     for i in range(k):\n",
    "#         nums.insert(0,nums.pop())\n",
    "#     return nums\n",
    "\n",
    "# M2: Runtime: 76 ms, faster than 43.77%\n",
    "# def rotate_array(nums, k):\n",
    "#     ans = list(range(len(nums)))\n",
    "#     for index,val in enumerate(nums):\n",
    "#         ans[(index+k) % len(nums)] = val\n",
    "    \n",
    "#     # hard copy\n",
    "#     for i in range(len(nums)):\n",
    "#         nums[i] = ans[i]\n",
    "#     return nums\n",
    "\n",
    "# M3: Reverse1 Runtime: 48 ms, faster than 99.39%\n",
    "def rotate_array(nums, k):\n",
    "    def reverse(nums,start,end):\n",
    "        while start < end:\n",
    "            nums[start], nums[end] = nums[end], nums[start]\n",
    "            start += 1\n",
    "            end -= 1\n",
    "    \n",
    "    lenth = len(nums)\n",
    "    k %= lenth\n",
    "    \n",
    "    # Reverse all\n",
    "    reverse(nums,0,lenth-1)\n",
    "    \n",
    "    # Reverse (0,k)\n",
    "    reverse(nums,0,k-1)\n",
    "    reverse(nums,k,lenth-1)\n",
    "\n",
    "# M4: use the built-in reverse\n",
    "# cannot work since \n",
    "# def rotate_array(nums, k):\n",
    "#     lenth = len(nums)\n",
    "#     k %= lenth\n",
    "    \n",
    "#     nums.reverse()\n",
    "#     nums[0:k].reverse()\n",
    "#     nums[k:lenth].reverse()\n",
    "    "
   ]
  },
  {
   "cell_type": "code",
   "execution_count": null,
   "metadata": {},
   "outputs": [],
   "source": [
    "nums = [1,2,3,4,5,6,7]\n",
    "k = 3\n",
    "rotate_array(nums,k)\n",
    "nums"
   ]
  },
  {
   "cell_type": "markdown",
   "metadata": {},
   "source": [
    "### 26. Remove Duplicates from Sorted Array (Miss Answer)\n",
    "\n",
    "> array, easy\n",
    "\n",
    "Given a sorted array nums, remove the duplicates in-place such that each element appear only once and return the new length.\n",
    "\n",
    "Do not allocate extra space for another array, you must do this by modifying the input array in-place with O(1) extra memory.\n",
    "\n",
    "Example 1:\n",
    "\n",
    "Given nums = [1,1,2],\n",
    "\n",
    "Your function should return length = 2, with the first two elements of nums being 1 and 2 respectively.\n",
    "\n",
    "It doesn't matter what you leave beyond the returned length.\n",
    "Example 2:\n",
    "\n",
    "Given nums = [0,0,1,1,1,2,2,3,3,4],\n",
    "\n",
    "Your function should return length = 5, with the first five elements of nums being modified to 0, 1, 2, 3, and 4 respectively.\n",
    "\n",
    "It doesn't matter what values are set beyond the returned length."
   ]
  },
  {
   "cell_type": "code",
   "execution_count": null,
   "metadata": {},
   "outputs": [],
   "source": [
    "# in place without extra space\n",
    "def remove_element(nums, val):\n",
    "    # test if a list is null\n",
    "    if not nums:\n",
    "        return 0 \n",
    "\n",
    "    start, end = 0, len(nums) - 1\n",
    "    # notice that here is lessequal not less.\n",
    "    while start <= end:\n",
    "        if nums[start] == val:\n",
    "            nums[start], nums[end] = nums[end], nums[start]\n",
    "            end -= 1\n",
    "        else:\n",
    "            start +=1\n",
    "    return start"
   ]
  },
  {
   "cell_type": "code",
   "execution_count": null,
   "metadata": {},
   "outputs": [],
   "source": [
    "nums = [0,1,2,2,3,0,4,2]\n",
    "val = 2\n",
    "ans = remove_element(nums,val)\n",
    "ans"
   ]
  },
  {
   "cell_type": "markdown",
   "metadata": {},
   "source": [
    "### 27. Remove Element\n",
    "\n",
    "> array, easy\n",
    "\n",
    "Given an array nums and a value val, remove all instances of that value in-place and return the new length.\n",
    "\n",
    "Do not allocate extra space for another array, you must do this by modifying the input array in-place with O(1) extra memory.\n",
    "\n",
    "The order of elements can be changed. It doesn't matter what you leave beyond the new length.\n",
    "\n",
    "Example 1:\n",
    "\n",
    "Given nums = [3,2,2,3], val = 3,\n",
    "\n",
    "Your function should return length = 2, with the first two elements of nums being 2.\n",
    "\n",
    "It doesn't matter what you leave beyond the returned length.\n",
    "Example 2:\n",
    "\n",
    "Given nums = [0,1,2,2,3,0,4,2], val = 2,\n",
    "\n",
    "Your function should return length = 5, with the first five elements of nums containing 0, 1, 3, 0, and 4.\n",
    "\n",
    "Note that the order of those five elements can be arbitrary.\n",
    "\n",
    "It doesn't matter what values are set beyond the returned length."
   ]
  },
  {
   "cell_type": "code",
   "execution_count": null,
   "metadata": {},
   "outputs": [],
   "source": [
    "# in place without extra space\n",
    "def remove_element(nums, val):\n",
    "    # test if a list is null\n",
    "    if not nums:\n",
    "        return 0 \n",
    "\n",
    "    start, end = 0, len(nums) - 1\n",
    "    # notice that here is lessequal not less.\n",
    "    while start <= end:\n",
    "        if nums[start] == val:\n",
    "            nums[start], nums[end] = nums[end], nums[start]\n",
    "            end -= 1\n",
    "        else:\n",
    "            start +=1\n",
    "    return start,nums"
   ]
  },
  {
   "cell_type": "code",
   "execution_count": null,
   "metadata": {},
   "outputs": [],
   "source": [
    "nums = [0,1,2,2,3,0,4,2]\n",
    "val = 2\n",
    "ans,num = remove_element(nums,val)\n",
    "print(ans,num)"
   ]
  },
  {
   "cell_type": "markdown",
   "metadata": {},
   "source": [
    "### 35. Search Insert Position\n",
    "> array, easy\n",
    "\n",
    "Given a sorted array and a target value, return the index if the target is found. If not, return the index where it would be if it were inserted in order.\n",
    "\n",
    "You may assume no duplicates in the array.\n",
    "\n",
    "Example 1:\n",
    "\n",
    "Input: [1,3,5,6], 5\n",
    "Output: 2\n",
    "\n",
    "Example 2:\n",
    "Input: [1,3,5,6], 2\n",
    "Output: 1\n",
    "\n",
    "Example 3:\n",
    "Input: [1,3,5,6], 7\n",
    "Output: 4\n",
    "\n",
    "Example 4:\n",
    "Input: [1,3,5,6], 0\n",
    "Output: 0"
   ]
  },
  {
   "cell_type": "code",
   "execution_count": null,
   "metadata": {},
   "outputs": [],
   "source": [
    "def searchInsert(nums, target):\n",
    "    for index, value in enumerate(nums):\n",
    "        if target <= value:\n",
    "            return index\n",
    "    return index +1\n",
    "            \n",
    "\n",
    "nums=[1,2,3,4,5]\n",
    "t1 = searchInsert(nums,1)\n",
    "t2 = searchInsert(nums,2)\n",
    "t3 = searchInsert(nums,6)\n",
    "print(t1,t2,t3)"
   ]
  },
  {
   "cell_type": "markdown",
   "metadata": {},
   "source": [
    "### 118. Pascal's Triangle\n",
    "> array, easy\n",
    "\n",
    "Given a non-negative integer numRows, generate the first numRows of Pascal's triangle.\n",
    "\n",
    "In Pascal's triangle, each number is the sum of the two numbers directly above it.\n",
    "\n",
    "Example:\n",
    "\n",
    "Input: 5\n",
    "Output:\n",
    "[\n",
    "     [1],\n",
    "    [1,1],\n",
    "   [1,2,1],\n",
    "  [1,3,3,1],\n",
    " [1,4,6,4,1]\n",
    "]"
   ]
  },
  {
   "cell_type": "code",
   "execution_count": null,
   "metadata": {},
   "outputs": [],
   "source": [
    "def pascalTriangle(numRows):\n",
    "    out = []\n",
    "    if numRows >= 1:\n",
    "        row1 = [1]\n",
    "    else:\n",
    "        return [0]\n",
    "    \n",
    "    for row in range(numRows):\n",
    "        head = [0]\n",
    "        tail = [0]\n",
    "        tmp =[]\n",
    "        if row == 0:\n",
    "            item = [1]\n",
    "        else:\n",
    "\n",
    "# extend return None.\n",
    "#tmp = head.extend(item)+item.extend(tail)\n",
    "    \n",
    "        #need use item+[0],can't use item.append or extend [0], since list + list return a new list.\n",
    "            item = [x+y for x,y in zip(item+[0],[0]+item )]\n",
    "            \n",
    "            #item = [x+y for x,y in zip(item.extend([0]),[0].extend(item))]\n",
    "        out.append(item)    \n",
    "    print(out)"
   ]
  },
  {
   "cell_type": "code",
   "execution_count": null,
   "metadata": {},
   "outputs": [],
   "source": [
    "numRows = 5\n",
    "pascalTriangle(numRows)"
   ]
  },
  {
   "cell_type": "markdown",
   "metadata": {},
   "source": [
    "### 746. Min Cost Climbing Stairs\n",
    "\n",
    "> array, DP, easy\n",
    "\n",
    "On a staircase, the i-th step has some non-negative cost cost[i] assigned (0 indexed).\n",
    "\n",
    "Once you pay the cost, you can either climb one or two steps. You need to find minimum cost to reach the top of the floor, and you can either start from the step with index 0, or the step with index 1.\n",
    "\n",
    "Example 1:\n",
    "Input: cost = [10, 15, 20]\n",
    "Output: 15\n",
    "Explanation: Cheapest is start on cost[1], pay that cost and go to the top.\n",
    "\n",
    "Example 2:\n",
    "Input: cost = [1, 100, 1, 1, 1, 100, 1, 1, 100, 1]\n",
    "Output: 6\n",
    "Explanation: Cheapest is start on cost[0], and only step on 1s, skipping cost[3].\n",
    "\n",
    "Note:\n",
    "cost will have a length in the range [2, 1000].\n",
    "Every cost[i] will be an integer in the range [0, 999]."
   ]
  },
  {
   "cell_type": "code",
   "execution_count": null,
   "metadata": {},
   "outputs": [],
   "source": [
    "def minCostClimbingStairs(cost):\n",
    "    \"\"\"\n",
    "    :type cost: List[int]\n",
    "    :rtype: int\n",
    "    \"\"\"\n",
    "    \n",
    "    # cost f[i] = cost[i] + min(f[i+1]+f[i+2])\n",
    "    # when decide which is the next step, we have two choices, each choice represent different way,\n",
    "    # imagine there is a binary tree, you would have 2^N choices. \n",
    "    \n",
    "    # this algorithm use reversed order, \n",
    "    # so we would have known the f1 and f2 before making choice.\n",
    "    # this is a key step.\n",
    "       \n",
    "    # initial add tail [0,0] to the end of the list\n",
    "    # f1 represent the min cost of the next point, f2 repre\n",
    "    f1 = f2 = 0\n",
    "    for x in reversed(cost):\n",
    "        f1, f2 = x + min(f1, f2), f1\n",
    "        print('f1={}\\nf2={}'.format(f1,f2))\n",
    "    return min(f1, f2)"
   ]
  },
  {
   "cell_type": "code",
   "execution_count": null,
   "metadata": {},
   "outputs": [],
   "source": [
    "cost = [1, 100, 1, 1, 1, 100, 1, 1, 100, 1]\n",
    "ans = minCostClimbingStairs(cost)\n",
    "ans"
   ]
  },
  {
   "cell_type": "markdown",
   "metadata": {},
   "source": [
    "### 119. Pascal's Triangle II\n",
    "\n",
    "Given a non-negative index k where k ≤ 33, return the kth index row of the Pascal's triangle.\n",
    "\n",
    "Note that the row index starts from 0.\n",
    "\n",
    "\n",
    "In Pascal's triangle, each number is the sum of the two numbers directly above it.\n",
    "\n",
    "Example:\n",
    "\n",
    "Input: 3\n",
    "Output: [1,3,3,1]\n",
    "Follow up:\n",
    "\n",
    "Could you optimize your algorithm to use only O(k) extra space?"
   ]
  },
  {
   "cell_type": "code",
   "execution_count": null,
   "metadata": {},
   "outputs": [],
   "source": [
    "# Runtime: 32 ms, faster than 100.00%\n",
    "def pascal_row(row):       \n",
    "    tmp = [1]\n",
    "    for i in range(row):\n",
    "        tmp = [x+y for x,y in zip([0]+tmp, tmp+[0])]\n",
    "    return tmp"
   ]
  },
  {
   "cell_type": "code",
   "execution_count": null,
   "metadata": {},
   "outputs": [],
   "source": [
    "ans = pascal_row(0)\n",
    "ans"
   ]
  },
  {
   "cell_type": "markdown",
   "metadata": {},
   "source": [
    "### 169. Majority Element\n",
    "Given an array of size n, find the majority element. The majority element is the element that appears more than ⌊ n/2 ⌋ times.\n",
    "\n",
    "You may assume that the array is non-empty and the majority element always exist in the array.\n",
    "\n",
    "Example 1:\n",
    "\n",
    "Input: [3,2,3]\n",
    "Output: 3\n",
    "Example 2:\n",
    "\n",
    "Input: [2,2,1,1,1,2,2]\n",
    "Output: 2"
   ]
  },
  {
   "cell_type": "code",
   "execution_count": null,
   "metadata": {},
   "outputs": [],
   "source": [
    "\n",
    "\n",
    "from collections import Counter\n",
    "\n",
    "def majorityElement(nums):\n",
    "    \"\"\"\n",
    "    :type nums: List[int]\n",
    "    :rtype: int\n",
    "    \"\"\"\n",
    "#     M1 Runtime: 44 ms, faster than 99.95% \n",
    "#    return Counter(nums).most_common(1)[0][0]\n",
    "\n",
    "#     M2 Runtime: 88 ms, faster than 22.32%\n",
    "#     dic = {}\n",
    "#     for num in nums:\n",
    "#         dic[num] = dic.get(num,0) + 1\n",
    "#     print(dic)\n",
    "#     for num in nums:\n",
    "#         if dic[num] > len(nums) // 2:\n",
    "#             return num\n",
    "\n",
    "\n",
    "# M3: Boyer-Moore algorithm \n",
    "# Runtime: 68 ms, faster than 45.09% \n",
    "    count, candi = 0, 0\n",
    "    for value in nums:\n",
    "        if count == 0:\n",
    "            candi = value\n",
    "        if candi == value:\n",
    "            count += 1\n",
    "        else:\n",
    "            count -= 1\n",
    "    return candi"
   ]
  },
  {
   "cell_type": "code",
   "execution_count": null,
   "metadata": {},
   "outputs": [],
   "source": [
    "nums = [2,2,1,2,1,2,2,3,2,5,5]\n",
    "Counter(nums).most_common(1)\n",
    "# ans = majorityElement(nums)\n",
    "# ans"
   ]
  },
  {
   "cell_type": "markdown",
   "metadata": {},
   "source": [
    "### 217. Contains Duplicate\n",
    "\n",
    "Given an array of integers, find if the array contains any duplicates.\n",
    "\n",
    "Your function should return true if any value appears at least twice in the array, and it should return false if every element is distinct.\n",
    "\n",
    "Example 1:\n",
    "\n",
    "Input: [1,2,3,1]\n",
    "Output: true\n",
    "Example 2:\n",
    "\n",
    "Input: [1,2,3,4]\n",
    "Output: false\n",
    "Example 3:\n",
    "\n",
    "Input: [1,1,1,3,3,4,3,2,4,2]\n",
    "Output: true"
   ]
  },
  {
   "cell_type": "code",
   "execution_count": null,
   "metadata": {},
   "outputs": [],
   "source": [
    "from collections import Counter\n",
    "def containsDuplicate(nums):\n",
    "    \"\"\"\n",
    "    :type nums: List[int]\n",
    "    :rtype: bool\n",
    "    \"\"\"\n",
    "#     M1: dict Runtime: 52 ms, faster than 61.83%\n",
    "#     dic = {}\n",
    "#     for value in nums:\n",
    "#         dic[value] = dic.get(value,0) + 1\n",
    "#         if dic[value] >= 2:\n",
    "#             return True\n",
    "#     return False\n",
    "\n",
    "\n",
    "    # M2, Counter\n",
    "#     cnt = Counter(nums)\n",
    "#     if cnt.most_common(1)[0][1] >= 2:\n",
    "#         return True\n",
    "#     else:\n",
    "#         return False\n",
    " \n",
    "        # anoter Counter\n",
    "#     if not nums:\n",
    "#         return False\n",
    "#     else:\n",
    "#         return True if Counter(nums).most_common(1)[0][1] >= 2 else False\n",
    "\n",
    "    # M3 Set, O(1)?\n",
    "    # since we only need the duplicate information not the exactly duplicate values.\n",
    "    return len(nums) != len(set(nums))"
   ]
  },
  {
   "cell_type": "code",
   "execution_count": null,
   "metadata": {},
   "outputs": [],
   "source": [
    "nums = [1,1,1,3,3,4,3,2,4,2]\n",
    "nums1= [1,2,3,4]\n",
    "ans = containsDuplicate(nums1)\n",
    "ans"
   ]
  },
  {
   "cell_type": "markdown",
   "metadata": {},
   "source": [
    "### 219. Contains Duplicate II\n",
    "\n",
    "Given an array of integers and an integer k, find out whether there are two distinct indices i and j in the array such that nums[i] = nums[j] and the absolute difference between i and j is at most k.\n",
    "\n",
    "Example 1:\n",
    "\n",
    "Input: nums = [1,2,3,1], k = 3\n",
    "Output: true\n",
    "Example 2:\n",
    "\n",
    "Input: nums = [1,0,1,1], k = 1\n",
    "Output: true\n",
    "Example 3:\n",
    "\n",
    "Input: nums = [1,2,3,1,2,3], k = 2\n",
    "Output: false"
   ]
  },
  {
   "cell_type": "code",
   "execution_count": null,
   "metadata": {},
   "outputs": [],
   "source": [
    "def containsNearbyDuplicate(nums, k):\n",
    "    \"\"\"\n",
    "    :type nums: List[int]\n",
    "    :type k: int\n",
    "    :rtype: bool\n",
    "    \"\"\"\n",
    "    \n",
    "    #Runtime: 44 ms, faster than 97.62%\n",
    "    dic = {}\n",
    "    for index, value in enumerate(nums):\n",
    "        if value not in dic:\n",
    "            # key step, use dic to store value and index.\n",
    "            dic[value] = index\n",
    "        else:\n",
    "            if index - dic[value] <= k:\n",
    "                return True\n",
    "            else:\n",
    "                dic[value] = index\n",
    "    return False"
   ]
  },
  {
   "cell_type": "code",
   "execution_count": null,
   "metadata": {},
   "outputs": [],
   "source": [
    "nums = [1,2,3,1,2,3]\n",
    "#nums = [1,0,1,1]\n",
    "k = 2\n",
    "ans = containsNearbyDuplicate(nums,k)\n",
    "ans"
   ]
  },
  {
   "cell_type": "markdown",
   "metadata": {},
   "source": [
    "## MEDIUM"
   ]
  },
  {
   "cell_type": "markdown",
   "metadata": {},
   "source": [
    "### Minimum Platforms\n",
    "\n",
    "- Greedy\n",
    "- https://practice.geeksforgeeks.org/problems/minimum-platforms/0\n",
    "- https://www.geeksforgeeks.org/minimum-number-platforms-required-railwaybus-station/\n",
    "\n",
    "\n",
    "```\n",
    "\n",
    "```"
   ]
  },
  {
   "cell_type": "code",
   "execution_count": 7,
   "metadata": {},
   "outputs": [],
   "source": [
    "def minPlat(arrive,depart):\n",
    "    \n",
    "    n = len(arrive)\n",
    "    arrive.sort()\n",
    "    depart.sort()\n",
    "    \n",
    "    plat = 1\n",
    "    res = 1\n",
    "    \n",
    "    i = 1\n",
    "    j = 0\n",
    "    while (i < n and j< n):\n",
    "        if arrive[i] <= depart[j]:\n",
    "            plat += 1\n",
    "            res = max(plat,res)\n",
    "            i +=1\n",
    "        else:\n",
    "            plat -= 1\n",
    "            j +=1\n",
    "    return res\n",
    "       "
   ]
  },
  {
   "cell_type": "code",
   "execution_count": 8,
   "metadata": {},
   "outputs": [
    {
     "data": {
      "text/plain": [
       "2"
      ]
     },
     "execution_count": 8,
     "metadata": {},
     "output_type": "execute_result"
    }
   ],
   "source": [
    "# arrive = ['0900','1100','1235']\n",
    "# depart = ['1000','1200','1240']\n",
    "\n",
    "arrive = [900,1000,1235]\n",
    "depart = [1000,1200,1240]\n",
    "ans = minPlat(arrive,depart)\n",
    "ans"
   ]
  },
  {
   "cell_type": "markdown",
   "metadata": {},
   "source": [
    "### 78. Subsets\n",
    "- backtracking\n",
    "- https://www.geeksforgeeks.org/backtracking-introduction/\n",
    "\n",
    "```\n",
    "Given a set of distinct integers, nums, return all possible subsets (the power set).\n",
    "\n",
    "Note: The solution set must not contain duplicate subsets.\n",
    "\n",
    "Example:\n",
    "\n",
    "Input: nums = [1,2,3]\n",
    "Output:\n",
    "[\n",
    "  [3],\n",
    "  [1],\n",
    "  [2],\n",
    "  [1,2,3],\n",
    "  [1,3],\n",
    "  [2,3],\n",
    "  [1,2],\n",
    "  []\n",
    "]\n",
    "\n",
    "```"
   ]
  },
  {
   "cell_type": "code",
   "execution_count": 51,
   "metadata": {},
   "outputs": [],
   "source": [
    "class Solution:\n",
    "\n",
    "    def backtrack(self,nums,res,pre_list):\n",
    "        res.append(pre_list)\n",
    "        for i,num in enumerate(nums):\n",
    "            p_list = pre_list.copy()\n",
    "            p_list.append(num)\n",
    "            r_list = nums[i+1:]\n",
    "            self.backtrack(r_list,res,p_list)\n",
    "        return\n",
    "\n",
    "    def subsets(self, nums):\n",
    "        res = []\n",
    "        pre_list = []\n",
    "        self.backtrack(nums,res,pre_list)\n",
    "        return res"
   ]
  },
  {
   "cell_type": "code",
   "execution_count": 52,
   "metadata": {},
   "outputs": [
    {
     "data": {
      "text/plain": [
       "[[], [1], [1, 2], [1, 2, 3], [1, 3], [2], [2, 3], [3]]"
      ]
     },
     "execution_count": 52,
     "metadata": {},
     "output_type": "execute_result"
    }
   ],
   "source": [
    "# expetced answer\n",
    "# [\n",
    "#   [3],\n",
    "#   [1],\n",
    "#   [2],\n",
    "#   [1,2,3],\n",
    "#   [1,3],\n",
    "#   [2,3],\n",
    "#   [1,2],\n",
    "#   []\n",
    "# ]\n",
    "\n",
    "nums = [1,2,3]\n",
    "obj = Solution()\n",
    "ans = obj.subsets(nums)\n",
    "ans"
   ]
  },
  {
   "cell_type": "code",
   "execution_count": 24,
   "metadata": {},
   "outputs": [
    {
     "data": {
      "text/plain": [
       "[2]"
      ]
     },
     "execution_count": 24,
     "metadata": {},
     "output_type": "execute_result"
    }
   ],
   "source": [
    "a= []\n",
    "a.append(2)\n",
    "a"
   ]
  },
  {
   "cell_type": "markdown",
   "metadata": {},
   "source": [
    "### 46. Permutations\n",
    "\n",
    "- backtracking\n",
    "\n",
    "- https://leetcode.com/problems/combination-sum/discuss/16502/A-general-approach-to-backtracking-questions-in-Java-(Subsets-Permutations-Combination-Sum-Palindrome-Partitioning)\n",
    "\n",
    "```\n",
    "Given a collection of distinct integers, return all possible permutations.\n",
    "\n",
    "Example:\n",
    "\n",
    "Input: [1,2,3]\n",
    "Output:\n",
    "[\n",
    "  [1,2,3],\n",
    "  [1,3,2],\n",
    "  [2,1,3],\n",
    "  [2,3,1],\n",
    "  [3,1,2],\n",
    "  [3,2,1]\n",
    "]\n",
    "\n",
    "```"
   ]
  },
  {
   "cell_type": "code",
   "execution_count": 12,
   "metadata": {},
   "outputs": [],
   "source": [
    "class Solution:\n",
    "    #def permute(self, nums):\n",
    "        \n",
    "    def permute(self, nums):\n",
    "        \"\"\"自己写回溯法\"\"\"\n",
    "        res = []\n",
    "        def _backtrace(nums, pre_list):\n",
    "            if len(nums) <= 0:\n",
    "                res.append(pre_list)\n",
    "            else:\n",
    "                for i in nums:\n",
    "                    # 注意copy一份新的调用，否则无法正常循环\n",
    "                    p_list = pre_list.copy()\n",
    "                    p_list.append(i)\n",
    "                    left_nums = nums.copy()\n",
    "                    left_nums.remove(i)\n",
    "                    _backtrace(left_nums, p_list)\n",
    "                    print(i,p_list,left_nums)\n",
    "        _backtrace(nums, [])\n",
    "        return res\n",
    "        "
   ]
  },
  {
   "cell_type": "code",
   "execution_count": 13,
   "metadata": {},
   "outputs": [
    {
     "name": "stdout",
     "output_type": "stream",
     "text": [
      "4 [1, 2, 3, 4] []\n",
      "3 [1, 2, 3] [4]\n",
      "3 [1, 2, 4, 3] []\n",
      "4 [1, 2, 4] [3]\n",
      "2 [1, 2] [3, 4]\n",
      "4 [1, 3, 2, 4] []\n",
      "2 [1, 3, 2] [4]\n",
      "2 [1, 3, 4, 2] []\n",
      "4 [1, 3, 4] [2]\n",
      "3 [1, 3] [2, 4]\n",
      "3 [1, 4, 2, 3] []\n",
      "2 [1, 4, 2] [3]\n",
      "2 [1, 4, 3, 2] []\n",
      "3 [1, 4, 3] [2]\n",
      "4 [1, 4] [2, 3]\n",
      "1 [1] [2, 3, 4]\n",
      "4 [2, 1, 3, 4] []\n",
      "3 [2, 1, 3] [4]\n",
      "3 [2, 1, 4, 3] []\n",
      "4 [2, 1, 4] [3]\n",
      "1 [2, 1] [3, 4]\n",
      "4 [2, 3, 1, 4] []\n",
      "1 [2, 3, 1] [4]\n",
      "1 [2, 3, 4, 1] []\n",
      "4 [2, 3, 4] [1]\n",
      "3 [2, 3] [1, 4]\n",
      "3 [2, 4, 1, 3] []\n",
      "1 [2, 4, 1] [3]\n",
      "1 [2, 4, 3, 1] []\n",
      "3 [2, 4, 3] [1]\n",
      "4 [2, 4] [1, 3]\n",
      "2 [2] [1, 3, 4]\n",
      "4 [3, 1, 2, 4] []\n",
      "2 [3, 1, 2] [4]\n",
      "2 [3, 1, 4, 2] []\n",
      "4 [3, 1, 4] [2]\n",
      "1 [3, 1] [2, 4]\n",
      "4 [3, 2, 1, 4] []\n",
      "1 [3, 2, 1] [4]\n",
      "1 [3, 2, 4, 1] []\n",
      "4 [3, 2, 4] [1]\n",
      "2 [3, 2] [1, 4]\n",
      "2 [3, 4, 1, 2] []\n",
      "1 [3, 4, 1] [2]\n",
      "1 [3, 4, 2, 1] []\n",
      "2 [3, 4, 2] [1]\n",
      "4 [3, 4] [1, 2]\n",
      "3 [3] [1, 2, 4]\n",
      "3 [4, 1, 2, 3] []\n",
      "2 [4, 1, 2] [3]\n",
      "2 [4, 1, 3, 2] []\n",
      "3 [4, 1, 3] [2]\n",
      "1 [4, 1] [2, 3]\n",
      "3 [4, 2, 1, 3] []\n",
      "1 [4, 2, 1] [3]\n",
      "1 [4, 2, 3, 1] []\n",
      "3 [4, 2, 3] [1]\n",
      "2 [4, 2] [1, 3]\n",
      "2 [4, 3, 1, 2] []\n",
      "1 [4, 3, 1] [2]\n",
      "1 [4, 3, 2, 1] []\n",
      "2 [4, 3, 2] [1]\n",
      "3 [4, 3] [1, 2]\n",
      "4 [4] [1, 2, 3]\n"
     ]
    },
    {
     "data": {
      "text/plain": [
       "[[1, 2, 3, 4],\n",
       " [1, 2, 4, 3],\n",
       " [1, 3, 2, 4],\n",
       " [1, 3, 4, 2],\n",
       " [1, 4, 2, 3],\n",
       " [1, 4, 3, 2],\n",
       " [2, 1, 3, 4],\n",
       " [2, 1, 4, 3],\n",
       " [2, 3, 1, 4],\n",
       " [2, 3, 4, 1],\n",
       " [2, 4, 1, 3],\n",
       " [2, 4, 3, 1],\n",
       " [3, 1, 2, 4],\n",
       " [3, 1, 4, 2],\n",
       " [3, 2, 1, 4],\n",
       " [3, 2, 4, 1],\n",
       " [3, 4, 1, 2],\n",
       " [3, 4, 2, 1],\n",
       " [4, 1, 2, 3],\n",
       " [4, 1, 3, 2],\n",
       " [4, 2, 1, 3],\n",
       " [4, 2, 3, 1],\n",
       " [4, 3, 1, 2],\n",
       " [4, 3, 2, 1]]"
      ]
     },
     "execution_count": 13,
     "metadata": {},
     "output_type": "execute_result"
    }
   ],
   "source": [
    "nums = [1,2,3,4]\n",
    "obj = Solution()\n",
    "ans = obj.permute(nums)\n",
    "ans"
   ]
  },
  {
   "cell_type": "markdown",
   "metadata": {},
   "source": [
    "### 560. Subarray Sum Equals K\n",
    "\n",
    "```\n",
    "Given an array of integers and an integer k, you need to find the total number of continuous subarrays whose sum equals to k.\n",
    "\n",
    "Example 1:\n",
    "Input:nums = [1,1,1], k = 2\n",
    "Output: 2\n",
    "Note:\n",
    "The length of the array is in range [1, 20,000].\n",
    "The range of numbers in the array is [-1000, 1000] and the range of the integer k is [-1e7, 1e7].\n",
    "\n",
    "```"
   ]
  },
  {
   "cell_type": "code",
   "execution_count": 7,
   "metadata": {},
   "outputs": [],
   "source": [
    "# https://github.com/azl397985856/leetcode/blob/master/problems/560.subarray-sum-equals-k.md\n",
    "class Solution:\n",
    "    def subarraySum(self, nums, k):\n",
    "        d = {}\n",
    "        acc = count = 0\n",
    "        for num in nums:\n",
    "            acc += num\n",
    "            if acc == k:\n",
    "                count +=1\n",
    "            if acc-k in d:\n",
    "                count += d[acc-k]\n",
    "            print(d)\n",
    "            if acc in d:\n",
    "                d[acc] +=1\n",
    "            else:\n",
    "                d[acc] = 1\n",
    "        return count\n",
    "        "
   ]
  },
  {
   "cell_type": "code",
   "execution_count": 8,
   "metadata": {},
   "outputs": [
    {
     "name": "stdout",
     "output_type": "stream",
     "text": [
      "{}\n",
      "{1: 1}\n",
      "{1: 1, 3: 1}\n",
      "{1: 1, 3: 1, 6: 1}\n",
      "{1: 1, 3: 1, 6: 1, 9: 1}\n",
      "{1: 1, 3: 1, 6: 1, 9: 2}\n",
      "{1: 1, 3: 1, 6: 1, 9: 2, 12: 1}\n",
      "{1: 1, 3: 1, 6: 1, 9: 2, 12: 1, 16: 1}\n"
     ]
    },
    {
     "data": {
      "text/plain": [
       "5"
      ]
     },
     "execution_count": 8,
     "metadata": {},
     "output_type": "execute_result"
    }
   ],
   "source": [
    "nums = [1,2,3,3,0,3,4,2]\n",
    "k = 6\n",
    "obj = Solution()\n",
    "ans = obj.subarraySum(nums,k)\n",
    "ans"
   ]
  },
  {
   "cell_type": "markdown",
   "metadata": {},
   "source": [
    "### 503. Next Greater Element II\n",
    "\n",
    "```\n",
    "Given a circular array (the next element of the last element is the first element of the array), print the Next Greater Number for every element. The Next Greater Number of a number x is the first greater number to its traversing-order next in the array, which means you could search circularly to find its next greater number. If it doesn't exist, output -1 for this number.\n",
    "\n",
    "Example 1:\n",
    "Input: [1,2,1]\n",
    "Output: [2,-1,2]\n",
    "Explanation: The first 1's next greater number is 2; \n",
    "The number 2 can't find next greater number; \n",
    "The second 1's next greater number needs to search circularly, which is also 2.\n",
    "Note: The length of given array won't exceed 10000.\n",
    "```"
   ]
  },
  {
   "cell_type": "code",
   "execution_count": 20,
   "metadata": {},
   "outputs": [],
   "source": [
    "class Solution(object):\n",
    "    def nextGreaterElements(self, nums):\n",
    "        stack, res = [], [-1] * len(nums)\n",
    "        for i in list(range(len(nums))) * 2:\n",
    "            while stack and (nums[stack[-1]] < nums[i]):\n",
    "                res[stack.pop()] = nums[i]\n",
    "            stack.append(i)\n",
    "        return res\n"
   ]
  },
  {
   "cell_type": "code",
   "execution_count": 21,
   "metadata": {},
   "outputs": [
    {
     "data": {
      "text/plain": [
       "[2, -1, 2]"
      ]
     },
     "execution_count": 21,
     "metadata": {},
     "output_type": "execute_result"
    }
   ],
   "source": [
    "nums = [1,2,1]\n",
    "obj = Solution()\n",
    "ans = obj.nextGreaterElements(nums)\n",
    "ans"
   ]
  },
  {
   "cell_type": "code",
   "execution_count": 19,
   "metadata": {},
   "outputs": [
    {
     "name": "stdout",
     "output_type": "stream",
     "text": [
      "0\n",
      "1\n",
      "2\n",
      "0\n",
      "1\n",
      "2\n"
     ]
    }
   ],
   "source": [
    "for i in list(range(3)) * 2:\n",
    "    print(i)"
   ]
  },
  {
   "cell_type": "markdown",
   "metadata": {},
   "source": [
    "### 78. Subsets\n",
    "\n",
    "```\n",
    "Given a set of distinct integers, nums, return all possible subsets (the power set).\n",
    "\n",
    "Note: The solution set must not contain duplicate subsets.\n",
    "\n",
    "Example:\n",
    "\n",
    "Input: nums = [1,2,3]\n",
    "Output:\n",
    "[\n",
    "  [3],\n",
    "  [1],\n",
    "  [2],\n",
    "  [1,2,3],\n",
    "  [1,3],\n",
    "  [2,3],\n",
    "  [1,2],\n",
    "  []\n",
    "]\n",
    "```"
   ]
  },
  {
   "cell_type": "code",
   "execution_count": 88,
   "metadata": {},
   "outputs": [],
   "source": [
    "class Solution(object):\n",
    "    def subsets(self, nums):\n",
    "        \"\"\"\n",
    "        :type nums: List[int]\n",
    "        :rtype: List[List[int]]\n",
    "        \"\"\"\n",
    "        res = [[]]\n",
    "        for num in nums:\n",
    "            res.extend([tmp+[num] for tmp in res])\n",
    "        return res"
   ]
  },
  {
   "cell_type": "code",
   "execution_count": 89,
   "metadata": {},
   "outputs": [
    {
     "data": {
      "text/plain": [
       "[[], [1], [2], [1, 2], [3], [1, 3], [2, 3], [1, 2, 3]]"
      ]
     },
     "execution_count": 89,
     "metadata": {},
     "output_type": "execute_result"
    }
   ],
   "source": [
    "nums = [1,2,3]\n",
    "obj = Solution()\n",
    "ans = obj.subsets(nums)\n",
    "ans"
   ]
  },
  {
   "cell_type": "code",
   "execution_count": 81,
   "metadata": {},
   "outputs": [
    {
     "data": {
      "text/plain": [
       "[[1, 2, 3], 4, 5]"
      ]
     },
     "execution_count": 81,
     "metadata": {},
     "output_type": "execute_result"
    }
   ],
   "source": [
    "x = [[1,2,3]]\n",
    "x.extend([4,5])\n",
    "x"
   ]
  },
  {
   "cell_type": "markdown",
   "metadata": {},
   "source": [
    "### 48. Rotate Image\n",
    "\n",
    "```\n",
    "You are given an n x n 2D matrix representing an image.\n",
    "\n",
    "Rotate the image by 90 degrees (clockwise).\n",
    "\n",
    "Note:\n",
    "\n",
    "You have to rotate the image in-place, which means you have to modify the input 2D matrix directly. DO NOT allocate another 2D matrix and do the rotation.\n",
    "\n",
    "Example 1:\n",
    "\n",
    "Given input matrix = \n",
    "[\n",
    "  [1,2,3],\n",
    "  [4,5,6],\n",
    "  [7,8,9]\n",
    "],\n",
    "\n",
    "rotate the input matrix in-place such that it becomes:\n",
    "[\n",
    "  [7,4,1],\n",
    "  [8,5,2],\n",
    "  [9,6,3]\n",
    "]\n",
    "\n",
    "```"
   ]
  },
  {
   "cell_type": "code",
   "execution_count": null,
   "metadata": {},
   "outputs": [],
   "source": []
  },
  {
   "cell_type": "code",
   "execution_count": 76,
   "metadata": {},
   "outputs": [
    {
     "data": {
      "text/plain": [
       "[(7, 4, 1), (8, 5, 2), (9, 6, 3)]"
      ]
     },
     "execution_count": 76,
     "metadata": {},
     "output_type": "execute_result"
    }
   ],
   "source": [
    "A = [\n",
    "  [1,2,3],\n",
    "  [4,5,6],\n",
    "  [7,8,9]\n",
    "]\n",
    "\n",
    "A[:] = zip(*A[::-1])\n",
    "A"
   ]
  },
  {
   "cell_type": "markdown",
   "metadata": {},
   "source": [
    "### [ ] H_Climbing the Leaderboard"
   ]
  },
  {
   "cell_type": "code",
   "execution_count": 27,
   "metadata": {},
   "outputs": [],
   "source": [
    "def climbingLeaderboard(scores, alice):\n",
    "    \n",
    "    res = []\n",
    "\n",
    "    \n",
    "    distinct_scores = list(dict.fromkeys(scores))\n",
    "    distinct_scores.sort(reverse=True)\n",
    "    \n",
    "    ns = len(distinct_scores)\n",
    "    na = len(alice)\n",
    "    \n",
    "    for i in range(na):\n",
    "        for j in range(ns):\n",
    "            if alice[i] >= distinct_scores[j]:\n",
    "                res.append(j+1)\n",
    "                break\n",
    "        if j == ns-1 and alice[i] < distinct_scores[j]:\n",
    "            res.append(j+2)\n",
    "    return res\n"
   ]
  },
  {
   "cell_type": "code",
   "execution_count": 28,
   "metadata": {},
   "outputs": [
    {
     "data": {
      "text/plain": [
       "[100, 90, 80, 75, 60]"
      ]
     },
     "execution_count": 28,
     "metadata": {},
     "output_type": "execute_result"
    }
   ],
   "source": [
    "scores = [100,90,90,80,75,60]\n",
    "distinct_scores = list(dict.fromkeys(scores))\n",
    "distinct_scores"
   ]
  },
  {
   "cell_type": "code",
   "execution_count": 29,
   "metadata": {},
   "outputs": [
    {
     "name": "stdout",
     "output_type": "stream",
     "text": [
      "[6, 5, 4, 2, 1]\n"
     ]
    }
   ],
   "source": [
    "if __name__ == '__main__':\n",
    "    scores = [100,90,90,80,75,60]\n",
    "    \n",
    "    # expect[6,5,4,2,1]\n",
    "    alice = [50,65,77,90,102]\n",
    "    ans = climbingLeaderboard(scores,alice)\n",
    "    print(ans)"
   ]
  },
  {
   "cell_type": "markdown",
   "metadata": {},
   "source": [
    "### H_Forming a Magic Square\n",
    "- distinct positive integers\n",
    "- sum to same number"
   ]
  },
  {
   "cell_type": "code",
   "execution_count": 12,
   "metadata": {},
   "outputs": [
    {
     "name": "stdout",
     "output_type": "stream",
     "text": [
      "[31, 39, 1, 17, 27, 37, 11, 29]\n",
      "1\n"
     ]
    }
   ],
   "source": [
    "#!/bin/python3\n",
    "\n",
    "import math\n",
    "import os\n",
    "import random\n",
    "import re\n",
    "import sys\n",
    "\n",
    "# Complete the formingMagicSquare function below.\n",
    "def formingMagicSquare(s):\n",
    "\n",
    "    pre = [\n",
    "            [[8, 1, 6], [3, 5, 7], [4, 9, 2]],\n",
    "            [[6, 1, 8], [7, 5, 3], [2, 9, 4]],\n",
    "            [[4, 9, 2], [3, 5, 7], [8, 1, 6]],\n",
    "            [[2, 9, 4], [7, 5, 3], [6, 1, 8]], \n",
    "            [[8, 3, 4], [1, 5, 9], [6, 7, 2]],\n",
    "            [[4, 3, 8], [9, 5, 1], [2, 7, 6]], \n",
    "            [[6, 7, 2], [1, 5, 9], [8, 3, 4]], \n",
    "            [[2, 7, 6], [9, 5, 1], [4, 3, 8]],\n",
    "            ]\n",
    "    \n",
    "    \n",
    "    \n",
    "    totals = []\n",
    "    for p in pre:        \n",
    "        total = 0\n",
    "        for p_row, s_row in zip(p,s):\n",
    "            for i,j in zip(p_row,s_row):\n",
    "                if i != j :\n",
    "                    total += abs(i-j)\n",
    "        totals.append(total)    \n",
    "    print(totals)\n",
    "    return min(totals)\n",
    "                \n",
    "      \n",
    "if __name__ == '__main__':\n",
    "\n",
    "\n",
    "    s = [[4,9,2], [3,5,7],[8,1,5]]\n",
    "    ans = formingMagicSquare(s)\n",
    "    print(ans)\n"
   ]
  },
  {
   "cell_type": "markdown",
   "metadata": {},
   "source": [
    "### H1_W2 Counting Valleys\n",
    "- Given Gary's sequence of up and down steps during his last hike, find and print the number of valleys he walked through."
   ]
  },
  {
   "cell_type": "code",
   "execution_count": null,
   "metadata": {},
   "outputs": [],
   "source": [
    "def countingValleys(n, s):\n",
    "    \n",
    "   \n",
    "    li_s = list(s)\n",
    "    ans, sea_level = 0 ,0\n",
    "    for i in range(0,len(li_s)):\n",
    "        if li_s[i] == 'U':\n",
    "            sea_level += 1\n",
    "        elif li_s[i] == 'D':\n",
    "            sea_level -= 1\n",
    "        \n",
    "        #print(sea_level)\n",
    "        if sea_level == 0 and li_s[i] == 'U':\n",
    "            print('ans:',i)\n",
    "            ans += 1\n",
    "    return ans"
   ]
  },
  {
   "cell_type": "code",
   "execution_count": null,
   "metadata": {},
   "outputs": [],
   "source": [
    "s = list('UDDDUDUU')\n",
    "n = len(s)\n",
    "ans = countingValleys(n,s)\n",
    "ans"
   ]
  },
  {
   "cell_type": "code",
   "execution_count": null,
   "metadata": {},
   "outputs": [],
   "source": [
    "list(range(1,4))"
   ]
  },
  {
   "cell_type": "markdown",
   "metadata": {},
   "source": [
    "### Hwarm_Jumping on the Clouds\n",
    "> greedy\n",
    "- avoid the thunderheads(1), and jumup on the cumulus(0), the step range[1,2]\n"
   ]
  },
  {
   "cell_type": "code",
   "execution_count": null,
   "metadata": {},
   "outputs": [],
   "source": [
    "def jumpingOnClouds(c):\n",
    "    lenth = len(c)\n",
    "    i,ans = 0,0\n",
    "    while i< lenth-1:\n",
    "        if c[i] == 0:\n",
    "            if i< lenth-2 and c[i+2] == 0:\n",
    "                i+=2\n",
    "            else:\n",
    "                i+=1\n",
    "        elif c[i] == 1:\n",
    "            i+= 1            \n",
    "        ans += 1\n",
    "    return ans"
   ]
  },
  {
   "cell_type": "code",
   "execution_count": null,
   "metadata": {},
   "outputs": [],
   "source": [
    "c = [0,0,1,0,0,1,0]\n",
    "c1 = [1,0,0,1,0,1]\n",
    "c2 = [0,0,1,0,0,1,0,0]\n",
    "c3 = [0,0,0,1,0,0]\n",
    "ans  = jumpingOnClouds(c1)\n",
    "ans"
   ]
  },
  {
   "cell_type": "markdown",
   "metadata": {},
   "source": [
    "### H_Array_New Year Chaos"
   ]
  },
  {
   "cell_type": "code",
   "execution_count": null,
   "metadata": {},
   "outputs": [],
   "source": [
    "def minimumBribes(q):\n",
    "#     #lenth = len(q)\n",
    "#     ans = 0\n",
    "\n",
    "    # start from the end, so we can caluculate\n",
    "#     for i in range(len(q)-1): \n",
    "        # the initial correct position is i+1 \n",
    "        # Don't need abs, since a small number maybe move to behind.\n",
    "#         if abs(q[i]-(i+1)) > 2:\n",
    "#             print('Too chaotic')\n",
    "#             return\n",
    "#     for i in range(len(q)-1,-1,-1):\n",
    "#         if (q[i] - (i+1)) >2:\n",
    "#             print('Too chaotic',q[i])\n",
    "#             return\n",
    "        \n",
    "#         # j is truncated the negative number to 0, why q[i]-2\n",
    "#         j = max(0,q[i] - 2)\n",
    "\n",
    "#         while j < i:\n",
    "#             if q[j] > q[i]:\n",
    "#                 print(i,j)\n",
    "#                 ans += 1\n",
    "#             j +=1\n",
    "#             print(\"ans\",ans,\"j\",j,\"i\",i)\n",
    "\n",
    "#     print(ans)\n",
    "#     return\n",
    "\n",
    "\n",
    "    n = int(input())\n",
    "    a = list(map(int, input().split()))\n",
    "\n",
    "    if n <= 1:\n",
    "        return 0\n",
    "    if n == 2:\n",
    "        return int(a[-2] > a[-1])\n",
    "\n",
    "    answer = 0\n",
    "\n",
    "    for i in range(n):\n",
    "        if a[i] - (i + 1) > 2:\n",
    "            return \"Too chaotic\"\n",
    "        for j in range(max(0, a[i] - 2), i):\n",
    "            answer += a[j] > a[i]\n",
    "\n",
    "    return answer"
   ]
  },
  {
   "cell_type": "code",
   "execution_count": null,
   "metadata": {},
   "outputs": [],
   "source": [
    "nums1 = [2,1,5,3,4]\n",
    "nums2 = [2,5,1,3,4]\n",
    "nums3 = [1,2,5,3,7,8,6,4]\n",
    "nums4 = [5,1,2,3,7,8,6,4]\n",
    "ans = minimumBribes(nums4)\n",
    "ans"
   ]
  },
  {
   "cell_type": "code",
   "execution_count": null,
   "metadata": {},
   "outputs": [],
   "source": [
    "list(range(6,2))"
   ]
  },
  {
   "cell_type": "markdown",
   "metadata": {},
   "source": [
    "### H_ARRAY_Minimum Swaps 2\n",
    "> https://codereview.stackexchange.com/questions/172060/finding-the-minimum-number-of-swaps-to-sort-a-list"
   ]
  },
  {
   "cell_type": "code",
   "execution_count": null,
   "metadata": {},
   "outputs": [],
   "source": [
    "arr = list(map(int, input().rstrip().split()))"
   ]
  },
  {
   "cell_type": "code",
   "execution_count": null,
   "metadata": {},
   "outputs": [],
   "source": [
    "2 31 1 38 29 5 44 6 12 18 39 9 48 49 13 11 7 27 14 33 50 21 46 23 15 26 8 47 40 3 32 22 34 42 16 41 24 10 4 28 36 30 37 35 20 17 45 43 25 19"
   ]
  },
  {
   "cell_type": "code",
   "execution_count": null,
   "metadata": {},
   "outputs": [],
   "source": [
    "def minimumSwaps1(arr):\n",
    "    ref_arr = sorted(arr)\n",
    "    index_dict = {v: i for i,v in enumerate(arr)}\n",
    "    swaps = 0\n",
    "    \n",
    "    for i,v in enumerate(arr):\n",
    "        correct_value = ref_arr[i]\n",
    "        if v != correct_value:\n",
    "            to_swap_ix = index_dict[correct_value]\n",
    "            arr[to_swap_ix],arr[i] = arr[i], arr[to_swap_ix]\n",
    "            index_dict[v] = to_swap_ix\n",
    "            index_dict[correct_value] = i\n",
    "            swaps += 1\n",
    "        print('swap1:',arr,'ans:',swaps)  \n",
    "    #print('swap1:',arr,'ans:',ans)      \n",
    "    return swaps"
   ]
  },
  {
   "cell_type": "code",
   "execution_count": null,
   "metadata": {},
   "outputs": [],
   "source": [
    "ans1 = minimumSwaps1(nums1)"
   ]
  },
  {
   "cell_type": "code",
   "execution_count": null,
   "metadata": {},
   "outputs": [],
   "source": [
    "# can't understand 2019-9-15 20:16:50\n",
    "# review at 2019-10-17 15:00:48\n",
    "    # assume arr start from 1.\n",
    "def minimumSwaps(arr):\n",
    "    ans = -1\n",
    "    for i in range(len(arr)):\n",
    "        print('i=',i)\n",
    "        if arr[i] == i+1:\n",
    "            continue\n",
    "        print(arr[i])\n",
    "        # indicat that arr[i] is the wrong number and should be placed in arr[i]-1,so \n",
    "        # not just exchange arr[i] and arr[arr[i]-1]\n",
    "        arr[i], arr[arr[i]-1] = arr[arr[i]-1], arr[i] \n",
    "        ans+=1\n",
    "        #i-=1 # this not work\n",
    "        print('swap:',arr,'ans:',ans,'i:',i)\n",
    "    #print('swap:',arr,'ans:',ans)\n",
    "    return ans"
   ]
  },
  {
   "cell_type": "code",
   "execution_count": null,
   "metadata": {},
   "outputs": [],
   "source": [
    "nums1 = [7, 1, 3, 2, 4, 5, 6]\n",
    "nums2 = [4,3,2,1]\n",
    "ans = minimumSwaps(nums1)\n",
    "#ans1 = minimumSwaps1(nums1)"
   ]
  },
  {
   "cell_type": "markdown",
   "metadata": {},
   "source": [
    "### 80. Remove Duplicates from Sorted Array II\n",
    "\n",
    "Given a sorted array nums, remove the duplicates in-place such that duplicates appeared at most twice and return the new length.\n",
    "\n",
    "Do not allocate extra space for another array, you must do this by modifying the input array in-place with O(1) extra memory.\n",
    "\n",
    "Example 1:\n",
    "\n",
    "Given nums = [1,1,1,2,2,3],\n",
    "\n",
    "Your function should return length = 5, with the first five elements of nums being 1, 1, 2, 2 and 3 respectively.\n",
    "\n",
    "It doesn't matter what you leave beyond the returned length.\n",
    "Example 2:\n",
    "\n",
    "Given nums = [0,0,1,1,1,1,2,3,3],\n",
    "\n",
    "Your function should return length = 7, with the first seven elements of nums being modified to 0, 0, 1, 1, 2, 3 and 3 respectively.\n",
    "\n",
    "It doesn't matter what values are set beyond the returned length."
   ]
  },
  {
   "cell_type": "code",
   "execution_count": null,
   "metadata": {},
   "outputs": [],
   "source": [
    "# sorted array\n",
    "# in-place\n",
    "\n",
    "def remove_duplicate(nums):\n",
    "    i = 0\n",
    "    # c1: i = 0, nums[0] = 0,i=1\n",
    "    # c2: i=1: nums[1] = 0, i=2\n",
    "    # c3: i=2: nums[2] = 1, i=3\n",
    "    # c4: i = 3: num[3] = 1,i=4\n",
    "    # c5: i= 4, value=1,nums[2] = 1,pass\n",
    "    # c6: i = 4, value = 1,\n",
    "    for value in nums:\n",
    "        \n",
    "        # because value appeared at most twice, so i-2\n",
    "        # a little not meet with the demand of the question. \n",
    "        if i < 2 or value > nums[i-2]:\n",
    "            nums[i] = value\n",
    "            i +=  1\n",
    "    return i"
   ]
  },
  {
   "cell_type": "code",
   "execution_count": null,
   "metadata": {},
   "outputs": [],
   "source": [
    "nums = [0,0,1,1,1,1,2,3,3]\n",
    "ans = remove_duplicate(nums)\n",
    "ans"
   ]
  },
  {
   "cell_type": "markdown",
   "metadata": {},
   "source": [
    "### 277. Find the Celebrity\n",
    "\n",
    "> array, medi\n",
    "\n",
    "> TODO\n",
    "\n",
    "Suppose you are at a party with n people (labeled from 0 to n - 1) and among them, there may exist one celebrity. The definition of a celebrity is that all the other n - 1 people know him/her but he/she does not know any of them.\n",
    "\n",
    "Now you want to find out who the celebrity is or verify that there is not one. The only thing you are allowed to do is to ask questions like: \"Hi, A. Do you know B?\" to get information of whether A knows B. You need to find out the celebrity (or verify there is not one) by asking as few questions as possible (in the asymptotic sense).\n",
    "\n",
    "You are given a helper function bool knows(a, b) which tells you whether A knows B. Implement a function int findCelebrity(n), your function should minimize the number of calls to knows.\n",
    "\n",
    "Note: There will be exactly one celebrity if he/she is in the party. Return the celebrity's label if there is a celebrity in the party. If there is no celebrity, return -1."
   ]
  },
  {
   "cell_type": "markdown",
   "metadata": {},
   "source": [
    "### 442. Find All Duplicates in an Array\n",
    "\n",
    "> array, medium\n",
    "\n",
    "> interesting problem\n",
    "\n",
    "Given an array of integers, 1 ≤ a[i] ≤ n (n = size of array), some elements appear twice and others appear once.\n",
    "\n",
    "Find all the elements that appear twice in this array.\n",
    "\n",
    "Could you do it without extra space and in O(n) runtime?\n",
    "\n",
    "Example:\n",
    "Input:\n",
    "[4,3,2,7,8,2,3,1]\n",
    "\n",
    "Output:\n",
    "[2,3]"
   ]
  },
  {
   "cell_type": "code",
   "execution_count": null,
   "metadata": {},
   "outputs": [],
   "source": [
    "def find_duplicate(nums):\n",
    "    out = []\n",
    "    \n",
    "    # if the value of an item == the order of item (1=<a[i]<= n), then this value contain 2 aspect information:\n",
    "    # value & order\n",
    "    # in this problem, store the duplicate information to the symbol of the item which \n",
    "    # its order is equal to value of item current in loop.\n",
    "    \n",
    "    for value in nums:\n",
    "        if nums[abs(value) - 1] < 0:\n",
    "                out.append(value)\n",
    "        else:\n",
    "            nums[abs(value)- 1] *= -1\n",
    "    return out"
   ]
  },
  {
   "cell_type": "code",
   "execution_count": null,
   "metadata": {},
   "outputs": [],
   "source": [
    "nums = [1,2,1,2,3,4,5,4]\n",
    "ans = find_duplicate(nums)\n",
    "ans"
   ]
  },
  {
   "cell_type": "markdown",
   "metadata": {},
   "source": [
    "### 238. Product of Array Except Self\n",
    "\n",
    "> 2019-1-3 10:12:03\n",
    "\n",
    "> medi, array, left and right.\n",
    "\n",
    "\n",
    "Given an array nums of n integers where n > 1,  return an array output such that output[i] is equal to the product of all the elements of nums except nums[i].\n",
    "\n",
    "Example:\n",
    "\n",
    "Input:  [1,2,3,4]\n",
    "Output: [24,12,8,6]\n",
    "Note: Please solve it without division and in O(n).\n",
    "\n",
    "Follow up:\n",
    "Could you solve it with constant space complexity? (The output array does not count as extra space for the purpose of space complexity analysis.)"
   ]
  },
  {
   "cell_type": "code",
   "execution_count": null,
   "metadata": {},
   "outputs": [],
   "source": [
    "def productExceptSelf(nums):\n",
    "    \"\"\"\n",
    "    :type nums: List[int]\n",
    "    :rtype: List[int]\n",
    "    \"\"\"\n",
    "    length = len(nums)\n",
    "    left = 1\n",
    "    ans = [1]*length\n",
    "    \n",
    "    # assume there is a [1] item on the left and right sides. not influte the result.\n",
    "    # S1: create a same lenth list wiht all item is one[1,1,1,...]\n",
    "    # S2: compute the left multiply\n",
    "    # S3: compute the right multipy\n",
    "    for i in range(length):\n",
    "        ans[i] = ans[i]*left\n",
    "        left = left*nums[i]\n",
    "    \n",
    "    right = 1\n",
    "    for i in range(length-1,-1,-1):\n",
    "        ans[i] = ans[i]*right\n",
    "        right = right*nums[i]\n",
    "    \n",
    "    return ans"
   ]
  },
  {
   "cell_type": "code",
   "execution_count": null,
   "metadata": {},
   "outputs": [],
   "source": [
    "nums = [1,2,3,4]\n",
    "ans = productExceptSelf(nums)\n",
    "ans"
   ]
  },
  {
   "cell_type": "markdown",
   "metadata": {},
   "source": [
    "### 495. Teemo Attacking\n",
    "> 2019-1-3 11:42:40\n",
    " \n",
    "> medi, array, \n",
    "\n",
    "\n",
    "In LOL world, there is a hero called Teemo and his attacking can make his enemy Ashe be in poisoned condition. Now, given the Teemo's attacking ascending time series towards Ashe and the poisoning time duration per Teemo's attacking, you need to output the total time that Ashe is in poisoned condition.\n",
    "\n",
    "You may assume that Teemo attacks at the very beginning of a specific time point, and makes Ashe be in poisoned condition immediately.\n",
    "\n",
    "Example 1:\n",
    "Input: [1,4], 2\n",
    "Output: 4\n",
    "Explanation: At time point 1, Teemo starts attacking Ashe and makes Ashe be poisoned immediately. \n",
    "This poisoned status will last 2 seconds until the end of time point 2. \n",
    "And at time point 4, Teemo attacks Ashe again, and causes Ashe to be in poisoned status for another 2 seconds. \n",
    "So you finally need to output 4.\n",
    "Example 2:\n",
    "Input: [1,2], 2\n",
    "Output: 3\n",
    "Explanation: At time point 1, Teemo starts attacking Ashe and makes Ashe be poisoned. \n",
    "This poisoned status will last 2 seconds until the end of time point 2. \n",
    "However, at the beginning of time point 2, Teemo attacks Ashe again who is already in poisoned status. \n",
    "Since the poisoned status won't add up together, though the second poisoning attack will still work at time point 2, it will stop at the end of time point 3. \n",
    "So you finally need to output 3.\n",
    "Note:\n",
    "You may assume the length of given time series array won't exceed 10000.\n",
    "You may assume the numbers in the Teemo's attacking time series and his poisoning time duration per attacking are non-negative integers, which won't exceed 10,000,000."
   ]
  },
  {
   "cell_type": "code",
   "execution_count": null,
   "metadata": {},
   "outputs": [],
   "source": [
    "def findPoisonedDuration(timeSeries, duration):\n",
    "\n",
    "    \"\"\"\n",
    "    :type timeSeries: List[int]\n",
    "    :type duration: int\n",
    "    :rtype: int\n",
    "    \"\"\"\n",
    "    # M1 for the diff between two time point, so add an inf item.\n",
    "#     poisoned = 0\n",
    "#     timeSeries.append(float('inf'))\n",
    "#     for i in range(len(timeSeries)-1):\n",
    "#         if timeSeries[i] + duration <= timeSeries[i+1]:\n",
    "#             poisoned += duration\n",
    "#         else:\n",
    "#             poisoned += timeSeries[i+1] - timeSeries[i]\n",
    "    \n",
    "#     return poisoned\n",
    "    \n",
    "    # M2 start for the index 1 item.\n",
    "    poisoned = 0\n",
    "    for i in range(1,len(timeSeries)):\n",
    "        diff = timeSeries[i] - timeSeries[i-1]\n",
    "        if duration <= diff:\n",
    "            poisoned +=duration\n",
    "        else:\n",
    "            poisoned += diff\n",
    "    \n",
    "    poisoned += duration\n",
    "    return poisoned"
   ]
  },
  {
   "cell_type": "code",
   "execution_count": null,
   "metadata": {},
   "outputs": [],
   "source": [
    "timeSeries = [1,3,5,6]\n",
    "duration = 2\n",
    "poisoned = findPoisonedDuration(timeSeries,duration)\n",
    "poisoned"
   ]
  },
  {
   "cell_type": "markdown",
   "metadata": {},
   "source": [
    "### 565. Array Nesting\n",
    "> 2019-1-4 11:57:49\n",
    "\n",
    "> array,middle, while loop and two variable by turns for iterator\n",
    "\n",
    "> extra same length list for indicator\n",
    "\n",
    "A zero-indexed array A of length N contains all integers from 0 to N-1. Find and return the longest length of set S, where S[i] = {A[i], A[A[i]], A[A[A[i]]], ... } subjected to the rule below.\n",
    "\n",
    "Suppose the first element in S starts with the selection of element A[i] of index = i, the next element in S should be A[A[i]], and then A[A[A[i]]]… By that analogy, we stop adding right before a duplicate element occurs in S.\n",
    "\n",
    " \n",
    "\n",
    "Example 1:\n",
    "\n",
    "Input: A = [5,4,0,3,1,6,2]\n",
    "Output: 4\n",
    "Explanation: \n",
    "A[0] = 5, A[1] = 4, A[2] = 0, A[3] = 3, A[4] = 1, A[5] = 6, A[6] = 2.\n",
    "\n",
    "One of the longest S[K]:\n",
    "S[0] = {A[0], A[5], A[6], A[2]} = {5, 6, 2, 0}\n",
    " \n",
    "\n",
    "Note:\n",
    "\n",
    "N is an integer within the range [1, 20,000].\n",
    "The elements of A are all distinct.\n",
    "Each element of A is an integer within the range [0, N-1]"
   ]
  },
  {
   "cell_type": "code",
   "execution_count": null,
   "metadata": {},
   "outputs": [],
   "source": [
    "def arrayNesting(nums):\n",
    "    \"\"\"\n",
    "    :type nums: List[int]\n",
    "    :rtype: int\n",
    "    \"\"\"\n",
    "    \n",
    "    seen = [0]*len(nums)\n",
    "    res = 0\n",
    "    for i in range(len(nums)):\n",
    "        # S maybe start from everypoint, but can not use same item, so one item was checked, just ignored.\n",
    "        if seen[i] != -1:\n",
    "            j = i\n",
    "            count = 0\n",
    "            \n",
    "            while seen[j] != -1:                \n",
    "                # since the integers are from 0 to N-1, is equal the index range,\n",
    "                # so be sure that every index is in the nums\n",
    "                #  \n",
    "                count += 1\n",
    "                seen[j] = -1\n",
    "                j = nums[j]\n",
    "            res = max(res, count)\n",
    "    \n",
    "    return res                \n"
   ]
  },
  {
   "cell_type": "code",
   "execution_count": null,
   "metadata": {},
   "outputs": [],
   "source": [
    "nums = [5,4,0,3,1,6,2]\n",
    "ans = arrayNesting(nums)\n",
    "ans"
   ]
  },
  {
   "cell_type": "markdown",
   "metadata": {},
   "source": [
    "### 667. Beautiful Arrangement II\n",
    "\n",
    "> 2019-1-4 09:12:44\n",
    "\n",
    "> array, middle, conditional expression.\n",
    "\n",
    "> where is \"arrangement I\"?\n",
    "\n",
    "Given two integers n and k, you need to construct a list which contains n different positive integers ranging from 1 to n and obeys the following requirement: \n",
    "Suppose this list is [a1, a2, a3, ... , an], then the list [|a1 - a2|, |a2 - a3|, |a3 - a4|, ... , |an-1 - an|] has exactly k distinct integers.\n",
    "\n",
    "If there are multiple answers, print any of them.\n",
    "\n",
    "Example 1:\n",
    "Input: n = 3, k = 1\n",
    "Output: [1, 2, 3]\n",
    "Explanation: The [1, 2, 3] has three different positive integers ranging from 1 to 3, and the [1, 1] has exactly 1 distinct integer: 1.\n",
    "Example 2:\n",
    "Input: n = 3, k = 2\n",
    "Output: [1, 3, 2]\n",
    "Explanation: The [1, 3, 2] has three different positive integers ranging from 1 to 3, and the [2, 1] has exactly 2 distinct integers: 1 and 2.\n",
    "Note:\n",
    "The n and k are in the range 1 <= k < n <= 10^4.\n"
   ]
  },
  {
   "cell_type": "code",
   "execution_count": null,
   "metadata": {},
   "outputs": [],
   "source": [
    "def constructArray(n, k):\n",
    "    \"\"\"\n",
    "    :type n: int\n",
    "    :type k: int\n",
    "    :rtype: List[int]\n",
    "    \"\"\"\n",
    "\n",
    "    if n <= k:\n",
    "        return []\n",
    "\n",
    "    res = []\n",
    "    head, tail = 1, n\n",
    "\n",
    "\n",
    "    for i in range(n):\n",
    "        if i < k-1:\n",
    "            if i % 2 == 0:\n",
    "                res.append(head)\n",
    "                head +=1\n",
    "            else:\n",
    "                res.append(tail)\n",
    "                tail -=1           \n",
    "        else:                \n",
    "            res.extend(list(range(head,tail+1) if k % 2 == 1 else range(tail,head-1,-1)))\n",
    "\n",
    "            return res\n",
    "    \n",
    "    \n",
    "\n",
    "# M2 : \n",
    "#     for i in range(n):\n",
    "#         if i < k-1:\n",
    "#             if i % 2 == 0:\n",
    "#                 res.append(head)\n",
    "#                 head +=1\n",
    "#             else:\n",
    "#                 res.append(tail)\n",
    "#                 tail -=1           \n",
    "#         else:\n",
    "#             if k % 2 == 1:\n",
    "#                 res.extend(list(range(head,tail+1)))\n",
    "#             else:\n",
    "#                 res.extend(list(range(tail,head-1,-1)))\n",
    "            \n",
    "#             return res\n",
    "\n",
    "                           \n",
    "#  M1: \n",
    "#     for i in range(n):\n",
    "#         # first k-1 integers need generated, the remain just in order according k is odd or even.\n",
    "#         if k % 2 == 1:  \n",
    "#             if i < k:\n",
    "#                 if i % 2 == 0:\n",
    "#                     res.append(head)\n",
    "#                     head +=1\n",
    "#                 else:\n",
    "#                     res.append(tail)\n",
    "#                     tail -=1\n",
    "#             else:\n",
    "#                 res.append(head)\n",
    "#                 head += 1\n",
    "        \n",
    "#         else:\n",
    "#             if i < k:\n",
    "#                 if i % 2 == 0:\n",
    "#                     res.append(head)\n",
    "#                     head +=1\n",
    "#                 else:\n",
    "#                     res.append(tail)\n",
    "#                     tail -=1\n",
    "#             else:\n",
    "#                 res.append(tail)\n",
    "#                 tail -= 1\n",
    "        \n",
    "#     return res\n",
    "    "
   ]
  },
  {
   "cell_type": "code",
   "execution_count": null,
   "metadata": {},
   "outputs": [],
   "source": [
    "n=9\n",
    "k=4\n",
    "res = constructArray(n,k)\n",
    "res"
   ]
  },
  {
   "cell_type": "markdown",
   "metadata": {},
   "source": [
    "### 695. Max Area of Island\n",
    "> 2019-1-2 10:16:55\n",
    "\n",
    "\n",
    "> mid, array, FloodFill \n",
    "\n",
    "Given a non-empty 2D array grid of 0's and 1's, an island is a group of 1's (representing land) connected 4-directionally (horizontal or vertical.) You may assume all four edges of the grid are surrounded by water.\n",
    "\n",
    "Find the maximum area of an island in the given 2D array. (If there is no island, the maximum area is 0.)\n",
    "\n",
    "Example 1:\n",
    "\n",
    "[[0,0,1,0,0,0,0,1,0,0,0,0,0],\n",
    " [0,0,0,0,0,0,0,1,1,1,0,0,0],\n",
    " [0,1,1,0,1,0,0,0,0,0,0,0,0],\n",
    " [0,1,0,0,1,1,0,0,1,0,1,0,0],\n",
    " [0,1,0,0,1,1,0,0,1,1,1,0,0],\n",
    " [0,0,0,0,0,0,0,0,0,0,1,0,0],\n",
    " [0,0,0,0,0,0,0,1,1,1,0,0,0],\n",
    " [0,0,0,0,0,0,0,1,1,0,0,0,0]]\n",
    "Given the above grid, return 6. Note the answer is not 11, because the island must be connected 4-directionally.\n",
    "Example 2:\n",
    "\n",
    "[[0,0,0,0,0,0,0,0]]\n",
    "Given the above grid, return 0.\n",
    "Note: The length of each dimension in the given grid does not exceed 50."
   ]
  },
  {
   "cell_type": "code",
   "execution_count": null,
   "metadata": {},
   "outputs": [],
   "source": [
    "from collections import deque\n",
    "\n",
    "def get_area(grid,x,y):\n",
    "    \"\"\"\n",
    "    x for row, first index of array\n",
    "    y for column, second index of array\n",
    "    \"\"\"\n",
    "    \n",
    "    \n",
    "    dx_option = [0,1,0,-1]\n",
    "    dy_option = [-1,0,1,0]\n",
    "    \n",
    "    # attention: after initial the queue, don't forget submerge the first item.\n",
    "    # here can be optimize\n",
    "    \n",
    "    if grid[x][y]:\n",
    "        queue = [(x,y)]    \n",
    "        grid[x][y]=0\n",
    "    else:\n",
    "        queue = []\n",
    "    \n",
    "    area = 0\n",
    "    while queue:\n",
    "        area +=1\n",
    "        x,y = queue.pop(0)\n",
    "        for dx, dy in zip(dx_option,dy_option):\n",
    "            if (0 <= x+dx <= len(grid)-1) and (0 <= y+dy <= len(grid[0])-1):\n",
    "                if grid[x+dx][y+dy]:\n",
    "                    queue.append((x+dx,y+dy))\n",
    "                    grid[x+dx][y+dy] = 0\n",
    "    return area\n",
    "\n",
    "def max_area_island(grid):\n",
    "\n",
    "    max_area = 0\n",
    "    for i in range(len(grid)):\n",
    "        for j in range(len(grid[0])):\n",
    "            max_area = max(max_area,get_area(grid,i,j))\n",
    "    return max_area\n",
    "    \n",
    "    "
   ]
  },
  {
   "cell_type": "code",
   "execution_count": null,
   "metadata": {},
   "outputs": [],
   "source": [
    "# M2 recursion\n",
    "# Flood\n",
    "def maxAreaOfIsland(grid):\n",
    "    \"\"\"\n",
    "    :type grid: List[List[int]]\n",
    "    :rtype: int\n",
    "    https://leetcode.com/problems/max-area-of-island/discuss/108541/easy-python\n",
    "\n",
    "    \"\"\"\n",
    "    m, n = len(grid), len(grid[0])\n",
    "\n",
    "    def dfs(i, j):\n",
    "        if 0 <= i < m and 0 <= j < n and grid[i][j]:\n",
    "            grid[i][j] = 0\n",
    "            return 1 + dfs(i - 1, j) + dfs(i, j + 1) + dfs(i + 1, j) + dfs(i, j - 1)\n",
    "        return 0\n",
    "\n",
    "    areas = [dfs(i, j) for i in range(m) for j in range(n) if grid[i][j]]\n",
    "    return max(areas) if areas else 0\n",
    "        "
   ]
  },
  {
   "cell_type": "code",
   "execution_count": null,
   "metadata": {},
   "outputs": [],
   "source": [
    "tmp1=[[0,0,1,0,0,0,0,1,0,0,0,0,0],\n",
    " [0,0,0,0,0,0,0,1,1,1,0,0,0],\n",
    " [0,1,1,0,1,0,0,0,0,0,0,0,0],\n",
    " [0,1,0,0,1,1,0,0,1,0,1,0,0],\n",
    " [0,1,0,0,1,1,0,0,1,1,1,0,0],\n",
    " [0,0,0,0,0,0,0,0,0,0,1,0,0],\n",
    " [0,0,0,0,0,0,0,1,1,1,0,0,0],\n",
    " [0,0,0,0,0,0,0,1,1,0,0,0,0]]\n",
    "\n",
    "tmp3=[[0,0,1,0,0,0,0,1,0,0,0,0,0],\n",
    " [0,0,0,0,0,0,0,1,1,1,0,0,0],\n",
    " [0,1,1,0,1,0,0,0,0,0,0,0,0],\n",
    " [0,1,0,0,1,1,0,0,1,0,1,0,0],\n",
    " [0,1,0,0,1,1,0,0,1,1,1,0,0],\n",
    " [0,0,0,0,0,0,0,0,0,0,1,0,0],\n",
    " [0,0,0,0,0,0,0,1,1,1,0,0,0],\n",
    " [0,0,0,0,0,0,0,1,1,0,0,0,0]]\n",
    "\n",
    "tmp2 = [[0,0,1],\n",
    "       [0,0,1]]\n",
    "\n",
    "tmp4 = [[0,0,1],\n",
    "       [0,0,1]]\n",
    "\n",
    "ans1 = max_area_island(tmp1)\n",
    "ans3 = maxAreaOfIsland(tmp3)\n",
    "ans2 = max_area_island(tmp2)\n",
    "ans4 = maxAreaOfIsland(tmp4)\n",
    "\n",
    "print(ans1,ans3,ans2,ans4)"
   ]
  },
  {
   "cell_type": "markdown",
   "metadata": {},
   "source": [
    "### 950. Reveal Cards In Increasing Order\n",
    "> 2019-1-1 16:00:36\n",
    "\n",
    "> deque, middle.\n",
    "\n",
    "In a deck of cards, every card has a unique integer.  You can order the deck in any order you want.\n",
    "\n",
    "Initially, all the cards start face down (unrevealed) in one deck.\n",
    "\n",
    "Now, you do the following steps repeatedly, until all cards are revealed:\n",
    "\n",
    "Take the top card of the deck, reveal it, and take it out of the deck.\n",
    "If there are still cards in the deck, put the next top card of the deck at the bottom of the deck.\n",
    "If there are still unrevealed cards, go back to step 1.  Otherwise, stop.\n",
    "Return an ordering of the deck that would reveal the cards in increasing order.\n",
    "\n",
    "The first entry in the answer is considered to be the top of the deck.\n",
    "\n",
    "Example 1:\n",
    "\n",
    "Input: [17,13,11,2,3,5,7]\n",
    "Output: [2,13,3,11,5,17,7]\n",
    "Explanation: \n",
    "We get the deck in the order [17,13,11,2,3,5,7] (this order doesn't matter), and reorder it.\n",
    "After reordering, the deck starts as [2,13,3,11,5,17,7], where 2 is the top of the deck.\n",
    "We reveal 2, and move 13 to the bottom.  The deck is now [3,11,5,17,7,13].\n",
    "We reveal 3, and move 11 to the bottom.  The deck is now [5,17,7,13,11].\n",
    "We reveal 5, and move 17 to the bottom.  The deck is now [7,13,11,17].\n",
    "We reveal 7, and move 13 to the bottom.  The deck is now [11,17,13].\n",
    "We reveal 11, and move 17 to the bottom.  The deck is now [13,17].\n",
    "We reveal 13, and move 17 to the bottom.  The deck is now [17].\n",
    "We reveal 17.\n",
    "Since all the cards revealed are in increasing order, the answer is correct.\n",
    " \n",
    "\n",
    "Note:\n",
    "\n",
    "1 <= A.length <= 1000\n",
    "1 <= A[i] <= 10^6\n",
    "A[i] != A[j] for all i != j"
   ]
  },
  {
   "cell_type": "code",
   "execution_count": null,
   "metadata": {},
   "outputs": [],
   "source": [
    "from collections import deque\n",
    "\n",
    "def cards_increase_order(deck):\n",
    "    \n",
    "# M1 simulate the reveal process, record the index, get corresponding value of the ordered index.\n",
    "\n",
    "    length = len(deck)\n",
    "\n",
    "    if length == 1:\n",
    "        return deck\n",
    "    \n",
    "    # list for store index of every card\n",
    "    rank = deque([i for i in range(length)])\n",
    "    res = []\n",
    "    while rank:\n",
    "        res.append(rank.popleft())\n",
    "        if rank:\n",
    "            rank.append(rank.popleft())\n",
    "\n",
    "    sorted_deck = sorted(deck)\n",
    "    return [ele[0] for ele in sorted(list(zip(sorted_deck, res)), key=lambda x:x[1])]\n",
    "    \n",
    "\n",
    "# M2, this method can't work since the empty deque.\n",
    "\n",
    "#     res = [None]*length\n",
    "#     for i in range(length):\n",
    "#         print(i)\n",
    "#         res[rank.popleft()] = sorted_nums[i] \n",
    "#         rank.append(rank.popleft())\n",
    "#     return res\n"
   ]
  },
  {
   "cell_type": "code",
   "execution_count": null,
   "metadata": {},
   "outputs": [],
   "source": [
    "nums = [2,3,5,7,11,13,17]\n",
    "result = cards_increase_order(nums)\n",
    "result"
   ]
  },
  {
   "cell_type": "markdown",
   "metadata": {},
   "source": [
    "### 134. Gas Station\n",
    "There are N gas stations along a circular route, where the amount of gas at station i is gas[i].\n",
    "\n",
    "You have a car with an unlimited gas tank and it costs cost[i] of gas to travel from station i to its next station (i+1). You begin the journey with an empty tank at one of the gas stations.\n",
    "\n",
    "Return the starting gas station's index if you can travel around the circuit once in the clockwise direction, otherwise return -1.\n",
    "\n",
    "Note:\n",
    "\n",
    "If there exists a solution, it is guaranteed to be unique.\n",
    "Both input arrays are non-empty and have the same length.\n",
    "Each element in the input arrays is a non-negative integer.\n",
    "\n",
    "Example 1:\n",
    "\n",
    "Input: \n",
    "gas  = [1,2,3,4,5]\n",
    "cost = [3,4,5,1,2]\n",
    "\n",
    "Output: 3\n",
    "\n",
    "Explanation:\n",
    "Start at station 3 (index 3) and fill up with 4 unit of gas. Your tank = 0 + 4 = 4\n",
    "Travel to station 4. Your tank = 4 - 1 + 5 = 8\n",
    "Travel to station 0. Your tank = 8 - 2 + 1 = 7\n",
    "Travel to station 1. Your tank = 7 - 3 + 2 = 6\n",
    "Travel to station 2. Your tank = 6 - 4 + 3 = 5\n",
    "Travel to station 3. The cost is 5. Your gas is just enough to travel back to station 3.\n",
    "Therefore, return 3 as the starting index.\n",
    "\n",
    "Example 2:\n",
    "\n",
    "Input: \n",
    "gas  = [2,3,4]\n",
    "cost = [3,4,3]\n",
    "\n",
    "Output: -1\n",
    "\n",
    "Explanation:\n",
    "You can't start at station 0 or 1, as there is not enough gas to travel to the next station.\n",
    "Let's start at station 2 and fill up with 4 unit of gas. Your tank = 0 + 4 = 4\n",
    "Travel to station 0. Your tank = 4 - 3 + 2 = 3\n",
    "Travel to station 1. Your tank = 3 - 3 + 3 = 3\n",
    "You cannot travel back to station 2, as it requires 4 unit of gas but you only have 3.\n",
    "Therefore, you can't travel around the circuit once no matter where you start."
   ]
  },
  {
   "cell_type": "code",
   "execution_count": null,
   "metadata": {},
   "outputs": [],
   "source": [
    "def canCompleteCircuit(gas, cost):\n",
    "    \"\"\"\n",
    "    :type gas: List[int]\n",
    "    :type cost: List[int]\n",
    "    :rtype: int\n",
    "    \"\"\"\n",
    "    \n",
    "    # Runtime: 36 ms, faster than 99.88%\n",
    "    \n",
    "    # depend on a principle that \n",
    "    # 1. If car starts at A and can not reach B. Any station between A and B can not reach B.(B is the first station that A can not reach.)\n",
    "    # 2. If the total number of gas is bigger than the total number of cost. There must be a solution.\n",
    "    tank, start = 0, 0\n",
    "    for i in range(len(gas)):\n",
    "        tank += gas[i] - cost[i]\n",
    "        if tank < 0:\n",
    "            tank, start = 0, i + 1\n",
    "    return -1 if sum(gas) < sum(cost) else start\n",
    "    "
   ]
  },
  {
   "cell_type": "code",
   "execution_count": null,
   "metadata": {},
   "outputs": [],
   "source": [
    "gas = [1,2,3,4,5]\n",
    "cost = [3,4,5,1,2]\n",
    "ans = canCompleteCircuit(gas,cost)\n",
    "ans"
   ]
  },
  {
   "cell_type": "markdown",
   "metadata": {},
   "source": [
    "### 229. Majority Element II\n",
    "Given an integer array of size n, find all elements that appear more than ⌊ n/3 ⌋ times.\n",
    "\n",
    "Note: The algorithm should run in linear time and in O(1) space.\n",
    "\n",
    "Example 1:\n",
    "\n",
    "Input: [3,2,3]\n",
    "Output: [3]\n",
    "Example 2:\n",
    "\n",
    "Input: [1,1,1,3,3,2,2,2]\n",
    "Output: [1,2]"
   ]
  },
  {
   "cell_type": "code",
   "execution_count": null,
   "metadata": {},
   "outputs": [],
   "source": [
    "from collections import Counter\n",
    "def majorityElement(nums):\n",
    "    \"\"\"\n",
    "    :type nums: List[int]\n",
    "    :rtype: List[int]\n",
    "    \"\"\"\n",
    "    # M1 Runtime: 44 ms, faster than 100.00%\n",
    "#     cnt_most = Counter(nums).most_common()\n",
    "#     print(cnt_most)\n",
    "#     ans = []\n",
    "#     for key, value in cnt_most:\n",
    "#         if value > len(nums) //3:\n",
    "#             ans.append(key)\n",
    "#     return ans\n",
    "    \n",
    "    # M2 \n",
    "    # a fact: the total number of the ans is less equal 2\n",
    "#     count1, count2, cand1, cand2 = 0, 0, 0, 1\n",
    "#     for val in nums:\n",
    "        \n",
    "    "
   ]
  },
  {
   "cell_type": "code",
   "execution_count": null,
   "metadata": {},
   "outputs": [],
   "source": [
    "nums = [1,1,1,3,3,2,2,2]\n",
    "ans = majorityElement(nums)\n",
    "ans"
   ]
  },
  {
   "cell_type": "markdown",
   "metadata": {},
   "source": [
    "### 274. H-Index\n",
    "Given an array of citations (each citation is a non-negative integer) of a researcher, write a function to compute the researcher's h-index.\n",
    "\n",
    "According to the definition of h-index on Wikipedia: \"A scientist has index h if h of his/her N papers have at least h citations each, and the other N − h papers have no more than h citations each.\"\n",
    "\n",
    "Example:\n",
    "\n",
    "Input: citations = [3,0,6,1,5]\n",
    "Output: 3 \n",
    "Explanation: [3,0,6,1,5] means the researcher has 5 papers in total and each of them had \n",
    "             received 3, 0, 6, 1, 5 citations respectively. \n",
    "             Since the researcher has 3 papers with at least 3 citations each and the remaining \n",
    "             two with no more than 3 citations each, her h-index is 3.\n",
    "Note: If there are several possible values for h, the maximum one is taken as the h-index."
   ]
  },
  {
   "cell_type": "code",
   "execution_count": null,
   "metadata": {},
   "outputs": [],
   "source": [
    "def hIndex(citations):\n",
    "    \"\"\"\n",
    "    :type citations: List[int]\n",
    "    :rtype: int\n",
    "    \"\"\"\n",
    "#     M1: Wrong\n",
    "#     lenth = len(citations)\n",
    "#     cit_sort = sorted(citations, reverse=True)   \n",
    "#     for i, value in enumerate(cit_sort):\n",
    "#         if value <= lenth and value >= i+1 and cit_sort[i+1] < i+1:\n",
    "#             return i+1\n",
    "#     for i in range(lenth-1):\n",
    "#         if cit_sort[i] <= lenth and cit_sort[i] >=i+1 and cit_sort[i+1] < i+1:\n",
    "#             return i+1\n",
    "#     return citations[0]\n",
    "\n",
    "# M2: Runtime: 36 ms, faster than 99.53%\n",
    "#   use the normal order first rather than ther reverse order. \n",
    "    citations.sort()\n",
    "    lenth = len(citations)\n",
    "    for i in range(lenth):\n",
    "        if citations[i] >= lenth-i:\n",
    "            return lenth - i\n",
    "    return 0\n",
    "    "
   ]
  },
  {
   "cell_type": "code",
   "execution_count": null,
   "metadata": {},
   "outputs": [],
   "source": [
    "citations = [4,0,6,1,5]\n",
    "ans = hIndex(citations)\n",
    "ans"
   ]
  },
  {
   "cell_type": "markdown",
   "metadata": {},
   "source": [
    "### 275. H-Index II, T1\n",
    "\n",
    "> binary search\n",
    "\n",
    "Given an array of citations sorted in ascending order (each citation is a non-negative integer) of a researcher, write a function to compute the researcher's h-index.\n",
    "\n",
    "According to the definition of h-index on Wikipedia: \"A scientist has index h if h of his/her N papers have at least h citations each, and the other N − h papers have no more than h citations each.\"\n",
    "\n",
    "Example:\n",
    "\n",
    "Input: citations = [0,1,3,5,6]\n",
    "Output: 3 \n",
    "Explanation: [0,1,3,5,6] means the researcher has 5 papers in total and each of them had \n",
    "             received 0, 1, 3, 5, 6 citations respectively. \n",
    "             Since the researcher has 3 papers with at least 3 citations each and the remaining \n",
    "             two with no more than 3 citations each, her h-index is 3.\n",
    "Note:\n",
    "\n",
    "If there are several possible values for h, the maximum one is taken as the h-index.\n",
    "\n",
    "Follow up:\n",
    "\n",
    "This is a follow up problem to H-Index, where citations is now guaranteed to be sorted in ascending order.\n",
    "Could you solve it in logarithmic time complexity?"
   ]
  },
  {
   "cell_type": "code",
   "execution_count": null,
   "metadata": {},
   "outputs": [],
   "source": [
    "def hIndex(citations):\n",
    "    \"\"\"\n",
    "    :type citations: List[int]\n",
    "    :rtype: int\n",
    "    \"\"\"\n",
    "# M1, O(N)\n",
    "#     lenth = len(citations)\n",
    "#     for i in range(lenth):\n",
    "#         if citations[i] >= lenth - i:\n",
    "#             return lenth-i\n",
    "#     return 0\n",
    "\n",
    "# M2, 40 ms, faster than 100.00% , O(logN)\n",
    "# find the fist item which the value is >= length -i     \n",
    "    length = len(citations)\n",
    "    start, end = 0, length-1\n",
    "    \n",
    "    # here the stop condition is less equal not just less, so in the last loop, start is bigger than stop \n",
    "    # can indicate the index which we need\n",
    "    while start <= end:\n",
    "        mid_point = (start + end) // 2\n",
    "        # if there luckly we find a value that equal the len-i, then that's answer.\n",
    "        # otherwise the answer is len- index which is the last start.\n",
    "        if citations[mid_point] == length - mid_point:\n",
    "            return length - mid_point\n",
    "        elif citations[mid_point] > length - mid_point:\n",
    "            end = mid_point - 1\n",
    "        else:\n",
    "            start = mid_point + 1\n",
    "    return length - start"
   ]
  },
  {
   "cell_type": "code",
   "execution_count": null,
   "metadata": {},
   "outputs": [],
   "source": [
    "citations = [0,1,4,5,5,6]\n",
    "ans = hIndex(citations)\n",
    "ans"
   ]
  },
  {
   "cell_type": "markdown",
   "metadata": {},
   "source": [
    "### 220. Contains Duplicate III\n",
    "\n",
    "Given an array of integers, find out whether there are two distinct indices i and j in the array such that the absolute difference between nums[i] and nums[j] is at most t and the absolute difference between i and j is at most k.\n",
    "\n",
    "Example 1:\n",
    "\n",
    "Input: nums = [1,2,3,1], k = 3, t = 0\n",
    "Output: true\n",
    "Example 2:\n",
    "\n",
    "Input: nums = [1,0,1,1], k = 1, t = 2\n",
    "Output: true\n",
    "Example 3:\n",
    "\n",
    "Input: nums = [1,5,9,1,5,9], k = 2, t = 3 \n",
    "Output: false"
   ]
  },
  {
   "cell_type": "code",
   "execution_count": null,
   "metadata": {},
   "outputs": [],
   "source": [
    "def containsNearbyAlmostDuplicate(self, nums, k, t):\n",
    "    \"\"\"\n",
    "    :type nums: List[int]\n",
    "    :type k: int\n",
    "    :type t: int\n",
    "    :rtype: bool\n",
    "    \"\"\"\n",
    "    dic = {}\n",
    "    for index, value in enumerate(nums):\n",
    "        if value not in dic:\n",
    "            dic[value] = index\n",
    "        "
   ]
  },
  {
   "cell_type": "markdown",
   "metadata": {},
   "source": [
    "### 15. 3Sum\n",
    "\n",
    "Given an array nums of n integers, are there elements a, b, c in nums such that a + b + c = 0? Find all unique triplets in the array which gives the sum of zero.\n",
    "\n",
    "Note:\n",
    "\n",
    "The solution set must not contain duplicate triplets.\n",
    "\n",
    "Example:\n",
    "\n",
    "Given array nums = [-1, 0, 1, 2, -1, -4],\n",
    "\n",
    "A solution set is:\n",
    "[\n",
    "  [-1, 0, 1],\n",
    "  [-1, -1, 2]\n",
    "]"
   ]
  },
  {
   "cell_type": "code",
   "execution_count": null,
   "metadata": {},
   "outputs": [],
   "source": [
    "def threeSum(nums):\n",
    "    \"\"\"\n",
    "    :type nums: List[int]\n",
    "    :rtype: List[List[int]]\n",
    "    \"\"\"\n",
    "    # M1 Runtime: 776 ms, faster than 90.12% \n",
    "    # fix first , two pointer for the second and third\n",
    "    ans = []\n",
    "    nums.sort()\n",
    "    for i in range(len(nums)-2):\n",
    "        if i> 0 and nums[i] == nums[i-1]:\n",
    "            continue\n",
    "        \n",
    "        left, right = i+1, len(nums) - 1\n",
    "        \n",
    "        while left < right:\n",
    "            #print(i,left,right)\n",
    "            total = nums[i] + nums[left] + nums[right]\n",
    "            if total < 0:\n",
    "                left += 1\n",
    "            elif total > 0:\n",
    "                right -= 1\n",
    "            else:\n",
    "                ans.append([nums[i],nums[left],nums[right]])\n",
    "                \n",
    "                while left < right and nums[left] == nums[left+1]:\n",
    "                    left += 1\n",
    "                while left < right and nums[right] == nums[right-1]:\n",
    "                    right -= 1\n",
    "                left += 1\n",
    "                right -= 1\n",
    "    return ans              \n",
    "                "
   ]
  },
  {
   "cell_type": "code",
   "execution_count": null,
   "metadata": {},
   "outputs": [],
   "source": [
    "nums = [-1, 0, 1, 2, -1, -4]\n",
    "ans = threeSum(nums)\n",
    "ans"
   ]
  },
  {
   "cell_type": "markdown",
   "metadata": {},
   "source": [
    "## HARD"
   ]
  },
  {
   "cell_type": "markdown",
   "metadata": {},
   "source": [
    "### [x] 239. Sliding Window Maximum\n",
    "\n",
    "```\n",
    "Given an array nums, there is a sliding window of size k which is moving from the very left of the array to the very right. You can only see the k numbers in the window. Each time the sliding window moves right by one position. Return the max sliding window.\n",
    "\n",
    "Example:\n",
    "\n",
    "Input: nums = [1,3,-1,-3,5,3,6,7], and k = 3\n",
    "Output: [3,3,5,5,6,7] \n",
    "Explanation: \n",
    "\n",
    "Window position                Max\n",
    "---------------               -----\n",
    "[1  3  -1] -3  5  3  6  7       3\n",
    " 1 [3  -1  -3] 5  3  6  7       3\n",
    " 1  3 [-1  -3  5] 3  6  7       5\n",
    " 1  3  -1 [-3  5  3] 6  7       5\n",
    " 1  3  -1  -3 [5  3  6] 7       6\n",
    " 1  3  -1  -3  5 [3  6  7]      7\n",
    "Note:\n",
    "You may assume k is always valid, 1 ≤ k ≤ input array's size for non-empty array.\n",
    "\n",
    "Follow up:\n",
    "Could you solve it in linear time?\n",
    "\n",
    "```"
   ]
  },
  {
   "cell_type": "code",
   "execution_count": 1,
   "metadata": {},
   "outputs": [],
   "source": [
    "from collections import deque\n",
    "\n",
    "class Solution(object):\n",
    "#     def maxSlidingWindow(self, nums, k):\n",
    "#         \"\"\"\n",
    "#         :type nums: List[int]\n",
    "#         :type k: int\n",
    "#         :rtype: List[int]\n",
    "#         \"\"\"\n",
    "#         ans = []\n",
    "#         i = 0\n",
    "#         while i+k <=len(nums):\n",
    "#             ans.append(max(nums[i:i+k]))\n",
    "#             i += 1\n",
    "#         return ans\n",
    "\n",
    "    def maxSlidingWindow(self, nums, k):\n",
    "        \n",
    "        if not nums:\n",
    "            return []\n",
    "        \n",
    "        if k == 0:\n",
    "            return nums\n",
    "        \n",
    "        result = []\n",
    "        deque = []\n",
    "        \n",
    "        # opeate on the index rather than the value.\n",
    "        # Process the first k elements.\n",
    "        for i in range(k):\n",
    "            while deque:\n",
    "                if nums[i] > nums[deque[-1]]:\n",
    "                    deque.pop()\n",
    "                else:\n",
    "                    break                \n",
    "            deque.append(i)\n",
    "        \n",
    "        for i in range(k,len(nums)):\n",
    "            # record the result form the kth postion\n",
    "            result.append(nums[deque[0]])\n",
    "            \n",
    "            # drop the index out window left boarder\n",
    "            # this is a reason for using index rather than value\n",
    "            if deque[0] < i-k + 1:\n",
    "                deque.pop(0)\n",
    "            \n",
    "            # Keep the eligible index and value on the deque left\n",
    "            while deque:\n",
    "                if nums[i] > nums[deque[-1]]:\n",
    "                    deque.pop()\n",
    "                else:\n",
    "                    break\n",
    "            \n",
    "            deque.append(i)\n",
    "        \n",
    "        # Don't forget the last window\n",
    "        result.append(nums[deque[0]])\n",
    "        \n",
    "        return result\n",
    "            \n",
    "            "
   ]
  },
  {
   "cell_type": "code",
   "execution_count": 2,
   "metadata": {},
   "outputs": [
    {
     "data": {
      "text/plain": [
       "[3, 3, 5, 5, 6, 7]"
      ]
     },
     "execution_count": 2,
     "metadata": {},
     "output_type": "execute_result"
    }
   ],
   "source": [
    "nums = [1,3,-1,-3,5,3,6,7]\n",
    "k = 3\n",
    "obj = Solution()\n",
    "ans = obj.maxSlidingWindow(nums,k)\n",
    "ans"
   ]
  },
  {
   "cell_type": "code",
   "execution_count": null,
   "metadata": {},
   "outputs": [],
   "source": []
  },
  {
   "cell_type": "markdown",
   "metadata": {},
   "source": [
    "### H_Array Manipulation"
   ]
  },
  {
   "cell_type": "code",
   "execution_count": null,
   "metadata": {},
   "outputs": [],
   "source": [
    "# Complete the arrayManipulation function below.\n",
    "\n",
    "# over time limit\n",
    "# def arrayManipulation(n, queries):\n",
    "    \n",
    "#     arr = [0] * n\n",
    "    \n",
    "#     for query in queries:\n",
    "#         a,b,k = query[0],query[1],query[2]\n",
    "#         for i in range(n+1):\n",
    "#             if i >= a-1 and i < b:\n",
    "#                 arr[i] += k\n",
    "#     return max(arr)    \n",
    "\n",
    "\"\"\"\n",
    "see, you are adding sum to a[p] and adding negative sum at a[q+1]. \n",
    "which make sure that when you add element from a[p] to a[q] sum is added only once \n",
    "and it should be subtracted at a[q+1] as this sum span from p to q only.\n",
    "Rest array element are either 0 or some other input sum. max of addition will be output.\n",
    "refer to above code for p, q, and sum.\n",
    "\"\"\"\n",
    "def arrayManipulation(n, queries):\n",
    "    arr = [0] * (n+2) # the actual arr index from 1.\n",
    "    for query in queries:\n",
    "        a,b,k = query[0],query[1],query[2]\n",
    "        arr[a] +=k\n",
    "        arr[b+1] -=k # this is for make sure \n",
    "        \n",
    "    ans = 0\n",
    "    cut = 0\n",
    "    for x in arr:\n",
    "        cut += x\n",
    "        ans = max(ans,cut)\n",
    "    \n",
    "    return ans"
   ]
  },
  {
   "cell_type": "code",
   "execution_count": null,
   "metadata": {},
   "outputs": [],
   "source": [
    "n = 5\n",
    "queries = [[1,2,100],[2,5,100],[3,4,100]]\n",
    "result = arrayManipulation(n,queries)\n",
    "result"
   ]
  },
  {
   "cell_type": "code",
   "execution_count": null,
   "metadata": {},
   "outputs": [],
   "source": [
    "arr = [0] * 5\n",
    "# add(arr[2:6] + 100)\n",
    "ar = np.array(arr)\n",
    "ar"
   ]
  },
  {
   "cell_type": "code",
   "execution_count": null,
   "metadata": {},
   "outputs": [],
   "source": [
    "def main():\n",
    "    n, m = map(int, input().split())\n",
    "    xs = [0] * (n + 2)\n",
    "\n",
    "    for _ in range(m):\n",
    "        a, b, k = map(int, input().split())\n",
    "        xs[a] += k\n",
    "        xs[b + 1] -= k\n",
    "\n",
    "    answer = 0\n",
    "    current = 0\n",
    "\n",
    "    for x in xs:\n",
    "        current += x\n",
    "        answer = max(answer, current)\n",
    "\n",
    "    print(answer)\n",
    "\n",
    "\n",
    "if __name__ == '__main__':\n",
    "    main()"
   ]
  },
  {
   "cell_type": "markdown",
   "metadata": {},
   "source": [
    "### 41. First Missing Positive\n",
    "\n",
    "> Hard\n",
    "\n",
    "Given an unsorted integer array, find the smallest missing positive integer.\n",
    "\n",
    "Example 1:\n",
    "Input: [1,2,0]\n",
    "Output: 3\n",
    "\n",
    "Example 2:\n",
    "Input: [3,4,-1,1]\n",
    "Output: 2\n",
    "\n",
    "Example 3:\n",
    "Input: [7,8,9,11,12]\n",
    "Output: 1\n",
    "\n",
    "Note:\n",
    "\n",
    "Your algorithm should run in O(n) time and uses constant extra space."
   ]
  },
  {
   "cell_type": "code",
   "execution_count": null,
   "metadata": {},
   "outputs": [],
   "source": [
    "# TC: O(n), SC: O(1)\n",
    "\n",
    "def firstMissingPositive(nums):\n",
    "    \"\"\"\n",
    "    :type nums: List[int]\n",
    "    :rtype: int\n",
    "    \"\"\" \n",
    "    \n",
    "    lenth = len(nums)\n",
    "    \n",
    "    def swap(nums, i, j):\n",
    "        temp = nums[i]\n",
    "        nums[i] = nums[j]\n",
    "        nums[j] = temp\n",
    "    \n",
    "    for i in range(lenth):\n",
    "        while nums[i] > 0 and nums[i] <= lenth and  nums[i] != nums[nums[i]-1]:\n",
    "            # can not use this for exchange item, because here nums is not changed\n",
    "            #nums[i], nums[nums[i] -1] = nums[nums[i] - 1], nums[i]\n",
    "            \n",
    "            swap(nums,i,nums[i] - 1)\n",
    "            \n",
    "    print(nums)\n",
    "    for i in range(lenth):\n",
    "        if nums[i] != i+1:\n",
    "            return i+1\n",
    "    \n",
    "    return lenth+1"
   ]
  },
  {
   "cell_type": "code",
   "execution_count": null,
   "metadata": {},
   "outputs": [],
   "source": [
    "#nums = [7,8,9,11,12]\n",
    "nums1= [3,4,-1,1]\n",
    "nums2 = [1,2,0]\n",
    "ans= firstMissingPositive(nums1)\n",
    "ans"
   ]
  },
  {
   "cell_type": "code",
   "execution_count": null,
   "metadata": {},
   "outputs": [],
   "source": []
  }
 ],
 "metadata": {
  "kernelspec": {
   "display_name": "Python 3",
   "language": "python",
   "name": "python3"
  },
  "language_info": {
   "codemirror_mode": {
    "name": "ipython",
    "version": 3
   },
   "file_extension": ".py",
   "mimetype": "text/x-python",
   "name": "python",
   "nbconvert_exporter": "python",
   "pygments_lexer": "ipython3",
   "version": "3.7.0"
  },
  "toc": {
   "base_numbering": 1,
   "nav_menu": {},
   "number_sections": true,
   "sideBar": true,
   "skip_h1_title": false,
   "title_cell": "Table of Contents",
   "title_sidebar": "Contents",
   "toc_cell": false,
   "toc_position": {
    "height": "calc(100% - 180px)",
    "left": "10px",
    "top": "150px",
    "width": "461.925px"
   },
   "toc_section_display": true,
   "toc_window_display": true
  }
 },
 "nbformat": 4,
 "nbformat_minor": 2
}
