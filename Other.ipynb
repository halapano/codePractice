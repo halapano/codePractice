{
 "cells": [
  {
   "cell_type": "markdown",
   "metadata": {},
   "source": [
    "# Recursion and Backtracking"
   ]
  },
  {
   "cell_type": "markdown",
   "metadata": {},
   "source": [
    "## Easy"
   ]
  },
  {
   "cell_type": "markdown",
   "metadata": {},
   "source": [
    "### Recursion: Fibonacci Numbers"
   ]
  },
  {
   "cell_type": "code",
   "execution_count": 18,
   "metadata": {},
   "outputs": [],
   "source": [
    "def fibonacci(n):\n",
    "    \n",
    "    if n == 0:\n",
    "        return 0\n",
    "    \n",
    "    if n == 1:\n",
    "        return 1\n",
    "    \n",
    "    ans = fibonacci(n-1) + fibonacci(n-2)\n",
    "    return ans"
   ]
  },
  {
   "cell_type": "code",
   "execution_count": 19,
   "metadata": {},
   "outputs": [
    {
     "data": {
      "text/plain": [
       "5"
      ]
     },
     "execution_count": 19,
     "metadata": {},
     "output_type": "execute_result"
    }
   ],
   "source": [
    "n = 5\n",
    "ans = fibonacci(n)\n",
    "ans"
   ]
  },
  {
   "cell_type": "markdown",
   "metadata": {},
   "source": [
    "## Medium"
   ]
  },
  {
   "cell_type": "markdown",
   "metadata": {},
   "source": [
    "## [ ] Crossword Puzzle"
   ]
  },
  {
   "cell_type": "code",
   "execution_count": null,
   "metadata": {},
   "outputs": [],
   "source": [
    "def crosswordPuzzle(crossword, words):\n",
    "    "
   ]
  },
  {
   "cell_type": "code",
   "execution_count": null,
   "metadata": {},
   "outputs": [],
   "source": []
  },
  {
   "cell_type": "markdown",
   "metadata": {},
   "source": [
    "## Recursive Digit Sum"
   ]
  },
  {
   "cell_type": "code",
   "execution_count": null,
   "metadata": {},
   "outputs": [],
   "source": [
    "def superDigit(n, k):\n",
    "    \n",
    "#     n = sum(map(int,str(n))) * k\n",
    "#     def super_digit(n):\n",
    "#         while n > 9:\n",
    "#             n = sum(map(int,str(n)))\n",
    "#         return n\n",
    "        \n",
    "        \n",
    "#     return super_digit(n)\n",
    "\n",
    "    x = n * k % 9\n",
    "    return x if x else 9\n",
    "    "
   ]
  },
  {
   "cell_type": "code",
   "execution_count": null,
   "metadata": {},
   "outputs": [],
   "source": [
    "n = 9875\n",
    "k = 4\n",
    "ans = superDigit(n,k)\n",
    "ans"
   ]
  },
  {
   "cell_type": "code",
   "execution_count": null,
   "metadata": {},
   "outputs": [],
   "source": [
    "digit = list(int(x) for x in str(n))\n",
    "digit2 = map(int,str(n))\n",
    "sum(digit2)"
   ]
  },
  {
   "cell_type": "markdown",
   "metadata": {},
   "source": [
    "### Recursion: Davis' Staircase\n",
    "- DP"
   ]
  },
  {
   "cell_type": "code",
   "execution_count": null,
   "metadata": {},
   "outputs": [],
   "source": [
    "def stepPerms(n):\n",
    "    \n",
    "    dp = [0] * max(3, n)\n",
    "    dp[0] = 1\n",
    "    dp[1] = 2\n",
    "    dp[2] = 4\n",
    "    \n",
    "    for i in range(3,n):\n",
    "        dp[i] = dp[i-1] + dp[i-2]+dp[i-3]\n",
    "    \n",
    "    return dp[n-1] % (10000000007)\n",
    "    \n",
    "    "
   ]
  },
  {
   "cell_type": "code",
   "execution_count": null,
   "metadata": {},
   "outputs": [],
   "source": [
    "n = 5\n",
    "ans = stepPerms(5)\n",
    "ans"
   ]
  },
  {
   "cell_type": "markdown",
   "metadata": {},
   "source": [
    "# Other"
   ]
  },
  {
   "cell_type": "markdown",
   "metadata": {},
   "source": [
    "## Medium"
   ]
  },
  {
   "cell_type": "markdown",
   "metadata": {},
   "source": [
    "### Friend Circle Queries\n",
    "- https://www.hackerearth.com/zh/practice/notes/disjoint-set-union-union-find/"
   ]
  },
  {
   "cell_type": "code",
   "execution_count": 27,
   "metadata": {},
   "outputs": [],
   "source": [
    "\n",
    "class Disjoinset:\n",
    "    \n",
    "    def __init__(self):\n",
    "        self.parent = {}\n",
    "        self.size = {}\n",
    "        \n",
    "    def join(self,x,y):\n",
    "        self.parent[x] = self.parent.get(x,x)\n",
    "        self.parent[y] = self.parent.get(y,y)\n",
    "        self.size[x] = self.size.get(x,1)\n",
    "        self.size[y] = self.size.get(y,1)\n",
    "        \n",
    "        px = self.root(x)\n",
    "        py = self.root(y)\n",
    "        \n",
    "        if px != py:\n",
    "            if self.size[px] > self.size[py]:\n",
    "                self.parent[py] = self.parent[px]\n",
    "                self.size[px] += self.size[py]\n",
    "            else:\n",
    "                self.parent[px] = self.parent[py] # self.parent[py] == py\n",
    "                self.size[py] += self.size[px]    \n",
    "        \n",
    "        return max(self.size[px],self.size[py])\n",
    "    \n",
    "    def root(self,x):\n",
    "        # the root node: parent is itself\n",
    "        while self.parent[x] != x:\n",
    "            x = self.parent[x]\n",
    "        return x\n",
    "        \n",
    "\n",
    "def maxCircle(queries):\n",
    "           \n",
    "    ds = Disjoinset()\n",
    "    max_size = 0\n",
    "    for i,j in queries:\n",
    "        size = ds.join(i,j)\n",
    "        max_size = max(max_size,size)\n",
    "        print(max_size)\n",
    "\n",
    "    \n",
    "\n",
    "        "
   ]
  },
  {
   "cell_type": "code",
   "execution_count": 28,
   "metadata": {},
   "outputs": [
    {
     "name": "stdout",
     "output_type": "stream",
     "text": [
      "2\n",
      "2\n",
      "3\n",
      "3\n",
      "6\n",
      "6\n",
      "8\n",
      "8\n"
     ]
    }
   ],
   "source": [
    "#queries = [(1,2),(3,4),(1,3),(5,7),(5,6),(7,4)]\n",
    "queries = [(6,4),(5,9),(8,5),(4,1),(1,5),(7,2),(4,2),(7,6)]\n",
    "ans = maxCircle(queries)\n",
    "ans"
   ]
  },
  {
   "cell_type": "code",
   "execution_count": null,
   "metadata": {},
   "outputs": [],
   "source": []
  }
 ],
 "metadata": {
  "kernelspec": {
   "display_name": "Python 3",
   "language": "python",
   "name": "python3"
  },
  "language_info": {
   "codemirror_mode": {
    "name": "ipython",
    "version": 3
   },
   "file_extension": ".py",
   "mimetype": "text/x-python",
   "name": "python",
   "nbconvert_exporter": "python",
   "pygments_lexer": "ipython3",
   "version": "3.7.3"
  },
  "toc": {
   "base_numbering": 1,
   "nav_menu": {},
   "number_sections": true,
   "sideBar": true,
   "skip_h1_title": false,
   "title_cell": "Table of Contents",
   "title_sidebar": "Contents",
   "toc_cell": false,
   "toc_position": {},
   "toc_section_display": true,
   "toc_window_display": true
  }
 },
 "nbformat": 4,
 "nbformat_minor": 2
}
