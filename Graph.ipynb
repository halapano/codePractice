{
 "cells": [
  {
   "cell_type": "markdown",
   "metadata": {},
   "source": [
    "# Graph\n",
    "- directed vs undirected\n",
    "- count(vertex) - count(edge) = 1"
   ]
  },
  {
   "cell_type": "markdown",
   "metadata": {},
   "source": [
    "## Easy"
   ]
  },
  {
   "cell_type": "markdown",
   "metadata": {},
   "source": [
    "### BFS"
   ]
  },
  {
   "cell_type": "code",
   "execution_count": null,
   "metadata": {},
   "outputs": [],
   "source": [
    "G = {\n",
    "    \"A\": [\"B\", \"C\"],\n",
    "    \"B\": [\"A\", \"D\", \"E\"],\n",
    "    \"C\": [\"A\", \"F\"],\n",
    "    \"D\": [\"B\"],\n",
    "    \"E\": [\"B\", \"F\"],\n",
    "    \"F\": [\"C\", \"E\"],\n",
    "}\n",
    "\n",
    "\n",
    "def bfs(graph, start):\n",
    "    \"\"\"\n",
    "    >>> ''.join(sorted(bfs(G, 'A')))\n",
    "    'ABCDEF'\n",
    "    \"\"\"\n",
    "    explored, queue = set(), [start]  # collections.deque([start])\n",
    "    explored.add(start)\n",
    "    while queue:\n",
    "        v = queue.pop(0)  # queue.popleft()\n",
    "        for w in graph[v]:\n",
    "            if w not in explored:\n",
    "                explored.add(w)\n",
    "                queue.append(w)\n",
    "    return explored\n",
    "\n",
    "\n",
    "if __name__ == \"__main__\":\n",
    "    print(bfs(G, \"A\"))"
   ]
  },
  {
   "cell_type": "markdown",
   "metadata": {},
   "source": [
    "## Medium"
   ]
  },
  {
   "cell_type": "markdown",
   "metadata": {},
   "source": [
    "### [ ] 133. Clone Graph\n",
    "\n",
    "```\n",
    "Given a reference of a node in a connected undirected graph, return a deep copy (clone) of the graph. Each node in the graph contains a val (int) and a list (List[Node]) of its neighbors.\n",
    "\n",
    "Input:\n",
    "{\"$id\":\"1\",\"neighbors\":[{\"$id\":\"2\",\"neighbors\":[{\"$ref\":\"1\"},{\"$id\":\"3\",\"neighbors\":[{\"$ref\":\"2\"},{\"$id\":\"4\",\"neighbors\":[{\"$ref\":\"3\"},{\"$ref\":\"1\"}],\"val\":4}],\"val\":3}],\"val\":2},{\"$ref\":\"4\"}],\"val\":1}\n",
    "\n",
    "Explanation:\n",
    "Node 1's value is 1, and it has two neighbors: Node 2 and 4.\n",
    "Node 2's value is 2, and it has two neighbors: Node 1 and 3.\n",
    "Node 3's value is 3, and it has two neighbors: Node 2 and 4.\n",
    "Node 4's value is 4, and it has two neighbors: Node 1 and 3.\n",
    "\n",
    "```"
   ]
  },
  {
   "cell_type": "code",
   "execution_count": null,
   "metadata": {},
   "outputs": [],
   "source": []
  },
  {
   "cell_type": "code",
   "execution_count": null,
   "metadata": {},
   "outputs": [],
   "source": []
  },
  {
   "cell_type": "markdown",
   "metadata": {},
   "source": [
    "### 200. Number of Islands\n",
    "\n",
    "```\n",
    "Given a 2d grid map of '1's (land) and '0's (water), count the number of islands. An island is surrounded by water and is formed by connecting adjacent lands horizontally or vertically. You may assume all four edges of the grid are all surrounded by water.\n",
    "\n",
    "Example 1:\n",
    "\n",
    "Input:\n",
    "11110\n",
    "11010\n",
    "11000\n",
    "00000\n",
    "\n",
    "Output: 1\n",
    "Example 2:\n",
    "\n",
    "Input:\n",
    "11000\n",
    "11000\n",
    "00100\n",
    "00011\n",
    "\n",
    "Output: 3\n",
    "\n",
    "```"
   ]
  },
  {
   "cell_type": "code",
   "execution_count": 14,
   "metadata": {},
   "outputs": [],
   "source": [
    "def get_area(grid,x,y):\n",
    "\n",
    "    dx = [0,1,0,-1]\n",
    "    dy = [1,0,-1,0]    \n",
    "\n",
    "    \n",
    "    \n",
    "    if grid[x][y]:\n",
    "        queue = [(x,y)]\n",
    "    else:\n",
    "        queue = []\n",
    "    \n",
    "    area = 0\n",
    "    while queue:\n",
    "        area += 1\n",
    "        \n",
    "        # pop first, then append\n",
    "        x,y = queue.pop(0)\n",
    "        for i,j in zip(dx,dy):\n",
    "            if 0 <= x+i <len(grid) and 0<= y+j <len(grid[0]):\n",
    "                if grid[x+i][y+j] == 1:\n",
    "                    queue.append((x+i,y+j))\n",
    "                    grid[x+i][y+j] = 0       \n",
    "    return area               \n",
    "    \n",
    "\n",
    "def numIslands(grid):\n",
    "    areas = []\n",
    "    for x in range(len(grid)):\n",
    "        for y in range(len(grid[0])):\n",
    "            area = get_area(grid,x,y)\n",
    "            if area > 0:\n",
    "                areas.append(area)\n",
    "    \n",
    "    return len(areas)\n",
    "    \n",
    "    "
   ]
  },
  {
   "cell_type": "code",
   "execution_count": 15,
   "metadata": {},
   "outputs": [
    {
     "data": {
      "text/plain": [
       "1"
      ]
     },
     "execution_count": 15,
     "metadata": {},
     "output_type": "execute_result"
    }
   ],
   "source": [
    "grid = [[1,1,1,1,0],\n",
    "        [1,1,0,1,0],\n",
    "        [1,1,0,0,0],\n",
    "        [0,0,0,0,0]]\n",
    "ans = numIslands(grid)\n",
    "ans"
   ]
  },
  {
   "cell_type": "markdown",
   "metadata": {},
   "source": [
    "### Find the nearest clone\n",
    "\n"
   ]
  },
  {
   "cell_type": "code",
   "execution_count": null,
   "metadata": {},
   "outputs": [],
   "source": [
    "# Setting the default_factory to set makes the defaultdict useful for building a dictionary of sets:\n",
    "from collections import defaultdict,deque\n",
    "\n",
    "s = [('red', 1), ('blue', 2), ('red', 3), ('blue', 4), ('red', 1), ('blue', 4)]\n",
    "d = defaultdict(set)\n",
    "for k, v in s:\n",
    "    d[k].add(v)\n",
    "sorted(d.items())"
   ]
  },
  {
   "cell_type": "code",
   "execution_count": null,
   "metadata": {},
   "outputs": [],
   "source": [
    "def findShortest(graph_nodes, graph_from, graph_to, ids, val):\n",
    "# add extra cell to left to set the node start from 1.\n",
    "# use dict store map, use queue store same value node. \n",
    "    \n",
    "    n = graph_nodes\n",
    "    g = defaultdict(set)\n",
    "    for f,t in zip(graph_from,graph_to):\n",
    "        g[f].add(t)\n",
    "        g[t].add(f)\n",
    "        \n",
    "    visited = [False] * (n+1)\n",
    "    distance = [-1] * (n+1)\n",
    "    queue = deque()\n",
    "    \n",
    "    color = [0] + ids\n",
    "    \n",
    "    for i in range(1,n+1):\n",
    "        if color[i] == val:\n",
    "            distance[i] = 0\n",
    "            queue.appendleft(i)\n",
    "    \n",
    "    while queue:\n",
    "        k = queue.pop()\n",
    "        visited[k] = True\n",
    "        for v in g[k]:\n",
    "            if not visited[v]:\n",
    "                if distance[v] !=  -1:\n",
    "                    print(k,v)\n",
    "                    return distance[k] + distance[v] + 1\n",
    "                else:\n",
    "                    distance[v] = distance[k] + 1\n",
    "                    queue.appendleft(v)\n",
    "    \n",
    "    return -1\n",
    "    \n",
    "    "
   ]
  },
  {
   "cell_type": "code",
   "execution_count": null,
   "metadata": {},
   "outputs": [],
   "source": [
    "gn = 5\n",
    "gf = [1,1,4,4]\n",
    "gt = [2,3,2,5]\n",
    "ids = [1,2,2,2,1]\n",
    "val = 1\n",
    "ans = findShortest(gn,gf,gt,ids,val)\n",
    "ans"
   ]
  },
  {
   "cell_type": "code",
   "execution_count": null,
   "metadata": {},
   "outputs": [],
   "source": [
    "q = deque([1,2,3,4])\n",
    "q.pop()"
   ]
  },
  {
   "cell_type": "markdown",
   "metadata": {},
   "source": [
    "## Hard"
   ]
  },
  {
   "cell_type": "markdown",
   "metadata": {},
   "source": [
    "### BFS: Shortest Reach in a Graph"
   ]
  },
  {
   "cell_type": "code",
   "execution_count": null,
   "metadata": {},
   "outputs": [],
   "source": [
    "from collections import defaultdict,deque\n",
    "\n",
    "class Graph:\n",
    "    \n",
    "    def __init__(self,n):\n",
    "        self.nn = n\n",
    "        self.graph = defaultdict(set)\n",
    "        \n",
    "    def connect(self,vf,vt):\n",
    "        self.graph[vf].add(vt)\n",
    "        self.graph[vt].add(vf)\n",
    "    \n",
    "    def find_all_distances(self,start):\n",
    "        distance = [-1] * self.nn\n",
    "        distance[start] = 0\n",
    "        \n",
    "        visited = [False] * self.nn\n",
    "        queue = deque()\n",
    "        \n",
    "        queue.appendleft(start)\n",
    "        \n",
    "        while queue:\n",
    "            v = queue.pop()\n",
    "            visited[v] = True\n",
    "            for i in self.graph[v]:\n",
    "                \n",
    "                #if not visited[i]: ?? Not work by check visited\n",
    "                if distance[i] == -1:\n",
    "                    queue.appendleft(i)\n",
    "                    distance[i] = distance[v] + 6\n",
    "        distance.pop(start)\n",
    "        print(' '.join(map(str,distance)))\n",
    "\n",
    "              \n",
    "t = int(input())\n",
    "for i in range(t):\n",
    "    n,m = [int(value) for value in input().split()]\n",
    "    graph = Graph(n)\n",
    "    for i in range(m):\n",
    "        x,y = [int(x) for x in input().split()]\n",
    "        graph.connect(x-1,y-1) \n",
    "    s = int(input())\n",
    "    graph.find_all_distances(s-1)"
   ]
  },
  {
   "cell_type": "code",
   "execution_count": null,
   "metadata": {},
   "outputs": [],
   "source": [
    "int(False)"
   ]
  },
  {
   "cell_type": "markdown",
   "metadata": {},
   "source": [
    "### DFS: Connected Cell in a Grid"
   ]
  },
  {
   "cell_type": "code",
   "execution_count": null,
   "metadata": {},
   "outputs": [],
   "source": [
    "\n",
    "def maxRegion(grid):\n",
    "    m = len(grid)\n",
    "    n = len(grid[0])\n",
    "    \n",
    "    def get_region(i,j):\n",
    "        if 0<=i<m and 0<=j<n and grid[i][j]:\n",
    "            grid[i][j] = 0\n",
    "            return 1+ get_region(i-1,j-1) + get_region(i-1,j) + get_region(i-1,j+1) + get_region(i,j+1) \\\n",
    "                    + get_region(i+1,j+1) + get_region(i+1,j) + get_region(i+1,j-1) + get_region(i,j-1)\n",
    "        \n",
    "        return 0\n",
    "        \n",
    "        \n",
    "    mr = 0\n",
    "    for i in range(m):\n",
    "        for j in range(n):\n",
    "            if grid[i][j]:\n",
    "                mr = max(mr,get_region(i,j))\n",
    "    return mr"
   ]
  },
  {
   "cell_type": "code",
   "execution_count": null,
   "metadata": {},
   "outputs": [],
   "source": [
    "grid = [[1,1,0,0],[0,1,1,0],[0,0,1,0],[1,0,0,0]]\n",
    "ans = maxRegion(grid)\n",
    "ans"
   ]
  },
  {
   "cell_type": "code",
   "execution_count": null,
   "metadata": {},
   "outputs": [],
   "source": []
  }
 ],
 "metadata": {
  "kernelspec": {
   "display_name": "Python 3",
   "language": "python",
   "name": "python3"
  },
  "language_info": {
   "codemirror_mode": {
    "name": "ipython",
    "version": 3
   },
   "file_extension": ".py",
   "mimetype": "text/x-python",
   "name": "python",
   "nbconvert_exporter": "python",
   "pygments_lexer": "ipython3",
   "version": "3.7.3"
  },
  "toc": {
   "base_numbering": 1,
   "nav_menu": {},
   "number_sections": true,
   "sideBar": true,
   "skip_h1_title": false,
   "title_cell": "Table of Contents",
   "title_sidebar": "Contents",
   "toc_cell": false,
   "toc_position": {},
   "toc_section_display": true,
   "toc_window_display": true
  }
 },
 "nbformat": 4,
 "nbformat_minor": 2
}
