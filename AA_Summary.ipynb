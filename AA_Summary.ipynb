{
 "cells": [
  {
   "cell_type": "markdown",
   "metadata": {},
   "source": [
    "# Tips:\n",
    "\n",
    "- 1. Review as many times as you can, since every time, there come out some new idea about the question.\n",
    "- 2. Please review bottom-top, because you write like a stack.\n",
    "- 3. Operation on complex datatype such as Counter.\n",
    "- 4. Recusive.\n",
    "- 5. think start from which kind of data type then algorithm.\n",
    "- 6. think start from the features of languate rather than the brute forth algorithm.\n",
    "- 7. Think start from for loop.\n",
    "- 8. recursion / for loop / a list for store result of each step \n",
    "- 9. consider what's the answer of step1, step2.\n",
    "- 10. Classify the problem by data structure and recursion/loop type\n",
    "    - depend on min and max to step forward 746,\n",
    "- 11. consider add 1 to the head and end for multiple problem\n",
    "   add 0 to the head and end for add problem\n",
    " - 12. for questions like need make choice after each step, just list out the answer of fisrt four of five steps.\n",
    "     - Q: Davis'Staircase"
   ]
  },
  {
   "cell_type": "code",
   "execution_count": null,
   "metadata": {},
   "outputs": [],
   "source": []
  }
 ],
 "metadata": {
  "kernelspec": {
   "display_name": "Python 3",
   "language": "python",
   "name": "python3"
  },
  "language_info": {
   "codemirror_mode": {
    "name": "ipython",
    "version": 3
   },
   "file_extension": ".py",
   "mimetype": "text/x-python",
   "name": "python",
   "nbconvert_exporter": "python",
   "pygments_lexer": "ipython3",
   "version": "3.7.3"
  },
  "toc": {
   "base_numbering": 1,
   "nav_menu": {},
   "number_sections": true,
   "sideBar": true,
   "skip_h1_title": false,
   "title_cell": "Table of Contents",
   "title_sidebar": "Contents",
   "toc_cell": false,
   "toc_position": {},
   "toc_section_display": true,
   "toc_window_display": true
  }
 },
 "nbformat": 4,
 "nbformat_minor": 2
}
